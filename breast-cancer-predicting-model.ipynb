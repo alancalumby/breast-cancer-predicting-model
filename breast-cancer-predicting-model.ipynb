{
 "cells": [
  {
   "cell_type": "markdown",
   "metadata": {
    "papermill": {
     "duration": 0.039162,
     "end_time": "2021-01-21T17:08:09.185751",
     "exception": false,
     "start_time": "2021-01-21T17:08:09.146589",
     "status": "completed"
    },
    "tags": []
   },
   "source": [
    "# Breast cancer predicting model - ML\n",
    "\n",
    "Based on this dataset: https://www.kaggle.com/uciml/breast-cancer-wisconsin-data\n",
    "\n",
    "\n",
    "> Features are computed from a digitized image of a fine needle aspirate (FNA) of a breast mass. They describe characteristics of the cell nuclei present in the image.\n",
    "n the 3-dimensional space is that described in: [K. P. Bennett and O. L. Mangasarian: \"Robust Linear Programming Discrimination of Two Linearly Inseparable Sets\", Optimization Methods and Software 1, 1992, 23-34].\n",
    "\n",
    "> This database is also available through the UW CS ftp server:\n",
    "ftp ftp.cs.wisc.edu\n",
    "cd math-prog/cpo-dataset/machine-learn/WDBC/\n",
    "\n",
    "> Also can be found on UCI Machine Learning Repository: https://archive.ics.uci.edu/ml/datasets/Breast+Cancer+Wisconsin+%28Diagnostic%29"
   ]
  },
  {
   "cell_type": "markdown",
   "metadata": {
    "papermill": {
     "duration": 0.0371,
     "end_time": "2021-01-21T17:08:09.261037",
     "exception": false,
     "start_time": "2021-01-21T17:08:09.223937",
     "status": "completed"
    },
    "tags": []
   },
   "source": [
    "# 0 - Intro\n",
    "\n",
    "> **I started studying Machine learning in Nov/2020 and this is my very first analysis.\n",
    "> All constructive comments will be appreciated.**\n",
    "\n",
    "\n",
    "**My main objective is to build 5 models of machine learning and 1 model of deep learning to predict if the tumor is a benign one or not.\n",
    "Besides, I am going to do the tuning of parameters of each model to get a better accuracy.\n",
    "Then, I perform the comparison of accuracy between these models.**\n",
    "\n",
    "\n",
    "**Table of contents**\n",
    "\n",
    "* [1 - Exploratory data analysis](#1-Exploratory-Data-Analysis)\n",
    "* [2 - Dataset preparation](#2-Dataset-Preparation)\n",
    "* [3 - Create train and test datasets](#3-Create-Train-And-Test-Datasets)\n",
    "* [4 - Models](#4-Models)\n",
    "    - [4.1 - SVM](#4.1-SVM)\n",
    "        - [4.1.1 - SVM - Build a model with default parameters](#4.1.1-Build-A-Model-With-Default-Parameters)\n",
    "        - [4.1.2 - SVM - Parameters tuning](#4.1.2-Parameters-Tuning)\n",
    "        - [4.1.3 - SVM - Confusion Matrix](#4.1.3-Confusion-Matrix)\n",
    "        - [4.1.4 - SVM - Importance of each feature](#4.1.4-Importance-Of-Each-Feature)\n",
    "        - [4.1.5 - SVM - Cross Validation](#4.1.5-Cross-Validation)\n",
    "    - [4.2 - Decision Tree](#4.2-Decision-Tree)\n",
    "        - [4.2.1 - Decision Tree - Build a model with default parameters](#4.2.1-Build-A-Model-With-Default-Parameters)\n",
    "        - [4.2.2 - Decision Tree - Parameters tuning](#4.2.2-Parameters-Tuning)\n",
    "        - [4.2.3 - Decision Tree - Confusion Matrix](#4.2.3-Confusion-Matrix)\n",
    "        - [4.2.4 - Decision Tree - Importance of each feature](#4.2.4-Importance-Of-Each-Feature)\n",
    "        - [4.2.5 - Decision Tree - Cross Validation](#4.2.5-Cross-Validation)\n",
    "    - [4.3 - Logistic regression](#4.3-Logistic-Regression)\n",
    "        - [4.3.1 - Logistic Regression - Build a model with default parameters](#4.3.1-Build-A-Model-With-Default-Parameters)\n",
    "        - [4.3.2 - Logistic Regression - Parameters tuning](#4.3.2-Parameters-Tuning)\n",
    "        - [4.3.3 - Logistic Regression - Confusion Matrix](#4.3.3-Confusion-Matrix)\n",
    "        - [4.3.4 - Logistic Regression - Importance of each feature](#4.3.4-Importance-Of-Each-Feature)\n",
    "        - [4.3.5 - Ligistic Regression - Cross Validation](#4.3.5-Cross-Validation)\n",
    "    - [4.4 - Random forest](#4.4-Random-Forest)\n",
    "        - [4.4.1 - Random Forest - Build a model with default parameters](#4.4.1-Build-A-Model-With-Default-Parameters)\n",
    "        - [4.4.2 - Random Forest - Parameters tuning](#4.4.2-Parameters-Tuning)\n",
    "        - [4.4.3 - Random Forest - Confusion Matrix](#4.4.3-Confusion-Matrix)\n",
    "        - [4.4.4 - Random Forest - Importance of each feature](#4.4.4-Importance-Of-Each-Feature)\n",
    "        - [4.4.5 - Random Forest - Cross Validation](#4.4.5-Cross-Validation)\n",
    "    - [4.5 - KNN](#4.5-KNN)\n",
    "        - [4.5.1 - KNN - Build a model with default parameters](#4.5.1-Build-A-Model-With-Default-Parameters)\n",
    "        - [4.5.2 - KNN - Parameters tuning](#4.5.2-Parameters-Tuning)\n",
    "        - [4.5.3 - KNN - Confusion Matrix](#4.5.3-Confusion-Matrix)\n",
    "        - [4.5.4 - KNN - Importance of each feature](#4.5.4-Importance-Of-Each-Feature)\n",
    "        - [4.5.5 - KNN - Cross Validation](#4.5.5-Cross-Validation)\n",
    "* [5 - Deep learning - Tensorflow and Keras](#5-Deep-Learning-TensorFlow-And-Keras)\n",
    "    - [5.1 - Using test_split](#5.1-Using-Test-Split)\n",
    "    - [5.2 - Using cross validation](#5.2-Using-Cross-Validation)\n",
    "* [6 - Conclusion](#6-Conclusion)\n",
    "* [7 - Appendix](#7-Appendix)"
   ]
  },
  {
   "cell_type": "markdown",
   "metadata": {
    "papermill": {
     "duration": 0.036661,
     "end_time": "2021-01-21T17:08:09.334127",
     "exception": false,
     "start_time": "2021-01-21T17:08:09.297466",
     "status": "completed"
    },
    "tags": []
   },
   "source": [
    "<a id=\"1-Exploratory-Data-Analysis\"></a>\n",
    "# 1 - Exploratory data analysis\n",
    "\n",
    " **Attribute Information:**\n",
    "\n",
    "1) ID number\n",
    "\n",
    "2) Diagnosis (M = malignant, B = benign) \n",
    "\n",
    "3)\n",
    "\n",
    "Ten real-valued features are computed for each cell nucleus:\n",
    "\n",
    "a) radius (mean of distances from center to points on the perimeter)\n",
    "b) texture (standard deviation of gray-scale values)\n",
    "c) perimeter\n",
    "d) area\n",
    "e) smoothness (local variation in radius lengths)\n",
    "f) compactness (perimeter^2 / area - 1.0)\n",
    "g) concavity (severity of concave portions of the contour)\n",
    "h) concave points (number of concave portions of the contour)\n",
    "i) symmetry\n",
    "j) fractal dimension (\"coastline approximation\" - 1)\n",
    "\n",
    "The mean, standard error and \"worst\" or largest (mean of the three\n",
    "largest values) of these features were computed for each image,\n",
    "resulting in 30 features. For instance, field 3 is Mean Radius, field\n",
    "13 is Radius SE, field 23 is Worst Radius.\n",
    "\n",
    "All feature values are recoded with four significant digits.\n",
    "\n",
    "Missing attribute values: none\n",
    "\n",
    "Class distribution: 357 benign, 212 malignant\n",
    "\n",
    "https://www.kaggle.com/uciml/breast-cancer-wisconsin-data"
   ]
  },
  {
   "cell_type": "code",
   "execution_count": 1,
   "metadata": {
    "_cell_guid": "b1076dfc-b9ad-4769-8c92-a6c4dae69d19",
    "_kg_hide-input": true,
    "_uuid": "8f2839f25d086af736a60e9eeb907d3b93b6e0e5",
    "execution": {
     "iopub.execute_input": "2021-01-21T17:08:09.410041Z",
     "iopub.status.busy": "2021-01-21T17:08:09.409450Z",
     "iopub.status.idle": "2021-01-21T17:08:16.618620Z",
     "shell.execute_reply": "2021-01-21T17:08:16.618060Z"
    },
    "papermill": {
     "duration": 7.2462,
     "end_time": "2021-01-21T17:08:16.618743",
     "exception": false,
     "start_time": "2021-01-21T17:08:09.372543",
     "status": "completed"
    },
    "tags": []
   },
   "outputs": [
    {
     "name": "stdout",
     "output_type": "stream",
     "text": [
      "/kaggle/input/breast-cancer-wisconsin-data/data.csv\n"
     ]
    }
   ],
   "source": [
    "# This Python 3 environment comes with many helpful analytics libraries installed\n",
    "# It is defined by the kaggle/python Docker image: https://github.com/kaggle/docker-python\n",
    "# For example, here's several helpful packages to load\n",
    "\n",
    "import numpy as np # linear algebra\n",
    "import pandas as pd # data processing, CSV file I/O (e.g. pd.read_csv)\n",
    "\n",
    "# Input data files are available in the read-only \"../input/\" directory\n",
    "# For example, running this (by clicking run or pressing Shift+Enter) will list all files under the input directory\n",
    "\n",
    "import os\n",
    "for dirname, _, filenames in os.walk('/kaggle/input'):\n",
    "    for filename in filenames:\n",
    "        print(os.path.join(dirname, filename))\n",
    "\n",
    "# You can write up to 20GB to the current directory (/kaggle/working/) that gets preserved as output when you create a version using \"Save & Run All\" \n",
    "# You can also write temporary files to /kaggle/temp/, but they won't be saved outside of the current session\n",
    "\n",
    "import seaborn as sns\n",
    "import matplotlib.pyplot as plt\n",
    "from sklearn.model_selection import train_test_split,cross_val_score,GridSearchCV\n",
    "from sklearn import neighbors\n",
    "from sklearn.ensemble import RandomForestClassifier\n",
    "from sklearn.linear_model import LogisticRegression\n",
    "from sklearn.tree import DecisionTreeClassifier\n",
    "from sklearn.metrics import r2_score,confusion_matrix, accuracy_score, plot_confusion_matrix #utilizada para verificar a acurácia do modelo construído\n",
    "from sklearn.svm import SVC #utilizada para importar o algoritmo SVM\n",
    "#from sklearn.linear_model import LinearRegression\n",
    "#import tensorflow\n",
    "import keras\n",
    "from keras.models import Sequential\n",
    "from keras.layers import Dense, Dropout\n",
    "from keras.wrappers.scikit_learn import KerasClassifier"
   ]
  },
  {
   "cell_type": "code",
   "execution_count": 2,
   "metadata": {
    "_kg_hide-input": true,
    "execution": {
     "iopub.execute_input": "2021-01-21T17:08:16.700656Z",
     "iopub.status.busy": "2021-01-21T17:08:16.699969Z",
     "iopub.status.idle": "2021-01-21T17:08:16.702960Z",
     "shell.execute_reply": "2021-01-21T17:08:16.702455Z"
    },
    "papermill": {
     "duration": 0.04891,
     "end_time": "2021-01-21T17:08:16.703068",
     "exception": false,
     "start_time": "2021-01-21T17:08:16.654158",
     "status": "completed"
    },
    "tags": []
   },
   "outputs": [],
   "source": [
    "#Necessary functions \n",
    "def DisplayConfusionMatrix(_classifier, _title):\n",
    "    df_cm_svm = pd.DataFrame(_classifier, index = [i for i in \"01\"],columns = [i for i in \"01\"])\n",
    "    disp = plot_confusion_matrix(_classifier, x_test, y_test,\n",
    "                                 display_labels = ['Benign','Malignant'],\n",
    "                                 cmap = plt.cm.Blues,\n",
    "                                 normalize = None)\n",
    "    disp.ax_.set_title(_title)\n",
    "\n",
    "    #print(_title)\n",
    "    #print(disp.confusion_matrix)\n",
    "\n",
    "#https://medium.com/analytics-vidhya/evaluating-a-random-forest-model-9d165595ad56\n",
    "\n",
    "def DisplayConfusionMatrix_2(_y_pred, _title):\n",
    "    matrix = confusion_matrix(y_test, _y_pred)\n",
    "    #matrix = matrix.astype('float') / matrix.sum(axis=1)[:, np.newaxis]  # if we want %\n",
    "\n",
    "    # Build the plot\n",
    "    plt.figure(figsize=(7,7))\n",
    "    sns.set(font_scale=1.4)\n",
    "    sns.heatmap(matrix, annot=True, annot_kws={'size':10},\n",
    "            cmap=plt.cm.Blues, linewidths=0.2)\n",
    "\n",
    "    # Add labels to the plot\n",
    "    class_names = ['Benign','Malignant']\n",
    "    tick_marks = np.arange(len(class_names))\n",
    "    tick_marks2 = tick_marks + 0.5\n",
    "    plt.xticks(tick_marks, class_names, rotation=25)\n",
    "    plt.yticks(tick_marks2, class_names, rotation=0)\n",
    "    plt.xlabel('Predicted label')\n",
    "    plt.ylabel('True label')\n",
    "    plt.title(_title)\n",
    "    plt.show()\n",
    "    \n",
    "def FeatureImportance (_model):\n",
    "    fi = pd.DataFrame({'feature': list(x_train.columns),\n",
    "                       'importance': _model.feature_importances_}).sort_values('importance', ascending = False)\n",
    "    return fi"
   ]
  },
  {
   "cell_type": "code",
   "execution_count": 3,
   "metadata": {
    "_cell_guid": "79c7e3d0-c299-4dcb-8224-4455121ee9b0",
    "_kg_hide-input": true,
    "_uuid": "d629ff2d2480ee46fbb7e2d37f6b5fab8052498a",
    "execution": {
     "iopub.execute_input": "2021-01-21T17:08:16.783454Z",
     "iopub.status.busy": "2021-01-21T17:08:16.782711Z",
     "iopub.status.idle": "2021-01-21T17:08:16.804216Z",
     "shell.execute_reply": "2021-01-21T17:08:16.804651Z"
    },
    "papermill": {
     "duration": 0.064532,
     "end_time": "2021-01-21T17:08:16.804810",
     "exception": false,
     "start_time": "2021-01-21T17:08:16.740278",
     "status": "completed"
    },
    "tags": []
   },
   "outputs": [],
   "source": [
    "#Gets de dataset as a DataFrame\n",
    "ds = pd.read_csv('/kaggle/input/breast-cancer-wisconsin-data/data.csv')"
   ]
  },
  {
   "cell_type": "code",
   "execution_count": 4,
   "metadata": {
    "_kg_hide-input": true,
    "execution": {
     "iopub.execute_input": "2021-01-21T17:08:16.882563Z",
     "iopub.status.busy": "2021-01-21T17:08:16.879507Z",
     "iopub.status.idle": "2021-01-21T17:08:16.886878Z",
     "shell.execute_reply": "2021-01-21T17:08:16.886210Z"
    },
    "papermill": {
     "duration": 0.045749,
     "end_time": "2021-01-21T17:08:16.886999",
     "exception": false,
     "start_time": "2021-01-21T17:08:16.841250",
     "status": "completed"
    },
    "tags": []
   },
   "outputs": [
    {
     "data": {
      "text/plain": [
       "(569, 33)"
      ]
     },
     "execution_count": 4,
     "metadata": {},
     "output_type": "execute_result"
    }
   ],
   "source": [
    "ds.shape"
   ]
  },
  {
   "cell_type": "markdown",
   "metadata": {
    "papermill": {
     "duration": 0.035524,
     "end_time": "2021-01-21T17:08:16.957445",
     "exception": false,
     "start_time": "2021-01-21T17:08:16.921921",
     "status": "completed"
    },
    "tags": []
   },
   "source": [
    "The dataset contains 33 columns and 569 records.\n",
    "Each record corresponds to  "
   ]
  },
  {
   "cell_type": "code",
   "execution_count": 5,
   "metadata": {
    "_kg_hide-input": true,
    "execution": {
     "iopub.execute_input": "2021-01-21T17:08:17.037142Z",
     "iopub.status.busy": "2021-01-21T17:08:17.036520Z",
     "iopub.status.idle": "2021-01-21T17:08:17.057151Z",
     "shell.execute_reply": "2021-01-21T17:08:17.057830Z"
    },
    "papermill": {
     "duration": 0.064863,
     "end_time": "2021-01-21T17:08:17.058033",
     "exception": false,
     "start_time": "2021-01-21T17:08:16.993170",
     "status": "completed"
    },
    "tags": []
   },
   "outputs": [
    {
     "name": "stdout",
     "output_type": "stream",
     "text": [
      "<class 'pandas.core.frame.DataFrame'>\n",
      "RangeIndex: 569 entries, 0 to 568\n",
      "Data columns (total 33 columns):\n",
      " #   Column                   Non-Null Count  Dtype  \n",
      "---  ------                   --------------  -----  \n",
      " 0   id                       569 non-null    int64  \n",
      " 1   diagnosis                569 non-null    object \n",
      " 2   radius_mean              569 non-null    float64\n",
      " 3   texture_mean             569 non-null    float64\n",
      " 4   perimeter_mean           569 non-null    float64\n",
      " 5   area_mean                569 non-null    float64\n",
      " 6   smoothness_mean          569 non-null    float64\n",
      " 7   compactness_mean         569 non-null    float64\n",
      " 8   concavity_mean           569 non-null    float64\n",
      " 9   concave points_mean      569 non-null    float64\n",
      " 10  symmetry_mean            569 non-null    float64\n",
      " 11  fractal_dimension_mean   569 non-null    float64\n",
      " 12  radius_se                569 non-null    float64\n",
      " 13  texture_se               569 non-null    float64\n",
      " 14  perimeter_se             569 non-null    float64\n",
      " 15  area_se                  569 non-null    float64\n",
      " 16  smoothness_se            569 non-null    float64\n",
      " 17  compactness_se           569 non-null    float64\n",
      " 18  concavity_se             569 non-null    float64\n",
      " 19  concave points_se        569 non-null    float64\n",
      " 20  symmetry_se              569 non-null    float64\n",
      " 21  fractal_dimension_se     569 non-null    float64\n",
      " 22  radius_worst             569 non-null    float64\n",
      " 23  texture_worst            569 non-null    float64\n",
      " 24  perimeter_worst          569 non-null    float64\n",
      " 25  area_worst               569 non-null    float64\n",
      " 26  smoothness_worst         569 non-null    float64\n",
      " 27  compactness_worst        569 non-null    float64\n",
      " 28  concavity_worst          569 non-null    float64\n",
      " 29  concave points_worst     569 non-null    float64\n",
      " 30  symmetry_worst           569 non-null    float64\n",
      " 31  fractal_dimension_worst  569 non-null    float64\n",
      " 32  Unnamed: 32              0 non-null      float64\n",
      "dtypes: float64(31), int64(1), object(1)\n",
      "memory usage: 146.8+ KB\n"
     ]
    }
   ],
   "source": [
    "ds.info()"
   ]
  },
  {
   "cell_type": "code",
   "execution_count": 6,
   "metadata": {
    "_kg_hide-input": true,
    "execution": {
     "iopub.execute_input": "2021-01-21T17:08:17.132522Z",
     "iopub.status.busy": "2021-01-21T17:08:17.131957Z",
     "iopub.status.idle": "2021-01-21T17:08:17.215656Z",
     "shell.execute_reply": "2021-01-21T17:08:17.214980Z"
    },
    "papermill": {
     "duration": 0.121603,
     "end_time": "2021-01-21T17:08:17.215778",
     "exception": false,
     "start_time": "2021-01-21T17:08:17.094175",
     "status": "completed"
    },
    "tags": []
   },
   "outputs": [
    {
     "data": {
      "text/html": [
       "<div>\n",
       "<style scoped>\n",
       "    .dataframe tbody tr th:only-of-type {\n",
       "        vertical-align: middle;\n",
       "    }\n",
       "\n",
       "    .dataframe tbody tr th {\n",
       "        vertical-align: top;\n",
       "    }\n",
       "\n",
       "    .dataframe thead th {\n",
       "        text-align: right;\n",
       "    }\n",
       "</style>\n",
       "<table border=\"1\" class=\"dataframe\">\n",
       "  <thead>\n",
       "    <tr style=\"text-align: right;\">\n",
       "      <th></th>\n",
       "      <th>count</th>\n",
       "      <th>mean</th>\n",
       "      <th>std</th>\n",
       "      <th>min</th>\n",
       "      <th>25%</th>\n",
       "      <th>50%</th>\n",
       "      <th>75%</th>\n",
       "      <th>max</th>\n",
       "    </tr>\n",
       "  </thead>\n",
       "  <tbody>\n",
       "    <tr>\n",
       "      <th>id</th>\n",
       "      <td>569.0</td>\n",
       "      <td>3.037183e+07</td>\n",
       "      <td>1.250206e+08</td>\n",
       "      <td>8670.000000</td>\n",
       "      <td>869218.000000</td>\n",
       "      <td>906024.000000</td>\n",
       "      <td>8.813129e+06</td>\n",
       "      <td>9.113205e+08</td>\n",
       "    </tr>\n",
       "    <tr>\n",
       "      <th>radius_mean</th>\n",
       "      <td>569.0</td>\n",
       "      <td>1.412729e+01</td>\n",
       "      <td>3.524049e+00</td>\n",
       "      <td>6.981000</td>\n",
       "      <td>11.700000</td>\n",
       "      <td>13.370000</td>\n",
       "      <td>1.578000e+01</td>\n",
       "      <td>2.811000e+01</td>\n",
       "    </tr>\n",
       "    <tr>\n",
       "      <th>texture_mean</th>\n",
       "      <td>569.0</td>\n",
       "      <td>1.928965e+01</td>\n",
       "      <td>4.301036e+00</td>\n",
       "      <td>9.710000</td>\n",
       "      <td>16.170000</td>\n",
       "      <td>18.840000</td>\n",
       "      <td>2.180000e+01</td>\n",
       "      <td>3.928000e+01</td>\n",
       "    </tr>\n",
       "    <tr>\n",
       "      <th>perimeter_mean</th>\n",
       "      <td>569.0</td>\n",
       "      <td>9.196903e+01</td>\n",
       "      <td>2.429898e+01</td>\n",
       "      <td>43.790000</td>\n",
       "      <td>75.170000</td>\n",
       "      <td>86.240000</td>\n",
       "      <td>1.041000e+02</td>\n",
       "      <td>1.885000e+02</td>\n",
       "    </tr>\n",
       "    <tr>\n",
       "      <th>area_mean</th>\n",
       "      <td>569.0</td>\n",
       "      <td>6.548891e+02</td>\n",
       "      <td>3.519141e+02</td>\n",
       "      <td>143.500000</td>\n",
       "      <td>420.300000</td>\n",
       "      <td>551.100000</td>\n",
       "      <td>7.827000e+02</td>\n",
       "      <td>2.501000e+03</td>\n",
       "    </tr>\n",
       "    <tr>\n",
       "      <th>smoothness_mean</th>\n",
       "      <td>569.0</td>\n",
       "      <td>9.636028e-02</td>\n",
       "      <td>1.406413e-02</td>\n",
       "      <td>0.052630</td>\n",
       "      <td>0.086370</td>\n",
       "      <td>0.095870</td>\n",
       "      <td>1.053000e-01</td>\n",
       "      <td>1.634000e-01</td>\n",
       "    </tr>\n",
       "    <tr>\n",
       "      <th>compactness_mean</th>\n",
       "      <td>569.0</td>\n",
       "      <td>1.043410e-01</td>\n",
       "      <td>5.281276e-02</td>\n",
       "      <td>0.019380</td>\n",
       "      <td>0.064920</td>\n",
       "      <td>0.092630</td>\n",
       "      <td>1.304000e-01</td>\n",
       "      <td>3.454000e-01</td>\n",
       "    </tr>\n",
       "    <tr>\n",
       "      <th>concavity_mean</th>\n",
       "      <td>569.0</td>\n",
       "      <td>8.879932e-02</td>\n",
       "      <td>7.971981e-02</td>\n",
       "      <td>0.000000</td>\n",
       "      <td>0.029560</td>\n",
       "      <td>0.061540</td>\n",
       "      <td>1.307000e-01</td>\n",
       "      <td>4.268000e-01</td>\n",
       "    </tr>\n",
       "    <tr>\n",
       "      <th>concave points_mean</th>\n",
       "      <td>569.0</td>\n",
       "      <td>4.891915e-02</td>\n",
       "      <td>3.880284e-02</td>\n",
       "      <td>0.000000</td>\n",
       "      <td>0.020310</td>\n",
       "      <td>0.033500</td>\n",
       "      <td>7.400000e-02</td>\n",
       "      <td>2.012000e-01</td>\n",
       "    </tr>\n",
       "    <tr>\n",
       "      <th>symmetry_mean</th>\n",
       "      <td>569.0</td>\n",
       "      <td>1.811619e-01</td>\n",
       "      <td>2.741428e-02</td>\n",
       "      <td>0.106000</td>\n",
       "      <td>0.161900</td>\n",
       "      <td>0.179200</td>\n",
       "      <td>1.957000e-01</td>\n",
       "      <td>3.040000e-01</td>\n",
       "    </tr>\n",
       "    <tr>\n",
       "      <th>fractal_dimension_mean</th>\n",
       "      <td>569.0</td>\n",
       "      <td>6.279761e-02</td>\n",
       "      <td>7.060363e-03</td>\n",
       "      <td>0.049960</td>\n",
       "      <td>0.057700</td>\n",
       "      <td>0.061540</td>\n",
       "      <td>6.612000e-02</td>\n",
       "      <td>9.744000e-02</td>\n",
       "    </tr>\n",
       "    <tr>\n",
       "      <th>radius_se</th>\n",
       "      <td>569.0</td>\n",
       "      <td>4.051721e-01</td>\n",
       "      <td>2.773127e-01</td>\n",
       "      <td>0.111500</td>\n",
       "      <td>0.232400</td>\n",
       "      <td>0.324200</td>\n",
       "      <td>4.789000e-01</td>\n",
       "      <td>2.873000e+00</td>\n",
       "    </tr>\n",
       "    <tr>\n",
       "      <th>texture_se</th>\n",
       "      <td>569.0</td>\n",
       "      <td>1.216853e+00</td>\n",
       "      <td>5.516484e-01</td>\n",
       "      <td>0.360200</td>\n",
       "      <td>0.833900</td>\n",
       "      <td>1.108000</td>\n",
       "      <td>1.474000e+00</td>\n",
       "      <td>4.885000e+00</td>\n",
       "    </tr>\n",
       "    <tr>\n",
       "      <th>perimeter_se</th>\n",
       "      <td>569.0</td>\n",
       "      <td>2.866059e+00</td>\n",
       "      <td>2.021855e+00</td>\n",
       "      <td>0.757000</td>\n",
       "      <td>1.606000</td>\n",
       "      <td>2.287000</td>\n",
       "      <td>3.357000e+00</td>\n",
       "      <td>2.198000e+01</td>\n",
       "    </tr>\n",
       "    <tr>\n",
       "      <th>area_se</th>\n",
       "      <td>569.0</td>\n",
       "      <td>4.033708e+01</td>\n",
       "      <td>4.549101e+01</td>\n",
       "      <td>6.802000</td>\n",
       "      <td>17.850000</td>\n",
       "      <td>24.530000</td>\n",
       "      <td>4.519000e+01</td>\n",
       "      <td>5.422000e+02</td>\n",
       "    </tr>\n",
       "    <tr>\n",
       "      <th>smoothness_se</th>\n",
       "      <td>569.0</td>\n",
       "      <td>7.040979e-03</td>\n",
       "      <td>3.002518e-03</td>\n",
       "      <td>0.001713</td>\n",
       "      <td>0.005169</td>\n",
       "      <td>0.006380</td>\n",
       "      <td>8.146000e-03</td>\n",
       "      <td>3.113000e-02</td>\n",
       "    </tr>\n",
       "    <tr>\n",
       "      <th>compactness_se</th>\n",
       "      <td>569.0</td>\n",
       "      <td>2.547814e-02</td>\n",
       "      <td>1.790818e-02</td>\n",
       "      <td>0.002252</td>\n",
       "      <td>0.013080</td>\n",
       "      <td>0.020450</td>\n",
       "      <td>3.245000e-02</td>\n",
       "      <td>1.354000e-01</td>\n",
       "    </tr>\n",
       "    <tr>\n",
       "      <th>concavity_se</th>\n",
       "      <td>569.0</td>\n",
       "      <td>3.189372e-02</td>\n",
       "      <td>3.018606e-02</td>\n",
       "      <td>0.000000</td>\n",
       "      <td>0.015090</td>\n",
       "      <td>0.025890</td>\n",
       "      <td>4.205000e-02</td>\n",
       "      <td>3.960000e-01</td>\n",
       "    </tr>\n",
       "    <tr>\n",
       "      <th>concave points_se</th>\n",
       "      <td>569.0</td>\n",
       "      <td>1.179614e-02</td>\n",
       "      <td>6.170285e-03</td>\n",
       "      <td>0.000000</td>\n",
       "      <td>0.007638</td>\n",
       "      <td>0.010930</td>\n",
       "      <td>1.471000e-02</td>\n",
       "      <td>5.279000e-02</td>\n",
       "    </tr>\n",
       "    <tr>\n",
       "      <th>symmetry_se</th>\n",
       "      <td>569.0</td>\n",
       "      <td>2.054230e-02</td>\n",
       "      <td>8.266372e-03</td>\n",
       "      <td>0.007882</td>\n",
       "      <td>0.015160</td>\n",
       "      <td>0.018730</td>\n",
       "      <td>2.348000e-02</td>\n",
       "      <td>7.895000e-02</td>\n",
       "    </tr>\n",
       "    <tr>\n",
       "      <th>fractal_dimension_se</th>\n",
       "      <td>569.0</td>\n",
       "      <td>3.794904e-03</td>\n",
       "      <td>2.646071e-03</td>\n",
       "      <td>0.000895</td>\n",
       "      <td>0.002248</td>\n",
       "      <td>0.003187</td>\n",
       "      <td>4.558000e-03</td>\n",
       "      <td>2.984000e-02</td>\n",
       "    </tr>\n",
       "    <tr>\n",
       "      <th>radius_worst</th>\n",
       "      <td>569.0</td>\n",
       "      <td>1.626919e+01</td>\n",
       "      <td>4.833242e+00</td>\n",
       "      <td>7.930000</td>\n",
       "      <td>13.010000</td>\n",
       "      <td>14.970000</td>\n",
       "      <td>1.879000e+01</td>\n",
       "      <td>3.604000e+01</td>\n",
       "    </tr>\n",
       "    <tr>\n",
       "      <th>texture_worst</th>\n",
       "      <td>569.0</td>\n",
       "      <td>2.567722e+01</td>\n",
       "      <td>6.146258e+00</td>\n",
       "      <td>12.020000</td>\n",
       "      <td>21.080000</td>\n",
       "      <td>25.410000</td>\n",
       "      <td>2.972000e+01</td>\n",
       "      <td>4.954000e+01</td>\n",
       "    </tr>\n",
       "    <tr>\n",
       "      <th>perimeter_worst</th>\n",
       "      <td>569.0</td>\n",
       "      <td>1.072612e+02</td>\n",
       "      <td>3.360254e+01</td>\n",
       "      <td>50.410000</td>\n",
       "      <td>84.110000</td>\n",
       "      <td>97.660000</td>\n",
       "      <td>1.254000e+02</td>\n",
       "      <td>2.512000e+02</td>\n",
       "    </tr>\n",
       "    <tr>\n",
       "      <th>area_worst</th>\n",
       "      <td>569.0</td>\n",
       "      <td>8.805831e+02</td>\n",
       "      <td>5.693570e+02</td>\n",
       "      <td>185.200000</td>\n",
       "      <td>515.300000</td>\n",
       "      <td>686.500000</td>\n",
       "      <td>1.084000e+03</td>\n",
       "      <td>4.254000e+03</td>\n",
       "    </tr>\n",
       "    <tr>\n",
       "      <th>smoothness_worst</th>\n",
       "      <td>569.0</td>\n",
       "      <td>1.323686e-01</td>\n",
       "      <td>2.283243e-02</td>\n",
       "      <td>0.071170</td>\n",
       "      <td>0.116600</td>\n",
       "      <td>0.131300</td>\n",
       "      <td>1.460000e-01</td>\n",
       "      <td>2.226000e-01</td>\n",
       "    </tr>\n",
       "    <tr>\n",
       "      <th>compactness_worst</th>\n",
       "      <td>569.0</td>\n",
       "      <td>2.542650e-01</td>\n",
       "      <td>1.573365e-01</td>\n",
       "      <td>0.027290</td>\n",
       "      <td>0.147200</td>\n",
       "      <td>0.211900</td>\n",
       "      <td>3.391000e-01</td>\n",
       "      <td>1.058000e+00</td>\n",
       "    </tr>\n",
       "    <tr>\n",
       "      <th>concavity_worst</th>\n",
       "      <td>569.0</td>\n",
       "      <td>2.721885e-01</td>\n",
       "      <td>2.086243e-01</td>\n",
       "      <td>0.000000</td>\n",
       "      <td>0.114500</td>\n",
       "      <td>0.226700</td>\n",
       "      <td>3.829000e-01</td>\n",
       "      <td>1.252000e+00</td>\n",
       "    </tr>\n",
       "    <tr>\n",
       "      <th>concave points_worst</th>\n",
       "      <td>569.0</td>\n",
       "      <td>1.146062e-01</td>\n",
       "      <td>6.573234e-02</td>\n",
       "      <td>0.000000</td>\n",
       "      <td>0.064930</td>\n",
       "      <td>0.099930</td>\n",
       "      <td>1.614000e-01</td>\n",
       "      <td>2.910000e-01</td>\n",
       "    </tr>\n",
       "    <tr>\n",
       "      <th>symmetry_worst</th>\n",
       "      <td>569.0</td>\n",
       "      <td>2.900756e-01</td>\n",
       "      <td>6.186747e-02</td>\n",
       "      <td>0.156500</td>\n",
       "      <td>0.250400</td>\n",
       "      <td>0.282200</td>\n",
       "      <td>3.179000e-01</td>\n",
       "      <td>6.638000e-01</td>\n",
       "    </tr>\n",
       "    <tr>\n",
       "      <th>fractal_dimension_worst</th>\n",
       "      <td>569.0</td>\n",
       "      <td>8.394582e-02</td>\n",
       "      <td>1.806127e-02</td>\n",
       "      <td>0.055040</td>\n",
       "      <td>0.071460</td>\n",
       "      <td>0.080040</td>\n",
       "      <td>9.208000e-02</td>\n",
       "      <td>2.075000e-01</td>\n",
       "    </tr>\n",
       "    <tr>\n",
       "      <th>Unnamed: 32</th>\n",
       "      <td>0.0</td>\n",
       "      <td>NaN</td>\n",
       "      <td>NaN</td>\n",
       "      <td>NaN</td>\n",
       "      <td>NaN</td>\n",
       "      <td>NaN</td>\n",
       "      <td>NaN</td>\n",
       "      <td>NaN</td>\n",
       "    </tr>\n",
       "  </tbody>\n",
       "</table>\n",
       "</div>"
      ],
      "text/plain": [
       "                         count          mean           std          min  \\\n",
       "id                       569.0  3.037183e+07  1.250206e+08  8670.000000   \n",
       "radius_mean              569.0  1.412729e+01  3.524049e+00     6.981000   \n",
       "texture_mean             569.0  1.928965e+01  4.301036e+00     9.710000   \n",
       "perimeter_mean           569.0  9.196903e+01  2.429898e+01    43.790000   \n",
       "area_mean                569.0  6.548891e+02  3.519141e+02   143.500000   \n",
       "smoothness_mean          569.0  9.636028e-02  1.406413e-02     0.052630   \n",
       "compactness_mean         569.0  1.043410e-01  5.281276e-02     0.019380   \n",
       "concavity_mean           569.0  8.879932e-02  7.971981e-02     0.000000   \n",
       "concave points_mean      569.0  4.891915e-02  3.880284e-02     0.000000   \n",
       "symmetry_mean            569.0  1.811619e-01  2.741428e-02     0.106000   \n",
       "fractal_dimension_mean   569.0  6.279761e-02  7.060363e-03     0.049960   \n",
       "radius_se                569.0  4.051721e-01  2.773127e-01     0.111500   \n",
       "texture_se               569.0  1.216853e+00  5.516484e-01     0.360200   \n",
       "perimeter_se             569.0  2.866059e+00  2.021855e+00     0.757000   \n",
       "area_se                  569.0  4.033708e+01  4.549101e+01     6.802000   \n",
       "smoothness_se            569.0  7.040979e-03  3.002518e-03     0.001713   \n",
       "compactness_se           569.0  2.547814e-02  1.790818e-02     0.002252   \n",
       "concavity_se             569.0  3.189372e-02  3.018606e-02     0.000000   \n",
       "concave points_se        569.0  1.179614e-02  6.170285e-03     0.000000   \n",
       "symmetry_se              569.0  2.054230e-02  8.266372e-03     0.007882   \n",
       "fractal_dimension_se     569.0  3.794904e-03  2.646071e-03     0.000895   \n",
       "radius_worst             569.0  1.626919e+01  4.833242e+00     7.930000   \n",
       "texture_worst            569.0  2.567722e+01  6.146258e+00    12.020000   \n",
       "perimeter_worst          569.0  1.072612e+02  3.360254e+01    50.410000   \n",
       "area_worst               569.0  8.805831e+02  5.693570e+02   185.200000   \n",
       "smoothness_worst         569.0  1.323686e-01  2.283243e-02     0.071170   \n",
       "compactness_worst        569.0  2.542650e-01  1.573365e-01     0.027290   \n",
       "concavity_worst          569.0  2.721885e-01  2.086243e-01     0.000000   \n",
       "concave points_worst     569.0  1.146062e-01  6.573234e-02     0.000000   \n",
       "symmetry_worst           569.0  2.900756e-01  6.186747e-02     0.156500   \n",
       "fractal_dimension_worst  569.0  8.394582e-02  1.806127e-02     0.055040   \n",
       "Unnamed: 32                0.0           NaN           NaN          NaN   \n",
       "\n",
       "                                   25%            50%           75%  \\\n",
       "id                       869218.000000  906024.000000  8.813129e+06   \n",
       "radius_mean                  11.700000      13.370000  1.578000e+01   \n",
       "texture_mean                 16.170000      18.840000  2.180000e+01   \n",
       "perimeter_mean               75.170000      86.240000  1.041000e+02   \n",
       "area_mean                   420.300000     551.100000  7.827000e+02   \n",
       "smoothness_mean               0.086370       0.095870  1.053000e-01   \n",
       "compactness_mean              0.064920       0.092630  1.304000e-01   \n",
       "concavity_mean                0.029560       0.061540  1.307000e-01   \n",
       "concave points_mean           0.020310       0.033500  7.400000e-02   \n",
       "symmetry_mean                 0.161900       0.179200  1.957000e-01   \n",
       "fractal_dimension_mean        0.057700       0.061540  6.612000e-02   \n",
       "radius_se                     0.232400       0.324200  4.789000e-01   \n",
       "texture_se                    0.833900       1.108000  1.474000e+00   \n",
       "perimeter_se                  1.606000       2.287000  3.357000e+00   \n",
       "area_se                      17.850000      24.530000  4.519000e+01   \n",
       "smoothness_se                 0.005169       0.006380  8.146000e-03   \n",
       "compactness_se                0.013080       0.020450  3.245000e-02   \n",
       "concavity_se                  0.015090       0.025890  4.205000e-02   \n",
       "concave points_se             0.007638       0.010930  1.471000e-02   \n",
       "symmetry_se                   0.015160       0.018730  2.348000e-02   \n",
       "fractal_dimension_se          0.002248       0.003187  4.558000e-03   \n",
       "radius_worst                 13.010000      14.970000  1.879000e+01   \n",
       "texture_worst                21.080000      25.410000  2.972000e+01   \n",
       "perimeter_worst              84.110000      97.660000  1.254000e+02   \n",
       "area_worst                  515.300000     686.500000  1.084000e+03   \n",
       "smoothness_worst              0.116600       0.131300  1.460000e-01   \n",
       "compactness_worst             0.147200       0.211900  3.391000e-01   \n",
       "concavity_worst               0.114500       0.226700  3.829000e-01   \n",
       "concave points_worst          0.064930       0.099930  1.614000e-01   \n",
       "symmetry_worst                0.250400       0.282200  3.179000e-01   \n",
       "fractal_dimension_worst       0.071460       0.080040  9.208000e-02   \n",
       "Unnamed: 32                        NaN            NaN           NaN   \n",
       "\n",
       "                                  max  \n",
       "id                       9.113205e+08  \n",
       "radius_mean              2.811000e+01  \n",
       "texture_mean             3.928000e+01  \n",
       "perimeter_mean           1.885000e+02  \n",
       "area_mean                2.501000e+03  \n",
       "smoothness_mean          1.634000e-01  \n",
       "compactness_mean         3.454000e-01  \n",
       "concavity_mean           4.268000e-01  \n",
       "concave points_mean      2.012000e-01  \n",
       "symmetry_mean            3.040000e-01  \n",
       "fractal_dimension_mean   9.744000e-02  \n",
       "radius_se                2.873000e+00  \n",
       "texture_se               4.885000e+00  \n",
       "perimeter_se             2.198000e+01  \n",
       "area_se                  5.422000e+02  \n",
       "smoothness_se            3.113000e-02  \n",
       "compactness_se           1.354000e-01  \n",
       "concavity_se             3.960000e-01  \n",
       "concave points_se        5.279000e-02  \n",
       "symmetry_se              7.895000e-02  \n",
       "fractal_dimension_se     2.984000e-02  \n",
       "radius_worst             3.604000e+01  \n",
       "texture_worst            4.954000e+01  \n",
       "perimeter_worst          2.512000e+02  \n",
       "area_worst               4.254000e+03  \n",
       "smoothness_worst         2.226000e-01  \n",
       "compactness_worst        1.058000e+00  \n",
       "concavity_worst          1.252000e+00  \n",
       "concave points_worst     2.910000e-01  \n",
       "symmetry_worst           6.638000e-01  \n",
       "fractal_dimension_worst  2.075000e-01  \n",
       "Unnamed: 32                       NaN  "
      ]
     },
     "execution_count": 6,
     "metadata": {},
     "output_type": "execute_result"
    }
   ],
   "source": [
    "ds.describe().T"
   ]
  },
  {
   "cell_type": "code",
   "execution_count": 7,
   "metadata": {
    "_kg_hide-input": true,
    "execution": {
     "iopub.execute_input": "2021-01-21T17:08:17.303954Z",
     "iopub.status.busy": "2021-01-21T17:08:17.303308Z",
     "iopub.status.idle": "2021-01-21T17:08:17.318505Z",
     "shell.execute_reply": "2021-01-21T17:08:17.318016Z"
    },
    "papermill": {
     "duration": 0.065551,
     "end_time": "2021-01-21T17:08:17.318606",
     "exception": false,
     "start_time": "2021-01-21T17:08:17.253055",
     "status": "completed"
    },
    "tags": []
   },
   "outputs": [
    {
     "data": {
      "text/html": [
       "<div>\n",
       "<style scoped>\n",
       "    .dataframe tbody tr th:only-of-type {\n",
       "        vertical-align: middle;\n",
       "    }\n",
       "\n",
       "    .dataframe tbody tr th {\n",
       "        vertical-align: top;\n",
       "    }\n",
       "\n",
       "    .dataframe thead th {\n",
       "        text-align: right;\n",
       "    }\n",
       "</style>\n",
       "<table border=\"1\" class=\"dataframe\">\n",
       "  <thead>\n",
       "    <tr style=\"text-align: right;\">\n",
       "      <th></th>\n",
       "      <th>id</th>\n",
       "      <th>diagnosis</th>\n",
       "      <th>radius_mean</th>\n",
       "      <th>texture_mean</th>\n",
       "      <th>perimeter_mean</th>\n",
       "      <th>area_mean</th>\n",
       "      <th>smoothness_mean</th>\n",
       "      <th>compactness_mean</th>\n",
       "      <th>concavity_mean</th>\n",
       "      <th>concave points_mean</th>\n",
       "      <th>...</th>\n",
       "      <th>texture_worst</th>\n",
       "      <th>perimeter_worst</th>\n",
       "      <th>area_worst</th>\n",
       "      <th>smoothness_worst</th>\n",
       "      <th>compactness_worst</th>\n",
       "      <th>concavity_worst</th>\n",
       "      <th>concave points_worst</th>\n",
       "      <th>symmetry_worst</th>\n",
       "      <th>fractal_dimension_worst</th>\n",
       "      <th>Unnamed: 32</th>\n",
       "    </tr>\n",
       "  </thead>\n",
       "  <tbody>\n",
       "    <tr>\n",
       "      <th>0</th>\n",
       "      <td>842302</td>\n",
       "      <td>M</td>\n",
       "      <td>17.99</td>\n",
       "      <td>10.38</td>\n",
       "      <td>122.80</td>\n",
       "      <td>1001.0</td>\n",
       "      <td>0.11840</td>\n",
       "      <td>0.27760</td>\n",
       "      <td>0.3001</td>\n",
       "      <td>0.14710</td>\n",
       "      <td>...</td>\n",
       "      <td>17.33</td>\n",
       "      <td>184.60</td>\n",
       "      <td>2019.0</td>\n",
       "      <td>0.1622</td>\n",
       "      <td>0.6656</td>\n",
       "      <td>0.7119</td>\n",
       "      <td>0.2654</td>\n",
       "      <td>0.4601</td>\n",
       "      <td>0.11890</td>\n",
       "      <td>NaN</td>\n",
       "    </tr>\n",
       "    <tr>\n",
       "      <th>1</th>\n",
       "      <td>842517</td>\n",
       "      <td>M</td>\n",
       "      <td>20.57</td>\n",
       "      <td>17.77</td>\n",
       "      <td>132.90</td>\n",
       "      <td>1326.0</td>\n",
       "      <td>0.08474</td>\n",
       "      <td>0.07864</td>\n",
       "      <td>0.0869</td>\n",
       "      <td>0.07017</td>\n",
       "      <td>...</td>\n",
       "      <td>23.41</td>\n",
       "      <td>158.80</td>\n",
       "      <td>1956.0</td>\n",
       "      <td>0.1238</td>\n",
       "      <td>0.1866</td>\n",
       "      <td>0.2416</td>\n",
       "      <td>0.1860</td>\n",
       "      <td>0.2750</td>\n",
       "      <td>0.08902</td>\n",
       "      <td>NaN</td>\n",
       "    </tr>\n",
       "    <tr>\n",
       "      <th>2</th>\n",
       "      <td>84300903</td>\n",
       "      <td>M</td>\n",
       "      <td>19.69</td>\n",
       "      <td>21.25</td>\n",
       "      <td>130.00</td>\n",
       "      <td>1203.0</td>\n",
       "      <td>0.10960</td>\n",
       "      <td>0.15990</td>\n",
       "      <td>0.1974</td>\n",
       "      <td>0.12790</td>\n",
       "      <td>...</td>\n",
       "      <td>25.53</td>\n",
       "      <td>152.50</td>\n",
       "      <td>1709.0</td>\n",
       "      <td>0.1444</td>\n",
       "      <td>0.4245</td>\n",
       "      <td>0.4504</td>\n",
       "      <td>0.2430</td>\n",
       "      <td>0.3613</td>\n",
       "      <td>0.08758</td>\n",
       "      <td>NaN</td>\n",
       "    </tr>\n",
       "    <tr>\n",
       "      <th>3</th>\n",
       "      <td>84348301</td>\n",
       "      <td>M</td>\n",
       "      <td>11.42</td>\n",
       "      <td>20.38</td>\n",
       "      <td>77.58</td>\n",
       "      <td>386.1</td>\n",
       "      <td>0.14250</td>\n",
       "      <td>0.28390</td>\n",
       "      <td>0.2414</td>\n",
       "      <td>0.10520</td>\n",
       "      <td>...</td>\n",
       "      <td>26.50</td>\n",
       "      <td>98.87</td>\n",
       "      <td>567.7</td>\n",
       "      <td>0.2098</td>\n",
       "      <td>0.8663</td>\n",
       "      <td>0.6869</td>\n",
       "      <td>0.2575</td>\n",
       "      <td>0.6638</td>\n",
       "      <td>0.17300</td>\n",
       "      <td>NaN</td>\n",
       "    </tr>\n",
       "    <tr>\n",
       "      <th>4</th>\n",
       "      <td>84358402</td>\n",
       "      <td>M</td>\n",
       "      <td>20.29</td>\n",
       "      <td>14.34</td>\n",
       "      <td>135.10</td>\n",
       "      <td>1297.0</td>\n",
       "      <td>0.10030</td>\n",
       "      <td>0.13280</td>\n",
       "      <td>0.1980</td>\n",
       "      <td>0.10430</td>\n",
       "      <td>...</td>\n",
       "      <td>16.67</td>\n",
       "      <td>152.20</td>\n",
       "      <td>1575.0</td>\n",
       "      <td>0.1374</td>\n",
       "      <td>0.2050</td>\n",
       "      <td>0.4000</td>\n",
       "      <td>0.1625</td>\n",
       "      <td>0.2364</td>\n",
       "      <td>0.07678</td>\n",
       "      <td>NaN</td>\n",
       "    </tr>\n",
       "  </tbody>\n",
       "</table>\n",
       "<p>5 rows × 33 columns</p>\n",
       "</div>"
      ],
      "text/plain": [
       "         id diagnosis  radius_mean  texture_mean  perimeter_mean  area_mean  \\\n",
       "0    842302         M        17.99         10.38          122.80     1001.0   \n",
       "1    842517         M        20.57         17.77          132.90     1326.0   \n",
       "2  84300903         M        19.69         21.25          130.00     1203.0   \n",
       "3  84348301         M        11.42         20.38           77.58      386.1   \n",
       "4  84358402         M        20.29         14.34          135.10     1297.0   \n",
       "\n",
       "   smoothness_mean  compactness_mean  concavity_mean  concave points_mean  \\\n",
       "0          0.11840           0.27760          0.3001              0.14710   \n",
       "1          0.08474           0.07864          0.0869              0.07017   \n",
       "2          0.10960           0.15990          0.1974              0.12790   \n",
       "3          0.14250           0.28390          0.2414              0.10520   \n",
       "4          0.10030           0.13280          0.1980              0.10430   \n",
       "\n",
       "   ...  texture_worst  perimeter_worst  area_worst  smoothness_worst  \\\n",
       "0  ...          17.33           184.60      2019.0            0.1622   \n",
       "1  ...          23.41           158.80      1956.0            0.1238   \n",
       "2  ...          25.53           152.50      1709.0            0.1444   \n",
       "3  ...          26.50            98.87       567.7            0.2098   \n",
       "4  ...          16.67           152.20      1575.0            0.1374   \n",
       "\n",
       "   compactness_worst  concavity_worst  concave points_worst  symmetry_worst  \\\n",
       "0             0.6656           0.7119                0.2654          0.4601   \n",
       "1             0.1866           0.2416                0.1860          0.2750   \n",
       "2             0.4245           0.4504                0.2430          0.3613   \n",
       "3             0.8663           0.6869                0.2575          0.6638   \n",
       "4             0.2050           0.4000                0.1625          0.2364   \n",
       "\n",
       "   fractal_dimension_worst  Unnamed: 32  \n",
       "0                  0.11890          NaN  \n",
       "1                  0.08902          NaN  \n",
       "2                  0.08758          NaN  \n",
       "3                  0.17300          NaN  \n",
       "4                  0.07678          NaN  \n",
       "\n",
       "[5 rows x 33 columns]"
      ]
     },
     "execution_count": 7,
     "metadata": {},
     "output_type": "execute_result"
    }
   ],
   "source": [
    "ds.head()"
   ]
  },
  {
   "cell_type": "code",
   "execution_count": 8,
   "metadata": {
    "_kg_hide-input": true,
    "execution": {
     "iopub.execute_input": "2021-01-21T17:08:17.396374Z",
     "iopub.status.busy": "2021-01-21T17:08:17.395707Z",
     "iopub.status.idle": "2021-01-21T17:08:17.418582Z",
     "shell.execute_reply": "2021-01-21T17:08:17.419223Z"
    },
    "papermill": {
     "duration": 0.063714,
     "end_time": "2021-01-21T17:08:17.419368",
     "exception": false,
     "start_time": "2021-01-21T17:08:17.355654",
     "status": "completed"
    },
    "tags": []
   },
   "outputs": [
    {
     "data": {
      "text/html": [
       "<div>\n",
       "<style scoped>\n",
       "    .dataframe tbody tr th:only-of-type {\n",
       "        vertical-align: middle;\n",
       "    }\n",
       "\n",
       "    .dataframe tbody tr th {\n",
       "        vertical-align: top;\n",
       "    }\n",
       "\n",
       "    .dataframe thead th {\n",
       "        text-align: right;\n",
       "    }\n",
       "</style>\n",
       "<table border=\"1\" class=\"dataframe\">\n",
       "  <thead>\n",
       "    <tr style=\"text-align: right;\">\n",
       "      <th></th>\n",
       "      <th>id</th>\n",
       "      <th>diagnosis</th>\n",
       "      <th>radius_mean</th>\n",
       "      <th>texture_mean</th>\n",
       "      <th>perimeter_mean</th>\n",
       "      <th>area_mean</th>\n",
       "      <th>smoothness_mean</th>\n",
       "      <th>compactness_mean</th>\n",
       "      <th>concavity_mean</th>\n",
       "      <th>concave points_mean</th>\n",
       "      <th>...</th>\n",
       "      <th>texture_worst</th>\n",
       "      <th>perimeter_worst</th>\n",
       "      <th>area_worst</th>\n",
       "      <th>smoothness_worst</th>\n",
       "      <th>compactness_worst</th>\n",
       "      <th>concavity_worst</th>\n",
       "      <th>concave points_worst</th>\n",
       "      <th>symmetry_worst</th>\n",
       "      <th>fractal_dimension_worst</th>\n",
       "      <th>Unnamed: 32</th>\n",
       "    </tr>\n",
       "  </thead>\n",
       "  <tbody>\n",
       "    <tr>\n",
       "      <th>564</th>\n",
       "      <td>926424</td>\n",
       "      <td>M</td>\n",
       "      <td>21.56</td>\n",
       "      <td>22.39</td>\n",
       "      <td>142.00</td>\n",
       "      <td>1479.0</td>\n",
       "      <td>0.11100</td>\n",
       "      <td>0.11590</td>\n",
       "      <td>0.24390</td>\n",
       "      <td>0.13890</td>\n",
       "      <td>...</td>\n",
       "      <td>26.40</td>\n",
       "      <td>166.10</td>\n",
       "      <td>2027.0</td>\n",
       "      <td>0.14100</td>\n",
       "      <td>0.21130</td>\n",
       "      <td>0.4107</td>\n",
       "      <td>0.2216</td>\n",
       "      <td>0.2060</td>\n",
       "      <td>0.07115</td>\n",
       "      <td>NaN</td>\n",
       "    </tr>\n",
       "    <tr>\n",
       "      <th>565</th>\n",
       "      <td>926682</td>\n",
       "      <td>M</td>\n",
       "      <td>20.13</td>\n",
       "      <td>28.25</td>\n",
       "      <td>131.20</td>\n",
       "      <td>1261.0</td>\n",
       "      <td>0.09780</td>\n",
       "      <td>0.10340</td>\n",
       "      <td>0.14400</td>\n",
       "      <td>0.09791</td>\n",
       "      <td>...</td>\n",
       "      <td>38.25</td>\n",
       "      <td>155.00</td>\n",
       "      <td>1731.0</td>\n",
       "      <td>0.11660</td>\n",
       "      <td>0.19220</td>\n",
       "      <td>0.3215</td>\n",
       "      <td>0.1628</td>\n",
       "      <td>0.2572</td>\n",
       "      <td>0.06637</td>\n",
       "      <td>NaN</td>\n",
       "    </tr>\n",
       "    <tr>\n",
       "      <th>566</th>\n",
       "      <td>926954</td>\n",
       "      <td>M</td>\n",
       "      <td>16.60</td>\n",
       "      <td>28.08</td>\n",
       "      <td>108.30</td>\n",
       "      <td>858.1</td>\n",
       "      <td>0.08455</td>\n",
       "      <td>0.10230</td>\n",
       "      <td>0.09251</td>\n",
       "      <td>0.05302</td>\n",
       "      <td>...</td>\n",
       "      <td>34.12</td>\n",
       "      <td>126.70</td>\n",
       "      <td>1124.0</td>\n",
       "      <td>0.11390</td>\n",
       "      <td>0.30940</td>\n",
       "      <td>0.3403</td>\n",
       "      <td>0.1418</td>\n",
       "      <td>0.2218</td>\n",
       "      <td>0.07820</td>\n",
       "      <td>NaN</td>\n",
       "    </tr>\n",
       "    <tr>\n",
       "      <th>567</th>\n",
       "      <td>927241</td>\n",
       "      <td>M</td>\n",
       "      <td>20.60</td>\n",
       "      <td>29.33</td>\n",
       "      <td>140.10</td>\n",
       "      <td>1265.0</td>\n",
       "      <td>0.11780</td>\n",
       "      <td>0.27700</td>\n",
       "      <td>0.35140</td>\n",
       "      <td>0.15200</td>\n",
       "      <td>...</td>\n",
       "      <td>39.42</td>\n",
       "      <td>184.60</td>\n",
       "      <td>1821.0</td>\n",
       "      <td>0.16500</td>\n",
       "      <td>0.86810</td>\n",
       "      <td>0.9387</td>\n",
       "      <td>0.2650</td>\n",
       "      <td>0.4087</td>\n",
       "      <td>0.12400</td>\n",
       "      <td>NaN</td>\n",
       "    </tr>\n",
       "    <tr>\n",
       "      <th>568</th>\n",
       "      <td>92751</td>\n",
       "      <td>B</td>\n",
       "      <td>7.76</td>\n",
       "      <td>24.54</td>\n",
       "      <td>47.92</td>\n",
       "      <td>181.0</td>\n",
       "      <td>0.05263</td>\n",
       "      <td>0.04362</td>\n",
       "      <td>0.00000</td>\n",
       "      <td>0.00000</td>\n",
       "      <td>...</td>\n",
       "      <td>30.37</td>\n",
       "      <td>59.16</td>\n",
       "      <td>268.6</td>\n",
       "      <td>0.08996</td>\n",
       "      <td>0.06444</td>\n",
       "      <td>0.0000</td>\n",
       "      <td>0.0000</td>\n",
       "      <td>0.2871</td>\n",
       "      <td>0.07039</td>\n",
       "      <td>NaN</td>\n",
       "    </tr>\n",
       "  </tbody>\n",
       "</table>\n",
       "<p>5 rows × 33 columns</p>\n",
       "</div>"
      ],
      "text/plain": [
       "         id diagnosis  radius_mean  texture_mean  perimeter_mean  area_mean  \\\n",
       "564  926424         M        21.56         22.39          142.00     1479.0   \n",
       "565  926682         M        20.13         28.25          131.20     1261.0   \n",
       "566  926954         M        16.60         28.08          108.30      858.1   \n",
       "567  927241         M        20.60         29.33          140.10     1265.0   \n",
       "568   92751         B         7.76         24.54           47.92      181.0   \n",
       "\n",
       "     smoothness_mean  compactness_mean  concavity_mean  concave points_mean  \\\n",
       "564          0.11100           0.11590         0.24390              0.13890   \n",
       "565          0.09780           0.10340         0.14400              0.09791   \n",
       "566          0.08455           0.10230         0.09251              0.05302   \n",
       "567          0.11780           0.27700         0.35140              0.15200   \n",
       "568          0.05263           0.04362         0.00000              0.00000   \n",
       "\n",
       "     ...  texture_worst  perimeter_worst  area_worst  smoothness_worst  \\\n",
       "564  ...          26.40           166.10      2027.0           0.14100   \n",
       "565  ...          38.25           155.00      1731.0           0.11660   \n",
       "566  ...          34.12           126.70      1124.0           0.11390   \n",
       "567  ...          39.42           184.60      1821.0           0.16500   \n",
       "568  ...          30.37            59.16       268.6           0.08996   \n",
       "\n",
       "     compactness_worst  concavity_worst  concave points_worst  symmetry_worst  \\\n",
       "564            0.21130           0.4107                0.2216          0.2060   \n",
       "565            0.19220           0.3215                0.1628          0.2572   \n",
       "566            0.30940           0.3403                0.1418          0.2218   \n",
       "567            0.86810           0.9387                0.2650          0.4087   \n",
       "568            0.06444           0.0000                0.0000          0.2871   \n",
       "\n",
       "     fractal_dimension_worst  Unnamed: 32  \n",
       "564                  0.07115          NaN  \n",
       "565                  0.06637          NaN  \n",
       "566                  0.07820          NaN  \n",
       "567                  0.12400          NaN  \n",
       "568                  0.07039          NaN  \n",
       "\n",
       "[5 rows x 33 columns]"
      ]
     },
     "execution_count": 8,
     "metadata": {},
     "output_type": "execute_result"
    }
   ],
   "source": [
    "ds.tail()"
   ]
  },
  {
   "cell_type": "markdown",
   "metadata": {
    "papermill": {
     "duration": 0.037398,
     "end_time": "2021-01-21T17:08:17.494744",
     "exception": false,
     "start_time": "2021-01-21T17:08:17.457346",
     "status": "completed"
    },
    "tags": []
   },
   "source": [
    "We can consider that the data of the column \"diagnosis\" is balanced"
   ]
  },
  {
   "cell_type": "code",
   "execution_count": 9,
   "metadata": {
    "_kg_hide-input": true,
    "execution": {
     "iopub.execute_input": "2021-01-21T17:08:17.573855Z",
     "iopub.status.busy": "2021-01-21T17:08:17.573275Z",
     "iopub.status.idle": "2021-01-21T17:08:17.726396Z",
     "shell.execute_reply": "2021-01-21T17:08:17.725888Z"
    },
    "papermill": {
     "duration": 0.193834,
     "end_time": "2021-01-21T17:08:17.726498",
     "exception": false,
     "start_time": "2021-01-21T17:08:17.532664",
     "status": "completed"
    },
    "tags": []
   },
   "outputs": [
    {
     "data": {
      "image/png": "[encoded data removed]",
      "text/plain": [
       "<Figure size 432x288 with 1 Axes>"
      ]
     },
     "metadata": {
      "needs_background": "light"
     },
     "output_type": "display_data"
    }
   ],
   "source": [
    "sns.countplot(data=ds, x='diagnosis')\n",
    "plt.title('Count by diagnosis')\n",
    "plt.show()"
   ]
  },
  {
   "cell_type": "markdown",
   "metadata": {
    "papermill": {
     "duration": 0.038476,
     "end_time": "2021-01-21T17:08:17.804369",
     "exception": false,
     "start_time": "2021-01-21T17:08:17.765893",
     "status": "completed"
    },
    "tags": []
   },
   "source": [
    "<a id=\"2-Dataset-Preparation\"></a>\n",
    "# 2 - Dataset preparation"
   ]
  },
  {
   "cell_type": "code",
   "execution_count": 10,
   "metadata": {
    "_kg_hide-input": true,
    "execution": {
     "iopub.execute_input": "2021-01-21T17:08:17.886455Z",
     "iopub.status.busy": "2021-01-21T17:08:17.885556Z",
     "iopub.status.idle": "2021-01-21T17:08:17.891310Z",
     "shell.execute_reply": "2021-01-21T17:08:17.891790Z"
    },
    "papermill": {
     "duration": 0.048041,
     "end_time": "2021-01-21T17:08:17.891955",
     "exception": false,
     "start_time": "2021-01-21T17:08:17.843914",
     "status": "completed"
    },
    "tags": []
   },
   "outputs": [],
   "source": [
    "# Transform the class column (diagnosis) into a int64\n",
    "# 0 = Benign\n",
    "# 1 = Malignant\n",
    "\n",
    "#ds.diagnosis = ds.diagnosis == 'M'\n",
    "#ds.diagnosis = ds.diagnosis.astype('int')\n",
    "# OR\n",
    "ds['diagnosis'] = ds['diagnosis'].map({'M':1,'B':0})"
   ]
  },
  {
   "cell_type": "code",
   "execution_count": 11,
   "metadata": {
    "_kg_hide-input": true,
    "execution": {
     "iopub.execute_input": "2021-01-21T17:08:17.974572Z",
     "iopub.status.busy": "2021-01-21T17:08:17.973614Z",
     "iopub.status.idle": "2021-01-21T17:08:17.979373Z",
     "shell.execute_reply": "2021-01-21T17:08:17.979822Z"
    },
    "papermill": {
     "duration": 0.048395,
     "end_time": "2021-01-21T17:08:17.980000",
     "exception": false,
     "start_time": "2021-01-21T17:08:17.931605",
     "status": "completed"
    },
    "tags": []
   },
   "outputs": [],
   "source": [
    "# Drop columns \"id\" and \"Unnamed: 32\"\n",
    "ds.drop(['id','Unnamed: 32'], axis= 1, inplace=True)"
   ]
  },
  {
   "cell_type": "markdown",
   "metadata": {
    "papermill": {
     "duration": 0.038687,
     "end_time": "2021-01-21T17:08:18.057713",
     "exception": false,
     "start_time": "2021-01-21T17:08:18.019026",
     "status": "completed"
    },
    "tags": []
   },
   "source": [
    "<a id=\"3-Create-Train-And-Test-Datasets\"></a>\n",
    "# 3 - Create train and test datasets"
   ]
  },
  {
   "cell_type": "code",
   "execution_count": 12,
   "metadata": {
    "_kg_hide-input": true,
    "execution": {
     "iopub.execute_input": "2021-01-21T17:08:18.139678Z",
     "iopub.status.busy": "2021-01-21T17:08:18.138757Z",
     "iopub.status.idle": "2021-01-21T17:08:18.143821Z",
     "shell.execute_reply": "2021-01-21T17:08:18.144318Z"
    },
    "papermill": {
     "duration": 0.047584,
     "end_time": "2021-01-21T17:08:18.144464",
     "exception": false,
     "start_time": "2021-01-21T17:08:18.096880",
     "status": "completed"
    },
    "tags": []
   },
   "outputs": [],
   "source": [
    "# Create different arrays for features and target\n",
    "x = ds.iloc[:, 1:-1]\n",
    "y = ds.iloc[:, 0]"
   ]
  },
  {
   "cell_type": "code",
   "execution_count": 13,
   "metadata": {
    "_kg_hide-input": true,
    "execution": {
     "iopub.execute_input": "2021-01-21T17:08:18.226530Z",
     "iopub.status.busy": "2021-01-21T17:08:18.225526Z",
     "iopub.status.idle": "2021-01-21T17:08:20.991149Z",
     "shell.execute_reply": "2021-01-21T17:08:20.991639Z"
    },
    "papermill": {
     "duration": 2.808573,
     "end_time": "2021-01-21T17:08:20.991777",
     "exception": false,
     "start_time": "2021-01-21T17:08:18.183204",
     "status": "completed"
    },
    "tags": []
   },
   "outputs": [
    {
     "data": {
      "text/plain": [
       "<matplotlib.axes._subplots.AxesSubplot at 0x7f52a36ef950>"
      ]
     },
     "execution_count": 13,
     "metadata": {},
     "output_type": "execute_result"
    },
    {
     "data": {
      "image/png": "[encoded data removed]",
      "text/plain": [
       "<Figure size 1296x1296 with 2 Axes>"
      ]
     },
     "metadata": {
      "needs_background": "light"
     },
     "output_type": "display_data"
    }
   ],
   "source": [
    "# Correlation between all features\n",
    "f,ax = plt.subplots(figsize=(18, 18))\n",
    "sns.heatmap(x.corr(), annot=True, linewidths=.5, fmt= '.1f',ax=ax)\n",
    "\n",
    "#As we can see, there are many features that are strongly correlated. I decided to use all features.\n",
    "#To be done: eliminate unuseful features"
   ]
  },
  {
   "cell_type": "markdown",
   "metadata": {
    "papermill": {
     "duration": 0.046726,
     "end_time": "2021-01-21T17:08:21.085496",
     "exception": false,
     "start_time": "2021-01-21T17:08:21.038770",
     "status": "completed"
    },
    "tags": []
   },
   "source": [
    "* Let's split the dataset:\n",
    "\n",
    "    1. 80% for training the model\n",
    "    2. 20% for testing the model"
   ]
  },
  {
   "cell_type": "code",
   "execution_count": 14,
   "metadata": {
    "_kg_hide-input": true,
    "execution": {
     "iopub.execute_input": "2021-01-21T17:08:21.182690Z",
     "iopub.status.busy": "2021-01-21T17:08:21.182064Z",
     "iopub.status.idle": "2021-01-21T17:08:21.193258Z",
     "shell.execute_reply": "2021-01-21T17:08:21.192692Z"
    },
    "papermill": {
     "duration": 0.060925,
     "end_time": "2021-01-21T17:08:21.193367",
     "exception": false,
     "start_time": "2021-01-21T17:08:21.132442",
     "status": "completed"
    },
    "tags": []
   },
   "outputs": [],
   "source": [
    "# Create train and test datasets\n",
    "x_train, x_test, y_train, y_test = train_test_split(x, y, test_size = 0.2, random_state = 42, stratify = y)"
   ]
  },
  {
   "cell_type": "markdown",
   "metadata": {
    "papermill": {
     "duration": 0.046477,
     "end_time": "2021-01-21T17:08:21.286696",
     "exception": false,
     "start_time": "2021-01-21T17:08:21.240219",
     "status": "completed"
    },
    "tags": []
   },
   "source": [
    "<a id=\"4-Models\"></a>\n",
    "# 4 - Models\n",
    "\n",
    "<a id=\"4.1-SVM\"></a>\n",
    "# 4.1 - SVM\n",
    "\n",
    "<a id=\"4.1.1-Build-A-Model-With-Default-Parameters\"></a>\n",
    "# 4.1.1 - SVM - Build a model with default parameters"
   ]
  },
  {
   "cell_type": "code",
   "execution_count": 15,
   "metadata": {
    "_kg_hide-input": true,
    "execution": {
     "iopub.execute_input": "2021-01-21T17:08:21.389035Z",
     "iopub.status.busy": "2021-01-21T17:08:21.388172Z",
     "iopub.status.idle": "2021-01-21T17:08:25.392761Z",
     "shell.execute_reply": "2021-01-21T17:08:25.393336Z"
    },
    "papermill": {
     "duration": 4.059891,
     "end_time": "2021-01-21T17:08:25.393515",
     "exception": false,
     "start_time": "2021-01-21T17:08:21.333624",
     "status": "completed"
    },
    "tags": []
   },
   "outputs": [
    {
     "name": "stdout",
     "output_type": "stream",
     "text": [
      "Score (SVM): 0.929825\n"
     ]
    }
   ],
   "source": [
    "modelSVM = SVC(kernel = 'linear')\n",
    "modelSVM.fit(x_train, y_train)\n",
    "labels_svm = modelSVM.predict(x_test)\n",
    "score_svm = modelSVM.score(x_test, y_test)\n",
    "print(\"Score (SVM): %f\" % score_svm)\n",
    "conf_mx_svm = confusion_matrix(y_test, labels_svm)\n",
    "scores = [score_svm]"
   ]
  },
  {
   "cell_type": "markdown",
   "metadata": {
    "papermill": {
     "duration": 0.046436,
     "end_time": "2021-01-21T17:08:25.487047",
     "exception": false,
     "start_time": "2021-01-21T17:08:25.440611",
     "status": "completed"
    },
    "tags": []
   },
   "source": [
    "<a id=\"4.1.2-Parameters-Tuning\"></a>\n",
    "# 4.1.2 - SVM - Parameters tuning"
   ]
  },
  {
   "cell_type": "code",
   "execution_count": 16,
   "metadata": {
    "_kg_hide-input": true,
    "execution": {
     "iopub.execute_input": "2021-01-21T17:08:25.587749Z",
     "iopub.status.busy": "2021-01-21T17:08:25.587165Z",
     "iopub.status.idle": "2021-01-21T17:08:39.543523Z",
     "shell.execute_reply": "2021-01-21T17:08:39.542786Z"
    },
    "papermill": {
     "duration": 14.008931,
     "end_time": "2021-01-21T17:08:39.543682",
     "exception": false,
     "start_time": "2021-01-21T17:08:25.534751",
     "status": "completed"
    },
    "tags": []
   },
   "outputs": [
    {
     "name": "stdout",
     "output_type": "stream",
     "text": [
      "The best parameters for SVM are: \"{'gamma': 'scale', 'kernel': 'linear'}\" and this model can explain the dataset with an accuracy of 94.73 %\n"
     ]
    }
   ],
   "source": [
    "params_svm = {'kernel' : ['linear', 'rbf'],   #not used: poly, precomputed and sigmoid\n",
    "              'gamma' : ['scale', 'auto']}\n",
    "grid_search_svm = GridSearchCV(estimator = modelSVM,\n",
    "                           param_grid = params_svm,\n",
    "                           scoring = 'accuracy',\n",
    "                           cv = 5)\n",
    "grid_search_svm = grid_search_svm.fit(x, y)\n",
    "print(f'The best parameters for SVM are: \"{grid_search_svm.best_params_}\" and this model can explain the dataset with an accuracy of {str(np.round(grid_search_svm.best_score_ * 100,2))} %')\n",
    "scores.append(grid_search_svm.best_score_)"
   ]
  },
  {
   "cell_type": "markdown",
   "metadata": {
    "papermill": {
     "duration": 0.047386,
     "end_time": "2021-01-21T17:08:39.639691",
     "exception": false,
     "start_time": "2021-01-21T17:08:39.592305",
     "status": "completed"
    },
    "tags": []
   },
   "source": [
    "<a id=\"4.1.3-Confusion-Matrix\"></a>\n",
    "# 4.1.3 - SVM - Confusion Matrix"
   ]
  },
  {
   "cell_type": "code",
   "execution_count": 17,
   "metadata": {
    "_kg_hide-input": true,
    "execution": {
     "iopub.execute_input": "2021-01-21T17:08:39.738786Z",
     "iopub.status.busy": "2021-01-21T17:08:39.738219Z",
     "iopub.status.idle": "2021-01-21T17:08:39.889265Z",
     "shell.execute_reply": "2021-01-21T17:08:39.889712Z"
    },
    "papermill": {
     "duration": 0.202653,
     "end_time": "2021-01-21T17:08:39.889863",
     "exception": false,
     "start_time": "2021-01-21T17:08:39.687210",
     "status": "completed"
    },
    "tags": []
   },
   "outputs": [
    {
     "data": {
      "image/png": "[encoded data removed]",
      "text/plain": [
       "<Figure size 432x288 with 2 Axes>"
      ]
     },
     "metadata": {
      "needs_background": "light"
     },
     "output_type": "display_data"
    }
   ],
   "source": [
    "DisplayConfusionMatrix(modelSVM,\"Confusion matrix for SVM model\")"
   ]
  },
  {
   "cell_type": "markdown",
   "metadata": {
    "papermill": {
     "duration": 0.051947,
     "end_time": "2021-01-21T17:08:39.990691",
     "exception": false,
     "start_time": "2021-01-21T17:08:39.938744",
     "status": "completed"
    },
    "tags": []
   },
   "source": [
    "<a id=\"4.1.4-Importance-Of-Each-Feature\"></a>\n",
    "# 4.1.4 - SVM - Importance of each feature"
   ]
  },
  {
   "cell_type": "code",
   "execution_count": 18,
   "metadata": {
    "_kg_hide-input": true,
    "execution": {
     "iopub.execute_input": "2021-01-21T17:08:40.096122Z",
     "iopub.status.busy": "2021-01-21T17:08:40.095352Z",
     "iopub.status.idle": "2021-01-21T17:08:40.097031Z",
     "shell.execute_reply": "2021-01-21T17:08:40.097516Z"
    },
    "papermill": {
     "duration": 0.056755,
     "end_time": "2021-01-21T17:08:40.097668",
     "exception": false,
     "start_time": "2021-01-21T17:08:40.040913",
     "status": "completed"
    },
    "tags": []
   },
   "outputs": [],
   "source": [
    "#To be implemented\n",
    "\n",
    "#FeatureImportance(modelSVM)\n",
    "#def f_importances(coef, names):\n",
    "#    imp = coef\n",
    "#    imp,names = zip(*sorted(zip(imp,names)))\n",
    "#    plt.barh(range(len(names)), imp, align='center')\n",
    "#    plt.yticks(range(len(names)), names)\n",
    "#    plt.show()\n",
    "\n",
    "#features_names\n",
    "#f_importances(modelSVM.coef_, features_names)\n",
    "#modelSVM.coef_"
   ]
  },
  {
   "cell_type": "markdown",
   "metadata": {
    "papermill": {
     "duration": 0.0484,
     "end_time": "2021-01-21T17:08:40.194599",
     "exception": false,
     "start_time": "2021-01-21T17:08:40.146199",
     "status": "completed"
    },
    "tags": []
   },
   "source": [
    "<a id=\"4.1.5-Cross-Validation\"></a>\n",
    "# 4.1.5 - SVM - Cross Validation"
   ]
  },
  {
   "cell_type": "code",
   "execution_count": 19,
   "metadata": {
    "_kg_hide-input": true,
    "execution": {
     "iopub.execute_input": "2021-01-21T17:08:40.294467Z",
     "iopub.status.busy": "2021-01-21T17:08:40.293787Z",
     "iopub.status.idle": "2021-01-21T17:08:51.532212Z",
     "shell.execute_reply": "2021-01-21T17:08:51.532724Z"
    },
    "papermill": {
     "duration": 11.289955,
     "end_time": "2021-01-21T17:08:51.532886",
     "exception": false,
     "start_time": "2021-01-21T17:08:40.242931",
     "status": "completed"
    },
    "tags": []
   },
   "outputs": [
    {
     "name": "stdout",
     "output_type": "stream",
     "text": [
      "Score (SVM default CV): 0.952569\n"
     ]
    }
   ],
   "source": [
    "#Cross validation for SVM with default hyper parameters\n",
    "svm_cv_default = cross_val_score(estimator = modelSVM,\n",
    "                             X = x, y = y,\n",
    "                             cv = 10, scoring = 'accuracy')\n",
    "score_svm_default_cv = svm_cv_default.mean()\n",
    "print(\"Score (SVM default CV): %f\" % score_svm_default_cv)\n",
    "scores_cv = [score_svm_default_cv]"
   ]
  },
  {
   "cell_type": "markdown",
   "metadata": {
    "papermill": {
     "duration": 0.05246,
     "end_time": "2021-01-21T17:08:51.635574",
     "exception": false,
     "start_time": "2021-01-21T17:08:51.583114",
     "status": "completed"
    },
    "tags": []
   },
   "source": [
    "<a id=\"4.2-Decision-Tree\"></a>\n",
    "# 4.2 - Decision Tree\n",
    "\n",
    "<a id=\"4.2.1-Build-A-Model-With-Default-Parameters\"></a>\n",
    "# 4.2.1 - Decision Tree - Build a model with default parameters"
   ]
  },
  {
   "cell_type": "code",
   "execution_count": 20,
   "metadata": {
    "_kg_hide-input": true,
    "execution": {
     "iopub.execute_input": "2021-01-21T17:08:51.749356Z",
     "iopub.status.busy": "2021-01-21T17:08:51.748642Z",
     "iopub.status.idle": "2021-01-21T17:08:51.767525Z",
     "shell.execute_reply": "2021-01-21T17:08:51.768708Z"
    },
    "papermill": {
     "duration": 0.080929,
     "end_time": "2021-01-21T17:08:51.768942",
     "exception": false,
     "start_time": "2021-01-21T17:08:51.688013",
     "status": "completed"
    },
    "tags": []
   },
   "outputs": [
    {
     "name": "stdout",
     "output_type": "stream",
     "text": [
      "Score (Decision tree): 0.947368\n"
     ]
    }
   ],
   "source": [
    "tree = DecisionTreeClassifier()\n",
    "tree.fit(x_train, y_train)\n",
    "labels_tree = tree.predict(x_test)\n",
    "score_tree = tree.score(x_test, y_test)\n",
    "print(\"Score (Decision tree): %f\" % score_tree)\n",
    "conf_mx_tree = confusion_matrix(y_test, labels_tree)\n",
    "#accuracia = accuracy_score(y_test, labels_tree)\n",
    "#print (\"Acuracia utilizando o SVM :\" , accuracia , \"\\nEm porcentagem : \", round(accuracia*100) , \"%\\n\")\n",
    "scores.append(score_tree)"
   ]
  },
  {
   "cell_type": "markdown",
   "metadata": {
    "papermill": {
     "duration": 0.052146,
     "end_time": "2021-01-21T17:08:51.872586",
     "exception": false,
     "start_time": "2021-01-21T17:08:51.820440",
     "status": "completed"
    },
    "tags": []
   },
   "source": [
    "<a id=\"4.2.2-Parameters-Tuning\"></a>\n",
    "# 4.2.2 - Decision Tree - Parameters tuning"
   ]
  },
  {
   "cell_type": "code",
   "execution_count": 21,
   "metadata": {
    "_kg_hide-input": true,
    "execution": {
     "iopub.execute_input": "2021-01-21T17:08:51.979218Z",
     "iopub.status.busy": "2021-01-21T17:08:51.978237Z",
     "iopub.status.idle": "2021-01-21T17:08:53.013072Z",
     "shell.execute_reply": "2021-01-21T17:08:53.013555Z"
    },
    "papermill": {
     "duration": 1.088072,
     "end_time": "2021-01-21T17:08:53.013702",
     "exception": false,
     "start_time": "2021-01-21T17:08:51.925630",
     "status": "completed"
    },
    "tags": []
   },
   "outputs": [
    {
     "name": "stdout",
     "output_type": "stream",
     "text": [
      "The best parameters for Decision Tree are: \"{'criterion': 'entropy', 'max_depth': 4}\" and this model can explain the dataset with an accuracy of 93.67 %\n"
     ]
    }
   ],
   "source": [
    "params_tree = {'criterion' : ['gini', 'entropy'],\n",
    "               'max_depth' : range(1,10)}\n",
    "grid_search_tree = GridSearchCV(estimator = tree,\n",
    "                           param_grid = params_tree,\n",
    "                           scoring = 'accuracy',\n",
    "                           cv = 5)\n",
    "grid_search_tree = grid_search_tree.fit(x, y)\n",
    "print(f'The best parameters for Decision Tree are: \"{grid_search_tree.best_params_}\" and this model can explain the dataset with an accuracy of {str(np.round(grid_search_tree.best_score_ * 100,2))} %')\n",
    "scores.append(grid_search_tree.best_score_)"
   ]
  },
  {
   "cell_type": "markdown",
   "metadata": {
    "papermill": {
     "duration": 0.049326,
     "end_time": "2021-01-21T17:08:53.112090",
     "exception": false,
     "start_time": "2021-01-21T17:08:53.062764",
     "status": "completed"
    },
    "tags": []
   },
   "source": [
    "<a id=\"4.2.3-Confusion-Matrix\"></a>\n",
    "# 4.2.3 - Decision Tree - Confusion Matrix"
   ]
  },
  {
   "cell_type": "code",
   "execution_count": 22,
   "metadata": {
    "_kg_hide-input": true,
    "execution": {
     "iopub.execute_input": "2021-01-21T17:08:53.233684Z",
     "iopub.status.busy": "2021-01-21T17:08:53.232678Z",
     "iopub.status.idle": "2021-01-21T17:08:53.375026Z",
     "shell.execute_reply": "2021-01-21T17:08:53.375446Z"
    },
    "papermill": {
     "duration": 0.204636,
     "end_time": "2021-01-21T17:08:53.375596",
     "exception": false,
     "start_time": "2021-01-21T17:08:53.170960",
     "status": "completed"
    },
    "tags": []
   },
   "outputs": [
    {
     "data": {
      "image/png": "[encoded data removed]",
      "text/plain": [
       "<Figure size 432x288 with 2 Axes>"
      ]
     },
     "metadata": {
      "needs_background": "light"
     },
     "output_type": "display_data"
    }
   ],
   "source": [
    "DisplayConfusionMatrix(tree,\"Confusion matrix for Decision Tree model\")"
   ]
  },
  {
   "cell_type": "markdown",
   "metadata": {
    "papermill": {
     "duration": 0.050256,
     "end_time": "2021-01-21T17:08:53.476485",
     "exception": false,
     "start_time": "2021-01-21T17:08:53.426229",
     "status": "completed"
    },
    "tags": []
   },
   "source": [
    "<a id=\"4.2.4-Importance-Of-Each-Feature\"></a>\n",
    "# 4.2.4 - Decision Tree - Importance of each feature"
   ]
  },
  {
   "cell_type": "code",
   "execution_count": 23,
   "metadata": {
    "_kg_hide-input": true,
    "execution": {
     "iopub.execute_input": "2021-01-21T17:08:53.582743Z",
     "iopub.status.busy": "2021-01-21T17:08:53.582164Z",
     "iopub.status.idle": "2021-01-21T17:08:53.597329Z",
     "shell.execute_reply": "2021-01-21T17:08:53.596772Z"
    },
    "papermill": {
     "duration": 0.069824,
     "end_time": "2021-01-21T17:08:53.597446",
     "exception": false,
     "start_time": "2021-01-21T17:08:53.527622",
     "status": "completed"
    },
    "tags": []
   },
   "outputs": [
    {
     "data": {
      "text/html": [
       "<div>\n",
       "<style scoped>\n",
       "    .dataframe tbody tr th:only-of-type {\n",
       "        vertical-align: middle;\n",
       "    }\n",
       "\n",
       "    .dataframe tbody tr th {\n",
       "        vertical-align: top;\n",
       "    }\n",
       "\n",
       "    .dataframe thead th {\n",
       "        text-align: right;\n",
       "    }\n",
       "</style>\n",
       "<table border=\"1\" class=\"dataframe\">\n",
       "  <thead>\n",
       "    <tr style=\"text-align: right;\">\n",
       "      <th></th>\n",
       "      <th>feature</th>\n",
       "      <th>importance</th>\n",
       "    </tr>\n",
       "  </thead>\n",
       "  <tbody>\n",
       "    <tr>\n",
       "      <th>22</th>\n",
       "      <td>perimeter_worst</td>\n",
       "      <td>0.723157</td>\n",
       "    </tr>\n",
       "    <tr>\n",
       "      <th>27</th>\n",
       "      <td>concave points_worst</td>\n",
       "      <td>0.067700</td>\n",
       "    </tr>\n",
       "    <tr>\n",
       "      <th>24</th>\n",
       "      <td>smoothness_worst</td>\n",
       "      <td>0.040833</td>\n",
       "    </tr>\n",
       "    <tr>\n",
       "      <th>1</th>\n",
       "      <td>texture_mean</td>\n",
       "      <td>0.035412</td>\n",
       "    </tr>\n",
       "    <tr>\n",
       "      <th>3</th>\n",
       "      <td>area_mean</td>\n",
       "      <td>0.027148</td>\n",
       "    </tr>\n",
       "    <tr>\n",
       "      <th>21</th>\n",
       "      <td>texture_worst</td>\n",
       "      <td>0.018744</td>\n",
       "    </tr>\n",
       "    <tr>\n",
       "      <th>6</th>\n",
       "      <td>concavity_mean</td>\n",
       "      <td>0.017530</td>\n",
       "    </tr>\n",
       "    <tr>\n",
       "      <th>12</th>\n",
       "      <td>perimeter_se</td>\n",
       "      <td>0.016841</td>\n",
       "    </tr>\n",
       "    <tr>\n",
       "      <th>23</th>\n",
       "      <td>area_worst</td>\n",
       "      <td>0.015606</td>\n",
       "    </tr>\n",
       "    <tr>\n",
       "      <th>7</th>\n",
       "      <td>concave points_mean</td>\n",
       "      <td>0.013416</td>\n",
       "    </tr>\n",
       "    <tr>\n",
       "      <th>11</th>\n",
       "      <td>texture_se</td>\n",
       "      <td>0.011269</td>\n",
       "    </tr>\n",
       "    <tr>\n",
       "      <th>28</th>\n",
       "      <td>symmetry_worst</td>\n",
       "      <td>0.007043</td>\n",
       "    </tr>\n",
       "    <tr>\n",
       "      <th>26</th>\n",
       "      <td>concavity_worst</td>\n",
       "      <td>0.003066</td>\n",
       "    </tr>\n",
       "    <tr>\n",
       "      <th>13</th>\n",
       "      <td>area_se</td>\n",
       "      <td>0.002234</td>\n",
       "    </tr>\n",
       "    <tr>\n",
       "      <th>18</th>\n",
       "      <td>symmetry_se</td>\n",
       "      <td>0.000000</td>\n",
       "    </tr>\n",
       "    <tr>\n",
       "      <th>25</th>\n",
       "      <td>compactness_worst</td>\n",
       "      <td>0.000000</td>\n",
       "    </tr>\n",
       "    <tr>\n",
       "      <th>20</th>\n",
       "      <td>radius_worst</td>\n",
       "      <td>0.000000</td>\n",
       "    </tr>\n",
       "    <tr>\n",
       "      <th>19</th>\n",
       "      <td>fractal_dimension_se</td>\n",
       "      <td>0.000000</td>\n",
       "    </tr>\n",
       "    <tr>\n",
       "      <th>0</th>\n",
       "      <td>radius_mean</td>\n",
       "      <td>0.000000</td>\n",
       "    </tr>\n",
       "    <tr>\n",
       "      <th>17</th>\n",
       "      <td>concave points_se</td>\n",
       "      <td>0.000000</td>\n",
       "    </tr>\n",
       "    <tr>\n",
       "      <th>16</th>\n",
       "      <td>concavity_se</td>\n",
       "      <td>0.000000</td>\n",
       "    </tr>\n",
       "    <tr>\n",
       "      <th>15</th>\n",
       "      <td>compactness_se</td>\n",
       "      <td>0.000000</td>\n",
       "    </tr>\n",
       "    <tr>\n",
       "      <th>10</th>\n",
       "      <td>radius_se</td>\n",
       "      <td>0.000000</td>\n",
       "    </tr>\n",
       "    <tr>\n",
       "      <th>9</th>\n",
       "      <td>fractal_dimension_mean</td>\n",
       "      <td>0.000000</td>\n",
       "    </tr>\n",
       "    <tr>\n",
       "      <th>8</th>\n",
       "      <td>symmetry_mean</td>\n",
       "      <td>0.000000</td>\n",
       "    </tr>\n",
       "    <tr>\n",
       "      <th>5</th>\n",
       "      <td>compactness_mean</td>\n",
       "      <td>0.000000</td>\n",
       "    </tr>\n",
       "    <tr>\n",
       "      <th>4</th>\n",
       "      <td>smoothness_mean</td>\n",
       "      <td>0.000000</td>\n",
       "    </tr>\n",
       "    <tr>\n",
       "      <th>2</th>\n",
       "      <td>perimeter_mean</td>\n",
       "      <td>0.000000</td>\n",
       "    </tr>\n",
       "    <tr>\n",
       "      <th>14</th>\n",
       "      <td>smoothness_se</td>\n",
       "      <td>0.000000</td>\n",
       "    </tr>\n",
       "  </tbody>\n",
       "</table>\n",
       "</div>"
      ],
      "text/plain": [
       "                   feature  importance\n",
       "22         perimeter_worst    0.723157\n",
       "27    concave points_worst    0.067700\n",
       "24        smoothness_worst    0.040833\n",
       "1             texture_mean    0.035412\n",
       "3                area_mean    0.027148\n",
       "21           texture_worst    0.018744\n",
       "6           concavity_mean    0.017530\n",
       "12            perimeter_se    0.016841\n",
       "23              area_worst    0.015606\n",
       "7      concave points_mean    0.013416\n",
       "11              texture_se    0.011269\n",
       "28          symmetry_worst    0.007043\n",
       "26         concavity_worst    0.003066\n",
       "13                 area_se    0.002234\n",
       "18             symmetry_se    0.000000\n",
       "25       compactness_worst    0.000000\n",
       "20            radius_worst    0.000000\n",
       "19    fractal_dimension_se    0.000000\n",
       "0              radius_mean    0.000000\n",
       "17       concave points_se    0.000000\n",
       "16            concavity_se    0.000000\n",
       "15          compactness_se    0.000000\n",
       "10               radius_se    0.000000\n",
       "9   fractal_dimension_mean    0.000000\n",
       "8            symmetry_mean    0.000000\n",
       "5         compactness_mean    0.000000\n",
       "4          smoothness_mean    0.000000\n",
       "2           perimeter_mean    0.000000\n",
       "14           smoothness_se    0.000000"
      ]
     },
     "execution_count": 23,
     "metadata": {},
     "output_type": "execute_result"
    }
   ],
   "source": [
    "FeatureImportance(tree)"
   ]
  },
  {
   "cell_type": "markdown",
   "metadata": {
    "papermill": {
     "duration": 0.050862,
     "end_time": "2021-01-21T17:08:53.699263",
     "exception": false,
     "start_time": "2021-01-21T17:08:53.648401",
     "status": "completed"
    },
    "tags": []
   },
   "source": [
    "<a id=\"4.2.5-Cross-Validation\"></a>\n",
    "# 4.2.5 - Decision Tree - Cross Validation"
   ]
  },
  {
   "cell_type": "code",
   "execution_count": 24,
   "metadata": {
    "_kg_hide-input": true,
    "execution": {
     "iopub.execute_input": "2021-01-21T17:08:53.806568Z",
     "iopub.status.busy": "2021-01-21T17:08:53.806013Z",
     "iopub.status.idle": "2021-01-21T17:08:53.942191Z",
     "shell.execute_reply": "2021-01-21T17:08:53.942656Z"
    },
    "papermill": {
     "duration": 0.191062,
     "end_time": "2021-01-21T17:08:53.942795",
     "exception": false,
     "start_time": "2021-01-21T17:08:53.751733",
     "status": "completed"
    },
    "tags": []
   },
   "outputs": [
    {
     "name": "stdout",
     "output_type": "stream",
     "text": [
      "Score (Decision Tree default CV): 0.920865\n"
     ]
    }
   ],
   "source": [
    "#Cross validation for Decision Tree with default hyper parameters\n",
    "tree_cv_default = cross_val_score(estimator = tree,\n",
    "                             X = x, y = y,\n",
    "                             cv = 10, scoring = 'accuracy')\n",
    "score_tree_default_cv = tree_cv_default.mean()\n",
    "print(\"Score (Decision Tree default CV): %f\" % score_tree_default_cv)\n",
    "scores_cv.append(score_tree_default_cv)"
   ]
  },
  {
   "cell_type": "markdown",
   "metadata": {
    "papermill": {
     "duration": 0.050856,
     "end_time": "2021-01-21T17:08:54.045109",
     "exception": false,
     "start_time": "2021-01-21T17:08:53.994253",
     "status": "completed"
    },
    "tags": []
   },
   "source": [
    "<a id=\"4.3-Logistic-Regression\"></a>\n",
    "# 4.3 - Logistic regression\n",
    "\n",
    "<a id=\"4.3.1-Build-A-Model-With-Default-Parameters\"></a>\n",
    "# 4.3.1 - Logistic Regression - Build a model with default parameters"
   ]
  },
  {
   "cell_type": "code",
   "execution_count": 25,
   "metadata": {
    "_kg_hide-input": true,
    "execution": {
     "iopub.execute_input": "2021-01-21T17:08:54.159427Z",
     "iopub.status.busy": "2021-01-21T17:08:54.158805Z",
     "iopub.status.idle": "2021-01-21T17:08:54.723379Z",
     "shell.execute_reply": "2021-01-21T17:08:54.722572Z"
    },
    "papermill": {
     "duration": 0.626343,
     "end_time": "2021-01-21T17:08:54.723527",
     "exception": false,
     "start_time": "2021-01-21T17:08:54.097184",
     "status": "completed"
    },
    "tags": []
   },
   "outputs": [
    {
     "name": "stdout",
     "output_type": "stream",
     "text": [
      "Score (Logistic Regression): 0.938596\n"
     ]
    }
   ],
   "source": [
    "logreg = LogisticRegression(max_iter=3000)\n",
    "logreg.fit(x_train, y_train)\n",
    "labels_logreg = logreg.predict(x_test)\n",
    "conf_mx_logreg = confusion_matrix(y_test, labels_logreg)\n",
    "score_lr = logreg.score(x_test, y_test)\n",
    "print(\"Score (Logistic Regression): %f\" % score_lr)\n",
    "scores.append(score_lr)"
   ]
  },
  {
   "cell_type": "markdown",
   "metadata": {
    "papermill": {
     "duration": 0.051502,
     "end_time": "2021-01-21T17:08:54.834946",
     "exception": false,
     "start_time": "2021-01-21T17:08:54.783444",
     "status": "completed"
    },
    "tags": []
   },
   "source": [
    "<a id=\"4.3.2-Parameters-Tuning\"></a>\n",
    "# 4.3.2 - Logistic Regression - Parameters tuning"
   ]
  },
  {
   "cell_type": "code",
   "execution_count": 26,
   "metadata": {
    "_kg_hide-input": true,
    "execution": {
     "iopub.execute_input": "2021-01-21T17:08:54.947520Z",
     "iopub.status.busy": "2021-01-21T17:08:54.946607Z",
     "iopub.status.idle": "2021-01-21T17:09:00.929936Z",
     "shell.execute_reply": "2021-01-21T17:09:00.929366Z"
    },
    "papermill": {
     "duration": 6.042937,
     "end_time": "2021-01-21T17:09:00.930064",
     "exception": false,
     "start_time": "2021-01-21T17:08:54.887127",
     "status": "completed"
    },
    "tags": []
   },
   "outputs": [
    {
     "name": "stdout",
     "output_type": "stream",
     "text": [
      "The best parameters for Logistic Regression are: \"{'max_iter': 10000, 'solver': 'liblinear'}\" and this model can explain the dataset with an accuracy of 95.08 %\n"
     ]
    }
   ],
   "source": [
    "params_logreg = {\"solver\":[ 'newton-cg', 'liblinear', 'sag', 'saga'],  #not used: 'lbfgs'\n",
    "                 \"max_iter\" : [10000]}\n",
    "grid_search_logreg = GridSearchCV(estimator = logreg,\n",
    "                           param_grid = params_logreg,\n",
    "                           scoring = 'accuracy',\n",
    "                           cv = 5)\n",
    "grid_search_logreg = grid_search_logreg.fit(x, y)\n",
    "scores.append(grid_search_logreg.best_score_)\n",
    "print(f'The best parameters for Logistic Regression are: \"{grid_search_logreg.best_params_}\" and this model can explain the dataset with an accuracy of {str(np.round(grid_search_logreg.best_score_ * 100,2))} %')"
   ]
  },
  {
   "cell_type": "markdown",
   "metadata": {
    "papermill": {
     "duration": 0.054291,
     "end_time": "2021-01-21T17:09:01.039754",
     "exception": false,
     "start_time": "2021-01-21T17:09:00.985463",
     "status": "completed"
    },
    "tags": []
   },
   "source": [
    "<a id=\"4.3.3-Confusion-Matrix\"></a>\n",
    "# 4.3.3 - Logistic Regression - Confusion Matrix"
   ]
  },
  {
   "cell_type": "code",
   "execution_count": 27,
   "metadata": {
    "_kg_hide-input": true,
    "execution": {
     "iopub.execute_input": "2021-01-21T17:09:01.158290Z",
     "iopub.status.busy": "2021-01-21T17:09:01.157271Z",
     "iopub.status.idle": "2021-01-21T17:09:01.309194Z",
     "shell.execute_reply": "2021-01-21T17:09:01.309830Z"
    },
    "papermill": {
     "duration": 0.215823,
     "end_time": "2021-01-21T17:09:01.309993",
     "exception": false,
     "start_time": "2021-01-21T17:09:01.094170",
     "status": "completed"
    },
    "tags": []
   },
   "outputs": [
    {
     "data": {
      "image/png": "[encoded data removed]",
      "text/plain": [
       "<Figure size 432x288 with 2 Axes>"
      ]
     },
     "metadata": {
      "needs_background": "light"
     },
     "output_type": "display_data"
    }
   ],
   "source": [
    "DisplayConfusionMatrix(logreg,\"Confusion matrix for Logistic Regression model\")"
   ]
  },
  {
   "cell_type": "markdown",
   "metadata": {
    "papermill": {
     "duration": 0.055379,
     "end_time": "2021-01-21T17:09:01.421172",
     "exception": false,
     "start_time": "2021-01-21T17:09:01.365793",
     "status": "completed"
    },
    "tags": []
   },
   "source": [
    "<a id=\"4.3.4-Importance-Of-Each-Feature\"></a>\n",
    "# 4.3.4 - Logistic Regression - Importance of each feature"
   ]
  },
  {
   "cell_type": "code",
   "execution_count": 28,
   "metadata": {
    "_kg_hide-input": true,
    "execution": {
     "iopub.execute_input": "2021-01-21T17:09:01.535399Z",
     "iopub.status.busy": "2021-01-21T17:09:01.534738Z",
     "iopub.status.idle": "2021-01-21T17:09:01.538241Z",
     "shell.execute_reply": "2021-01-21T17:09:01.537702Z"
    },
    "papermill": {
     "duration": 0.061716,
     "end_time": "2021-01-21T17:09:01.538356",
     "exception": false,
     "start_time": "2021-01-21T17:09:01.476640",
     "status": "completed"
    },
    "tags": []
   },
   "outputs": [],
   "source": [
    "#To be implemented"
   ]
  },
  {
   "cell_type": "markdown",
   "metadata": {
    "papermill": {
     "duration": 0.052804,
     "end_time": "2021-01-21T17:09:01.644612",
     "exception": false,
     "start_time": "2021-01-21T17:09:01.591808",
     "status": "completed"
    },
    "tags": []
   },
   "source": [
    "<a id=\"4.3.5-Cross-Validation\"></a>\n",
    "# 4.3.5 - Logistic Regression - Cross Validation"
   ]
  },
  {
   "cell_type": "code",
   "execution_count": 29,
   "metadata": {
    "_kg_hide-input": true,
    "execution": {
     "iopub.execute_input": "2021-01-21T17:09:01.761804Z",
     "iopub.status.busy": "2021-01-21T17:09:01.761222Z",
     "iopub.status.idle": "2021-01-21T17:09:07.431056Z",
     "shell.execute_reply": "2021-01-21T17:09:07.431535Z"
    },
    "papermill": {
     "duration": 5.733647,
     "end_time": "2021-01-21T17:09:07.431684",
     "exception": false,
     "start_time": "2021-01-21T17:09:01.698037",
     "status": "completed"
    },
    "tags": []
   },
   "outputs": [
    {
     "name": "stdout",
     "output_type": "stream",
     "text": [
      "Score (Logistic Regression default CV): 0.954323\n"
     ]
    }
   ],
   "source": [
    "#Cross validation for Logistic Regression with default hyper parameters\n",
    "logreg_cv_default = cross_val_score(estimator = logreg,\n",
    "                             X = x, y = y,\n",
    "                             cv = 10, scoring = 'accuracy')\n",
    "score_logreg_default_cv = logreg_cv_default.mean()\n",
    "print(\"Score (Logistic Regression default CV): %f\" % score_logreg_default_cv)\n",
    "scores_cv.append(score_logreg_default_cv)"
   ]
  },
  {
   "cell_type": "markdown",
   "metadata": {
    "papermill": {
     "duration": 0.05353,
     "end_time": "2021-01-21T17:09:07.539001",
     "exception": false,
     "start_time": "2021-01-21T17:09:07.485471",
     "status": "completed"
    },
    "tags": []
   },
   "source": [
    "<a id=\"4.4-Random-Forest\"></a>\n",
    "# 4.4 - Random forest\n",
    "\n",
    "<a id=\"4.4.1-Build-A-Model-With-Default-Parameters\"></a>\n",
    "# 4.4.1 - Random Forest - Build a model with default parameters"
   ]
  },
  {
   "cell_type": "code",
   "execution_count": 30,
   "metadata": {
    "_kg_hide-input": true,
    "execution": {
     "iopub.execute_input": "2021-01-21T17:09:07.664177Z",
     "iopub.status.busy": "2021-01-21T17:09:07.658791Z",
     "iopub.status.idle": "2021-01-21T17:09:07.884493Z",
     "shell.execute_reply": "2021-01-21T17:09:07.883987Z"
    },
    "papermill": {
     "duration": 0.291888,
     "end_time": "2021-01-21T17:09:07.884596",
     "exception": false,
     "start_time": "2021-01-21T17:09:07.592708",
     "status": "completed"
    },
    "tags": []
   },
   "outputs": [
    {
     "name": "stdout",
     "output_type": "stream",
     "text": [
      "Score (Random forest): 0.964912\n"
     ]
    }
   ],
   "source": [
    "forest = RandomForestClassifier()\n",
    "forest.fit(x_train, y_train)\n",
    "labels_rf = forest.predict(x_test)\n",
    "conf_mx_rf = confusion_matrix(y_test, labels_rf)\n",
    "score_rf = forest.score(x_test, y_test)\n",
    "print(\"Score (Random forest): %f\" % score_rf)\n",
    "scores.append(score_rf)"
   ]
  },
  {
   "cell_type": "markdown",
   "metadata": {
    "papermill": {
     "duration": 0.054122,
     "end_time": "2021-01-21T17:09:07.992359",
     "exception": false,
     "start_time": "2021-01-21T17:09:07.938237",
     "status": "completed"
    },
    "tags": []
   },
   "source": [
    "<a id=\"4.4.2-Parameters-Tuning\"></a>\n",
    "# 4.4.2 - Random Forest - Parameters tuning"
   ]
  },
  {
   "cell_type": "code",
   "execution_count": 31,
   "metadata": {
    "_kg_hide-input": true,
    "execution": {
     "iopub.execute_input": "2021-01-21T17:09:08.108903Z",
     "iopub.status.busy": "2021-01-21T17:09:08.107413Z",
     "iopub.status.idle": "2021-01-21T17:10:01.789867Z",
     "shell.execute_reply": "2021-01-21T17:10:01.790385Z"
    },
    "papermill": {
     "duration": 53.74357,
     "end_time": "2021-01-21T17:10:01.790519",
     "exception": false,
     "start_time": "2021-01-21T17:09:08.046949",
     "status": "completed"
    },
    "tags": []
   },
   "outputs": [
    {
     "name": "stdout",
     "output_type": "stream",
     "text": [
      "The best parameters for Random Forest are: \"{'criterion': 'entropy', 'max_features': 'auto', 'n_estimators': 200}\" and this model can explain the dataset with an accuracy of 97.01 %\n"
     ]
    }
   ],
   "source": [
    "params_rf = { \n",
    "    'n_estimators': [100, 200, 500],\n",
    "    'max_features': ['auto', 'sqrt', 'log2'],\n",
    "  #  'max_depth' : ['none', 4,5,6,7,8],\n",
    "    'criterion' : ['gini', 'entropy']\n",
    "}\n",
    "\n",
    "#params_rf = {\"criterion\":['gini'], \"n_estimators\" : range(60,110)}\n",
    "\n",
    "grid_search_rf = GridSearchCV(estimator = forest,\n",
    "                           param_grid = params_rf,\n",
    "                           scoring = 'accuracy',\n",
    "                           cv = 5)\n",
    "grid_search_rf = grid_search_rf.fit(x, y)\n",
    "scores.append(grid_search_rf.best_score_)\n",
    "print(f'The best parameters for Random Forest are: \"{grid_search_rf.best_params_}\" and this model can explain the dataset with an accuracy of {str(np.round(grid_search_rf.best_score_ * 100,2))} %')"
   ]
  },
  {
   "cell_type": "markdown",
   "metadata": {
    "papermill": {
     "duration": 0.054755,
     "end_time": "2021-01-21T17:10:01.899308",
     "exception": false,
     "start_time": "2021-01-21T17:10:01.844553",
     "status": "completed"
    },
    "tags": []
   },
   "source": [
    "<a id=\"4.4.3-Confusion-Matrix\"></a>\n",
    "# 4.4.3 - Random Forest - Confusion Matrix"
   ]
  },
  {
   "cell_type": "code",
   "execution_count": 32,
   "metadata": {
    "_kg_hide-input": true,
    "execution": {
     "iopub.execute_input": "2021-01-21T17:10:02.014617Z",
     "iopub.status.busy": "2021-01-21T17:10:02.013983Z",
     "iopub.status.idle": "2021-01-21T17:10:02.226262Z",
     "shell.execute_reply": "2021-01-21T17:10:02.227007Z"
    },
    "papermill": {
     "duration": 0.273191,
     "end_time": "2021-01-21T17:10:02.227207",
     "exception": false,
     "start_time": "2021-01-21T17:10:01.954016",
     "status": "completed"
    },
    "tags": []
   },
   "outputs": [
    {
     "data": {
      "image/png": "[encoded data removed]",
      "text/plain": [
       "<Figure size 504x504 with 2 Axes>"
      ]
     },
     "metadata": {
      "needs_background": "light"
     },
     "output_type": "display_data"
    }
   ],
   "source": [
    "DisplayConfusionMatrix_2(labels_rf, 'Confusion Matrix for Random Forest Model')"
   ]
  },
  {
   "cell_type": "markdown",
   "metadata": {
    "papermill": {
     "duration": 0.05581,
     "end_time": "2021-01-21T17:10:02.353111",
     "exception": false,
     "start_time": "2021-01-21T17:10:02.297301",
     "status": "completed"
    },
    "tags": []
   },
   "source": [
    "<a id=\"4.4.4-Importance-Of-Each-Feature\"></a>\n",
    "# 4.4.4 - Random Forest - Importance of each feature"
   ]
  },
  {
   "cell_type": "code",
   "execution_count": 33,
   "metadata": {
    "_kg_hide-input": true,
    "execution": {
     "iopub.execute_input": "2021-01-21T17:10:02.498043Z",
     "iopub.status.busy": "2021-01-21T17:10:02.496321Z",
     "iopub.status.idle": "2021-01-21T17:10:02.510086Z",
     "shell.execute_reply": "2021-01-21T17:10:02.509526Z"
    },
    "papermill": {
     "duration": 0.094014,
     "end_time": "2021-01-21T17:10:02.510206",
     "exception": false,
     "start_time": "2021-01-21T17:10:02.416192",
     "status": "completed"
    },
    "tags": []
   },
   "outputs": [
    {
     "data": {
      "text/html": [
       "<div>\n",
       "<style scoped>\n",
       "    .dataframe tbody tr th:only-of-type {\n",
       "        vertical-align: middle;\n",
       "    }\n",
       "\n",
       "    .dataframe tbody tr th {\n",
       "        vertical-align: top;\n",
       "    }\n",
       "\n",
       "    .dataframe thead th {\n",
       "        text-align: right;\n",
       "    }\n",
       "</style>\n",
       "<table border=\"1\" class=\"dataframe\">\n",
       "  <thead>\n",
       "    <tr style=\"text-align: right;\">\n",
       "      <th></th>\n",
       "      <th>feature</th>\n",
       "      <th>importance</th>\n",
       "    </tr>\n",
       "  </thead>\n",
       "  <tbody>\n",
       "    <tr>\n",
       "      <th>22</th>\n",
       "      <td>perimeter_worst</td>\n",
       "      <td>0.165744</td>\n",
       "    </tr>\n",
       "    <tr>\n",
       "      <th>27</th>\n",
       "      <td>concave points_worst</td>\n",
       "      <td>0.120331</td>\n",
       "    </tr>\n",
       "    <tr>\n",
       "      <th>20</th>\n",
       "      <td>radius_worst</td>\n",
       "      <td>0.106760</td>\n",
       "    </tr>\n",
       "    <tr>\n",
       "      <th>7</th>\n",
       "      <td>concave points_mean</td>\n",
       "      <td>0.098364</td>\n",
       "    </tr>\n",
       "    <tr>\n",
       "      <th>23</th>\n",
       "      <td>area_worst</td>\n",
       "      <td>0.081704</td>\n",
       "    </tr>\n",
       "    <tr>\n",
       "      <th>3</th>\n",
       "      <td>area_mean</td>\n",
       "      <td>0.068966</td>\n",
       "    </tr>\n",
       "    <tr>\n",
       "      <th>2</th>\n",
       "      <td>perimeter_mean</td>\n",
       "      <td>0.057193</td>\n",
       "    </tr>\n",
       "    <tr>\n",
       "      <th>0</th>\n",
       "      <td>radius_mean</td>\n",
       "      <td>0.043381</td>\n",
       "    </tr>\n",
       "    <tr>\n",
       "      <th>26</th>\n",
       "      <td>concavity_worst</td>\n",
       "      <td>0.033365</td>\n",
       "    </tr>\n",
       "    <tr>\n",
       "      <th>13</th>\n",
       "      <td>area_se</td>\n",
       "      <td>0.032180</td>\n",
       "    </tr>\n",
       "    <tr>\n",
       "      <th>6</th>\n",
       "      <td>concavity_mean</td>\n",
       "      <td>0.031013</td>\n",
       "    </tr>\n",
       "    <tr>\n",
       "      <th>25</th>\n",
       "      <td>compactness_worst</td>\n",
       "      <td>0.022710</td>\n",
       "    </tr>\n",
       "    <tr>\n",
       "      <th>24</th>\n",
       "      <td>smoothness_worst</td>\n",
       "      <td>0.015544</td>\n",
       "    </tr>\n",
       "    <tr>\n",
       "      <th>21</th>\n",
       "      <td>texture_worst</td>\n",
       "      <td>0.014385</td>\n",
       "    </tr>\n",
       "    <tr>\n",
       "      <th>1</th>\n",
       "      <td>texture_mean</td>\n",
       "      <td>0.012071</td>\n",
       "    </tr>\n",
       "    <tr>\n",
       "      <th>28</th>\n",
       "      <td>symmetry_worst</td>\n",
       "      <td>0.010483</td>\n",
       "    </tr>\n",
       "    <tr>\n",
       "      <th>10</th>\n",
       "      <td>radius_se</td>\n",
       "      <td>0.010322</td>\n",
       "    </tr>\n",
       "    <tr>\n",
       "      <th>12</th>\n",
       "      <td>perimeter_se</td>\n",
       "      <td>0.010264</td>\n",
       "    </tr>\n",
       "    <tr>\n",
       "      <th>5</th>\n",
       "      <td>compactness_mean</td>\n",
       "      <td>0.010134</td>\n",
       "    </tr>\n",
       "    <tr>\n",
       "      <th>4</th>\n",
       "      <td>smoothness_mean</td>\n",
       "      <td>0.009188</td>\n",
       "    </tr>\n",
       "    <tr>\n",
       "      <th>19</th>\n",
       "      <td>fractal_dimension_se</td>\n",
       "      <td>0.008210</td>\n",
       "    </tr>\n",
       "    <tr>\n",
       "      <th>16</th>\n",
       "      <td>concavity_se</td>\n",
       "      <td>0.006823</td>\n",
       "    </tr>\n",
       "    <tr>\n",
       "      <th>15</th>\n",
       "      <td>compactness_se</td>\n",
       "      <td>0.006429</td>\n",
       "    </tr>\n",
       "    <tr>\n",
       "      <th>8</th>\n",
       "      <td>symmetry_mean</td>\n",
       "      <td>0.005573</td>\n",
       "    </tr>\n",
       "    <tr>\n",
       "      <th>11</th>\n",
       "      <td>texture_se</td>\n",
       "      <td>0.004220</td>\n",
       "    </tr>\n",
       "    <tr>\n",
       "      <th>17</th>\n",
       "      <td>concave points_se</td>\n",
       "      <td>0.004198</td>\n",
       "    </tr>\n",
       "    <tr>\n",
       "      <th>14</th>\n",
       "      <td>smoothness_se</td>\n",
       "      <td>0.003757</td>\n",
       "    </tr>\n",
       "    <tr>\n",
       "      <th>9</th>\n",
       "      <td>fractal_dimension_mean</td>\n",
       "      <td>0.003644</td>\n",
       "    </tr>\n",
       "    <tr>\n",
       "      <th>18</th>\n",
       "      <td>symmetry_se</td>\n",
       "      <td>0.003043</td>\n",
       "    </tr>\n",
       "  </tbody>\n",
       "</table>\n",
       "</div>"
      ],
      "text/plain": [
       "                   feature  importance\n",
       "22         perimeter_worst    0.165744\n",
       "27    concave points_worst    0.120331\n",
       "20            radius_worst    0.106760\n",
       "7      concave points_mean    0.098364\n",
       "23              area_worst    0.081704\n",
       "3                area_mean    0.068966\n",
       "2           perimeter_mean    0.057193\n",
       "0              radius_mean    0.043381\n",
       "26         concavity_worst    0.033365\n",
       "13                 area_se    0.032180\n",
       "6           concavity_mean    0.031013\n",
       "25       compactness_worst    0.022710\n",
       "24        smoothness_worst    0.015544\n",
       "21           texture_worst    0.014385\n",
       "1             texture_mean    0.012071\n",
       "28          symmetry_worst    0.010483\n",
       "10               radius_se    0.010322\n",
       "12            perimeter_se    0.010264\n",
       "5         compactness_mean    0.010134\n",
       "4          smoothness_mean    0.009188\n",
       "19    fractal_dimension_se    0.008210\n",
       "16            concavity_se    0.006823\n",
       "15          compactness_se    0.006429\n",
       "8            symmetry_mean    0.005573\n",
       "11              texture_se    0.004220\n",
       "17       concave points_se    0.004198\n",
       "14           smoothness_se    0.003757\n",
       "9   fractal_dimension_mean    0.003644\n",
       "18             symmetry_se    0.003043"
      ]
     },
     "execution_count": 33,
     "metadata": {},
     "output_type": "execute_result"
    }
   ],
   "source": [
    "FeatureImportance(forest)"
   ]
  },
  {
   "cell_type": "markdown",
   "metadata": {
    "papermill": {
     "duration": 0.056475,
     "end_time": "2021-01-21T17:10:02.623460",
     "exception": false,
     "start_time": "2021-01-21T17:10:02.566985",
     "status": "completed"
    },
    "tags": []
   },
   "source": [
    "<a id=\"4.4.5-Cross-Validation\"></a>\n",
    "# 4.4.5 - Random Forest - Cross Validation"
   ]
  },
  {
   "cell_type": "code",
   "execution_count": 34,
   "metadata": {
    "_kg_hide-input": true,
    "execution": {
     "iopub.execute_input": "2021-01-21T17:10:02.764867Z",
     "iopub.status.busy": "2021-01-21T17:10:02.747043Z",
     "iopub.status.idle": "2021-01-21T17:10:04.959947Z",
     "shell.execute_reply": "2021-01-21T17:10:04.959052Z"
    },
    "papermill": {
     "duration": 2.279855,
     "end_time": "2021-01-21T17:10:04.960069",
     "exception": false,
     "start_time": "2021-01-21T17:10:02.680214",
     "status": "completed"
    },
    "tags": []
   },
   "outputs": [
    {
     "name": "stdout",
     "output_type": "stream",
     "text": [
      "Score (Radom Forest default CV): 0.959649\n"
     ]
    }
   ],
   "source": [
    "#Cross validation for Random Fores with default hyper parameters\n",
    "rf_cv_default = cross_val_score(estimator = forest,\n",
    "                             X = x, y = y,\n",
    "                             cv = 10, scoring = 'accuracy')\n",
    "score_rf_default_cv = rf_cv_default.mean()\n",
    "print(\"Score (Radom Forest default CV): %f\" % score_rf_default_cv)\n",
    "scores_cv.append(score_rf_default_cv)"
   ]
  },
  {
   "cell_type": "markdown",
   "metadata": {
    "papermill": {
     "duration": 0.056144,
     "end_time": "2021-01-21T17:10:05.074364",
     "exception": false,
     "start_time": "2021-01-21T17:10:05.018220",
     "status": "completed"
    },
    "tags": []
   },
   "source": [
    "<a id=\"4.5-KNN\"></a>\n",
    "# 4.5 - KNN\n",
    "\n",
    "<a id=\"4.5.1-Build-A-Model-With-Default-Parameters\"></a>\n",
    "# 4.5.1 - KNN - Build a model with default parameters"
   ]
  },
  {
   "cell_type": "code",
   "execution_count": 35,
   "metadata": {
    "_kg_hide-input": true,
    "execution": {
     "iopub.execute_input": "2021-01-21T17:10:05.202773Z",
     "iopub.status.busy": "2021-01-21T17:10:05.196190Z",
     "iopub.status.idle": "2021-01-21T17:10:05.222717Z",
     "shell.execute_reply": "2021-01-21T17:10:05.222116Z"
    },
    "papermill": {
     "duration": 0.092111,
     "end_time": "2021-01-21T17:10:05.222831",
     "exception": false,
     "start_time": "2021-01-21T17:10:05.130720",
     "status": "completed"
    },
    "tags": []
   },
   "outputs": [
    {
     "name": "stdout",
     "output_type": "stream",
     "text": [
      "Score (KNN): 0.921053\n"
     ]
    }
   ],
   "source": [
    "knn = neighbors.KNeighborsClassifier(n_neighbors = 4)\n",
    "knn.fit(x_train, y_train)\n",
    "labels_knn = knn.predict(x_test)\n",
    "score_knn = knn.score(x_test, y_test)\n",
    "print(\"Score (KNN): %f\" % score_knn)\n",
    "conf_mx_knn = confusion_matrix(y_test, labels_knn)\n",
    "scores.append(score_knn)\n",
    "#print(\"R2 Score %f \" % r2_score(y_test, labels_knn))\n",
    "#knn.score(x_test, y_test) , np.mean(labels_knn == y_test), (labels_knn == y_test).sum() / len(x_test), \"R2 Score %f \" % r2_score(y_test, labels_knn)"
   ]
  },
  {
   "cell_type": "markdown",
   "metadata": {
    "papermill": {
     "duration": 0.068025,
     "end_time": "2021-01-21T17:10:05.368717",
     "exception": false,
     "start_time": "2021-01-21T17:10:05.300692",
     "status": "completed"
    },
    "tags": []
   },
   "source": [
    "<a id=\"4.5.2-Parameters-Tuning\"></a>\n",
    "# 4.5.2 - KNN - Parameters tuning"
   ]
  },
  {
   "cell_type": "code",
   "execution_count": 36,
   "metadata": {
    "_kg_hide-input": true,
    "execution": {
     "iopub.execute_input": "2021-01-21T17:10:05.490993Z",
     "iopub.status.busy": "2021-01-21T17:10:05.490392Z",
     "iopub.status.idle": "2021-01-21T17:10:08.543166Z",
     "shell.execute_reply": "2021-01-21T17:10:08.543616Z"
    },
    "papermill": {
     "duration": 3.117889,
     "end_time": "2021-01-21T17:10:08.543758",
     "exception": false,
     "start_time": "2021-01-21T17:10:05.425869",
     "status": "completed"
    },
    "tags": []
   },
   "outputs": [
    {
     "name": "stdout",
     "output_type": "stream",
     "text": [
      "The best parameters for KNN are: \"{'algorithm': 'auto', 'n_neighbors': 13, 'weights': 'uniform'}\" and this model can explain the dataset with an accuracy of 93.32 %\n"
     ]
    }
   ],
   "source": [
    "params_knn = {'n_neighbors': [5,7,9,11,13,15,17,19,21],\n",
    "              'algorithm' : ['auto', 'ball_tree', 'kd_tree', 'brute'],\n",
    "              'weights' : ['uniform', 'distance']}\n",
    "grid_search_knn = GridSearchCV(estimator = knn,\n",
    "                           param_grid = params_knn,\n",
    "                           scoring = 'accuracy',\n",
    "                           cv = 5)\n",
    "grid_search_knn = grid_search_knn.fit(x, y)\n",
    "print(f'The best parameters for KNN are: \"{grid_search_knn.best_params_}\" and this model can explain the dataset with an accuracy of {str(np.round(grid_search_knn.best_score_ * 100,2))} %')\n",
    "scores.append(grid_search_knn.best_score_)"
   ]
  },
  {
   "cell_type": "markdown",
   "metadata": {
    "papermill": {
     "duration": 0.056215,
     "end_time": "2021-01-21T17:10:08.656260",
     "exception": false,
     "start_time": "2021-01-21T17:10:08.600045",
     "status": "completed"
    },
    "tags": []
   },
   "source": [
    "<a id=\"4.5.3-Confusion-Matrix\"></a>\n",
    "# 4.5.3 - KNN - Confusion Matrix"
   ]
  },
  {
   "cell_type": "code",
   "execution_count": 37,
   "metadata": {
    "_kg_hide-input": true,
    "execution": {
     "iopub.execute_input": "2021-01-21T17:10:08.774436Z",
     "iopub.status.busy": "2021-01-21T17:10:08.773532Z",
     "iopub.status.idle": "2021-01-21T17:10:08.940463Z",
     "shell.execute_reply": "2021-01-21T17:10:08.939940Z"
    },
    "papermill": {
     "duration": 0.227931,
     "end_time": "2021-01-21T17:10:08.940567",
     "exception": false,
     "start_time": "2021-01-21T17:10:08.712636",
     "status": "completed"
    },
    "tags": []
   },
   "outputs": [
    {
     "data": {
      "image/png": "[encoded data removed]",
      "text/plain": [
       "<Figure size 432x288 with 2 Axes>"
      ]
     },
     "metadata": {},
     "output_type": "display_data"
    }
   ],
   "source": [
    "DisplayConfusionMatrix(knn,\"Confusion matrix for KNN model\")"
   ]
  },
  {
   "cell_type": "markdown",
   "metadata": {
    "papermill": {
     "duration": 0.057689,
     "end_time": "2021-01-21T17:10:09.056319",
     "exception": false,
     "start_time": "2021-01-21T17:10:08.998630",
     "status": "completed"
    },
    "tags": []
   },
   "source": [
    "<a id=\"4.5.4-Importance-Of-Each-Feature\"></a>\n",
    "# 4.5.4 - KNN - Importance of each feature"
   ]
  },
  {
   "cell_type": "code",
   "execution_count": 38,
   "metadata": {
    "_kg_hide-input": true,
    "execution": {
     "iopub.execute_input": "2021-01-21T17:10:09.176089Z",
     "iopub.status.busy": "2021-01-21T17:10:09.175409Z",
     "iopub.status.idle": "2021-01-21T17:10:09.177962Z",
     "shell.execute_reply": "2021-01-21T17:10:09.178423Z"
    },
    "papermill": {
     "duration": 0.064713,
     "end_time": "2021-01-21T17:10:09.178571",
     "exception": false,
     "start_time": "2021-01-21T17:10:09.113858",
     "status": "completed"
    },
    "tags": []
   },
   "outputs": [],
   "source": [
    "#To be implemented"
   ]
  },
  {
   "cell_type": "markdown",
   "metadata": {
    "papermill": {
     "duration": 0.057741,
     "end_time": "2021-01-21T17:10:09.294561",
     "exception": false,
     "start_time": "2021-01-21T17:10:09.236820",
     "status": "completed"
    },
    "tags": []
   },
   "source": [
    "<a id=\"4.5.5-Cross-Validation\"></a>\n",
    "# 4.5.5 - KNN - Cross Validation"
   ]
  },
  {
   "cell_type": "code",
   "execution_count": 39,
   "metadata": {
    "_kg_hide-input": true,
    "execution": {
     "iopub.execute_input": "2021-01-21T17:10:09.421119Z",
     "iopub.status.busy": "2021-01-21T17:10:09.420427Z",
     "iopub.status.idle": "2021-01-21T17:10:09.506272Z",
     "shell.execute_reply": "2021-01-21T17:10:09.505532Z"
    },
    "papermill": {
     "duration": 0.154187,
     "end_time": "2021-01-21T17:10:09.506418",
     "exception": false,
     "start_time": "2021-01-21T17:10:09.352231",
     "status": "completed"
    },
    "tags": []
   },
   "outputs": [
    {
     "name": "stdout",
     "output_type": "stream",
     "text": [
      "Score (KNN default CV): 0.922713\n"
     ]
    }
   ],
   "source": [
    "#Cross validation for KNN with default hyper parameters\n",
    "knn_cv_default = cross_val_score(estimator = knn,\n",
    "                             X = x, y = y,\n",
    "                             cv = 10, scoring = 'accuracy')\n",
    "score_knn_default_cv = knn_cv_default.mean()\n",
    "print(\"Score (KNN default CV): %f\" % score_knn_default_cv)\n",
    "scores_cv.append(score_knn_default_cv)"
   ]
  },
  {
   "cell_type": "markdown",
   "metadata": {
    "papermill": {
     "duration": 0.057669,
     "end_time": "2021-01-21T17:10:09.622489",
     "exception": false,
     "start_time": "2021-01-21T17:10:09.564820",
     "status": "completed"
    },
    "tags": []
   },
   "source": [
    "<a id=\"5-Deep-Learning-TensorFlow-And-Keras\"></a>\n",
    "# 5 - Deep learning - Tensorflow and Keras\n",
    "\n",
    "\"Deep Learning com Python de A a Z - O Curso Completo\" - https://www.udemy.com/course/deep-learning-com-python-az-curso-completo/\n",
    "Udemy course from https://iaexpert.academy/\n",
    "\n",
    "\n",
    "\n",
    "TBD - Parameteres tuning"
   ]
  },
  {
   "cell_type": "markdown",
   "metadata": {
    "papermill": {
     "duration": 0.057979,
     "end_time": "2021-01-21T17:10:09.738607",
     "exception": false,
     "start_time": "2021-01-21T17:10:09.680628",
     "status": "completed"
    },
    "tags": []
   },
   "source": [
    "<a id=\"5.1-Using-Test-Split\"></a>\n",
    "# 5.1 - Using test_split"
   ]
  },
  {
   "cell_type": "code",
   "execution_count": 40,
   "metadata": {
    "_kg_hide-input": true,
    "execution": {
     "iopub.execute_input": "2021-01-21T17:10:09.864603Z",
     "iopub.status.busy": "2021-01-21T17:10:09.863954Z",
     "iopub.status.idle": "2021-01-21T17:10:14.036688Z",
     "shell.execute_reply": "2021-01-21T17:10:14.036060Z"
    },
    "papermill": {
     "duration": 4.23909,
     "end_time": "2021-01-21T17:10:14.036795",
     "exception": false,
     "start_time": "2021-01-21T17:10:09.797705",
     "status": "completed"
    },
    "tags": []
   },
   "outputs": [],
   "source": [
    "classifier_split = Sequential()\n",
    "#classifier_split.add(Dense(units = 16, activation = 'relu', kernel_initializer = 'random_uniform', input_dim = 29))\n",
    "classifier_split.add(Dense(units = 8, activation = 'relu', kernel_initializer = 'normal', input_dim = 29))\n",
    "#classifier_split.add(Dense(units = 16, activation = 'relu', kernel_initializer = 'random_uniform'))\n",
    "classifier_split.add(Dense(units = 8, activation = 'relu', kernel_initializer = 'normal'))\n",
    "classifier_split.add(Dense(units = 1, activation = 'sigmoid'))\n",
    "\n",
    "otimizador = keras.optimizers.Adam(lr = 0.001, decay = 0.0001, clipvalue = 0.5)\n",
    "classifier_split.compile(optimizer = otimizador, loss = 'binary_crossentropy',\n",
    "                      metrics = ['binary_accuracy'])\n",
    "\n",
    "# Fit model\n",
    "classifier_split.fit(x_train, y_train,\n",
    "                  batch_size = 10, epochs = 100, verbose = 0)\n",
    "# Predict\n",
    "labels_rn_split = classifier_split.predict(x_test)\n",
    "labels_rn_split = (labels_rn_split > 0.5)"
   ]
  },
  {
   "cell_type": "code",
   "execution_count": 41,
   "metadata": {
    "_kg_hide-input": true,
    "execution": {
     "iopub.execute_input": "2021-01-21T17:10:14.159585Z",
     "iopub.status.busy": "2021-01-21T17:10:14.158491Z",
     "iopub.status.idle": "2021-01-21T17:10:14.351662Z",
     "shell.execute_reply": "2021-01-21T17:10:14.352138Z"
    },
    "papermill": {
     "duration": 0.256632,
     "end_time": "2021-01-21T17:10:14.352290",
     "exception": false,
     "start_time": "2021-01-21T17:10:14.095658",
     "status": "completed"
    },
    "tags": []
   },
   "outputs": [
    {
     "data": {
      "image/png": "[encoded data removed]",
      "text/plain": [
       "<Figure size 504x504 with 2 Axes>"
      ]
     },
     "metadata": {},
     "output_type": "display_data"
    }
   ],
   "source": [
    "DisplayConfusionMatrix_2(labels_rn_split, 'Confusion Matrix for Neural Network - Using split')"
   ]
  },
  {
   "cell_type": "code",
   "execution_count": 42,
   "metadata": {
    "_kg_hide-input": true,
    "execution": {
     "iopub.execute_input": "2021-01-21T17:10:14.478730Z",
     "iopub.status.busy": "2021-01-21T17:10:14.477829Z",
     "iopub.status.idle": "2021-01-21T17:10:14.646202Z",
     "shell.execute_reply": "2021-01-21T17:10:14.645669Z"
    },
    "papermill": {
     "duration": 0.233826,
     "end_time": "2021-01-21T17:10:14.646321",
     "exception": false,
     "start_time": "2021-01-21T17:10:14.412495",
     "status": "completed"
    },
    "tags": []
   },
   "outputs": [
    {
     "name": "stdout",
     "output_type": "stream",
     "text": [
      "0.868421052631579\n",
      "4/4 [==============================] - 0s 1ms/step - loss: 0.7294 - binary_accuracy: 0.8684\n"
     ]
    }
   ],
   "source": [
    "precision = accuracy_score(y_test, labels_rn_split)\n",
    "print(precision)\n",
    "scores.append(precision)\n",
    "resultado = classifier_split.evaluate(x_test, y_test)"
   ]
  },
  {
   "cell_type": "markdown",
   "metadata": {
    "papermill": {
     "duration": 0.060627,
     "end_time": "2021-01-21T17:10:14.767527",
     "exception": false,
     "start_time": "2021-01-21T17:10:14.706900",
     "status": "completed"
    },
    "tags": []
   },
   "source": [
    "<a id=\"5.2-Using-Cross-Validation\"></a>\n",
    "# 5.2 - Using cross validation"
   ]
  },
  {
   "cell_type": "code",
   "execution_count": 43,
   "metadata": {
    "_kg_hide-input": true,
    "execution": {
     "iopub.execute_input": "2021-01-21T17:10:14.898473Z",
     "iopub.status.busy": "2021-01-21T17:10:14.897865Z",
     "iopub.status.idle": "2021-01-21T17:10:14.900911Z",
     "shell.execute_reply": "2021-01-21T17:10:14.900313Z"
    },
    "papermill": {
     "duration": 0.072362,
     "end_time": "2021-01-21T17:10:14.901017",
     "exception": false,
     "start_time": "2021-01-21T17:10:14.828655",
     "status": "completed"
    },
    "tags": []
   },
   "outputs": [],
   "source": [
    "previsores = x\n",
    "classe = y\n",
    "\n",
    "def createNeuralNetwork():\n",
    "    classifier_cv = Sequential()\n",
    "    classifier_cv.add(Dense(units = 8, activation = 'relu', kernel_initializer = 'normal', input_dim = 29))\n",
    "    #classifier_cv.add(Dense(units = 16, activation = 'relu', kernel_initializer = 'random_uniform', input_dim = 29))\n",
    "    classifier_cv.add(Dropout(0.2))\n",
    "    classifier_cv.add(Dense(units = 8, activation = 'relu', kernel_initializer = 'normal'))\n",
    "    #classifier_cv.add(Dense(units = 16, activation = 'relu', kernel_initializer = 'random_uniform'))\n",
    "    classifier_cv.add(Dropout(0.2))\n",
    "    classifier_cv.add(Dense(units = 1, activation = 'sigmoid'))\n",
    "    otimizador = keras.optimizers.Adam(lr = 0.001, decay = 0.0001, clipvalue = 0.5)\n",
    "    classifier_cv.compile(optimizer = otimizador, loss = 'binary_crossentropy',\n",
    "                      metrics = ['binary_accuracy'])\n",
    "    return classifier_cv"
   ]
  },
  {
   "cell_type": "code",
   "execution_count": 44,
   "metadata": {
    "_kg_hide-input": true,
    "execution": {
     "iopub.execute_input": "2021-01-21T17:10:15.030432Z",
     "iopub.status.busy": "2021-01-21T17:10:15.029276Z",
     "iopub.status.idle": "2021-01-21T17:10:58.908460Z",
     "shell.execute_reply": "2021-01-21T17:10:58.909009Z"
    },
    "papermill": {
     "duration": 43.946736,
     "end_time": "2021-01-21T17:10:58.909185",
     "exception": false,
     "start_time": "2021-01-21T17:10:14.962449",
     "status": "completed"
    },
    "tags": []
   },
   "outputs": [],
   "source": [
    "classifier_cv = KerasClassifier(build_fn = createNeuralNetwork,\n",
    "                                epochs = 100,\n",
    "                                batch_size = 10, verbose = 0)\n",
    "labels_rn_cv = cross_val_score(estimator = classifier_cv,\n",
    "                             X = previsores, y = classe,\n",
    "                             cv = 10, scoring = 'accuracy')"
   ]
  },
  {
   "cell_type": "code",
   "execution_count": 45,
   "metadata": {
    "_kg_hide-input": true,
    "execution": {
     "iopub.execute_input": "2021-01-21T17:10:59.035117Z",
     "iopub.status.busy": "2021-01-21T17:10:59.034549Z",
     "iopub.status.idle": "2021-01-21T17:10:59.038297Z",
     "shell.execute_reply": "2021-01-21T17:10:59.037495Z"
    },
    "papermill": {
     "duration": 0.068895,
     "end_time": "2021-01-21T17:10:59.038454",
     "exception": false,
     "start_time": "2021-01-21T17:10:58.969559",
     "status": "completed"
    },
    "tags": []
   },
   "outputs": [
    {
     "name": "stdout",
     "output_type": "stream",
     "text": [
      "0.9016290726817042\n",
      "0.04905258778458605\n"
     ]
    }
   ],
   "source": [
    "mean = labels_rn_cv.mean()\n",
    "scores.append(mean)\n",
    "scores_cv.append(mean)\n",
    "stddev = labels_rn_cv.std()\n",
    "print(mean)\n",
    "print(stddev)"
   ]
  },
  {
   "cell_type": "markdown",
   "metadata": {
    "papermill": {
     "duration": 0.059657,
     "end_time": "2021-01-21T17:10:59.157965",
     "exception": false,
     "start_time": "2021-01-21T17:10:59.098308",
     "status": "completed"
    },
    "tags": []
   },
   "source": [
    "<a id=\"6-Conclusion\"></a>\n",
    "# 6 - Conclusion"
   ]
  },
  {
   "cell_type": "code",
   "execution_count": 46,
   "metadata": {
    "_kg_hide-input": true,
    "execution": {
     "iopub.execute_input": "2021-01-21T17:10:59.293728Z",
     "iopub.status.busy": "2021-01-21T17:10:59.292730Z",
     "iopub.status.idle": "2021-01-21T17:10:59.296490Z",
     "shell.execute_reply": "2021-01-21T17:10:59.296012Z"
    },
    "papermill": {
     "duration": 0.077267,
     "end_time": "2021-01-21T17:10:59.296601",
     "exception": false,
     "start_time": "2021-01-21T17:10:59.219334",
     "status": "completed"
    },
    "tags": []
   },
   "outputs": [
    {
     "data": {
      "text/html": [
       "<div>\n",
       "<style scoped>\n",
       "    .dataframe tbody tr th:only-of-type {\n",
       "        vertical-align: middle;\n",
       "    }\n",
       "\n",
       "    .dataframe tbody tr th {\n",
       "        vertical-align: top;\n",
       "    }\n",
       "\n",
       "    .dataframe thead th {\n",
       "        text-align: right;\n",
       "    }\n",
       "</style>\n",
       "<table border=\"1\" class=\"dataframe\">\n",
       "  <thead>\n",
       "    <tr style=\"text-align: right;\">\n",
       "      <th></th>\n",
       "      <th>Model</th>\n",
       "      <th>Score</th>\n",
       "    </tr>\n",
       "  </thead>\n",
       "  <tbody>\n",
       "    <tr>\n",
       "      <th>7</th>\n",
       "      <td>Random forest tunned</td>\n",
       "      <td>0.970129</td>\n",
       "    </tr>\n",
       "    <tr>\n",
       "      <th>6</th>\n",
       "      <td>Random forest</td>\n",
       "      <td>0.964912</td>\n",
       "    </tr>\n",
       "    <tr>\n",
       "      <th>5</th>\n",
       "      <td>Logistic regression tunned</td>\n",
       "      <td>0.950815</td>\n",
       "    </tr>\n",
       "    <tr>\n",
       "      <th>2</th>\n",
       "      <td>Decision tree</td>\n",
       "      <td>0.947368</td>\n",
       "    </tr>\n",
       "    <tr>\n",
       "      <th>1</th>\n",
       "      <td>SVM tunned</td>\n",
       "      <td>0.947306</td>\n",
       "    </tr>\n",
       "    <tr>\n",
       "      <th>4</th>\n",
       "      <td>Logistic regression</td>\n",
       "      <td>0.938596</td>\n",
       "    </tr>\n",
       "    <tr>\n",
       "      <th>3</th>\n",
       "      <td>Decision tree tunned</td>\n",
       "      <td>0.936749</td>\n",
       "    </tr>\n",
       "    <tr>\n",
       "      <th>9</th>\n",
       "      <td>KNN tunned</td>\n",
       "      <td>0.933240</td>\n",
       "    </tr>\n",
       "    <tr>\n",
       "      <th>0</th>\n",
       "      <td>SVM</td>\n",
       "      <td>0.929825</td>\n",
       "    </tr>\n",
       "    <tr>\n",
       "      <th>8</th>\n",
       "      <td>KNN</td>\n",
       "      <td>0.921053</td>\n",
       "    </tr>\n",
       "    <tr>\n",
       "      <th>11</th>\n",
       "      <td>Neural network using cross validation</td>\n",
       "      <td>0.901629</td>\n",
       "    </tr>\n",
       "    <tr>\n",
       "      <th>10</th>\n",
       "      <td>Neural network using split</td>\n",
       "      <td>0.868421</td>\n",
       "    </tr>\n",
       "  </tbody>\n",
       "</table>\n",
       "</div>"
      ],
      "text/plain": [
       "                                    Model     Score\n",
       "7                    Random forest tunned  0.970129\n",
       "6                           Random forest  0.964912\n",
       "5              Logistic regression tunned  0.950815\n",
       "2                           Decision tree  0.947368\n",
       "1                              SVM tunned  0.947306\n",
       "4                     Logistic regression  0.938596\n",
       "3                    Decision tree tunned  0.936749\n",
       "9                              KNN tunned  0.933240\n",
       "0                                     SVM  0.929825\n",
       "8                                     KNN  0.921053\n",
       "11  Neural network using cross validation  0.901629\n",
       "10             Neural network using split  0.868421"
      ]
     },
     "execution_count": 46,
     "metadata": {},
     "output_type": "execute_result"
    }
   ],
   "source": [
    "models = ['SVM', 'SVM tunned','Decision tree','Decision tree tunned','Logistic regression','Logistic regression tunned', 'Random forest','Random forest tunned','KNN','KNN tunned', 'Neural network using split', 'Neural network using cross validation']\n",
    "df_scores = pd.DataFrame({'Model': models,\n",
    "                       'Score': scores}).sort_values(['Score', 'Model'],ascending = [False, True])\n",
    "df_scores"
   ]
  },
  {
   "cell_type": "code",
   "execution_count": 47,
   "metadata": {
    "_kg_hide-input": true,
    "execution": {
     "iopub.execute_input": "2021-01-21T17:10:59.431767Z",
     "iopub.status.busy": "2021-01-21T17:10:59.426697Z",
     "iopub.status.idle": "2021-01-21T17:10:59.437518Z",
     "shell.execute_reply": "2021-01-21T17:10:59.436907Z"
    },
    "papermill": {
     "duration": 0.079614,
     "end_time": "2021-01-21T17:10:59.437629",
     "exception": false,
     "start_time": "2021-01-21T17:10:59.358015",
     "status": "completed"
    },
    "tags": []
   },
   "outputs": [
    {
     "data": {
      "text/html": [
       "<div>\n",
       "<style scoped>\n",
       "    .dataframe tbody tr th:only-of-type {\n",
       "        vertical-align: middle;\n",
       "    }\n",
       "\n",
       "    .dataframe tbody tr th {\n",
       "        vertical-align: top;\n",
       "    }\n",
       "\n",
       "    .dataframe thead th {\n",
       "        text-align: right;\n",
       "    }\n",
       "</style>\n",
       "<table border=\"1\" class=\"dataframe\">\n",
       "  <thead>\n",
       "    <tr style=\"text-align: right;\">\n",
       "      <th></th>\n",
       "      <th>Model CV</th>\n",
       "      <th>Score CV</th>\n",
       "    </tr>\n",
       "  </thead>\n",
       "  <tbody>\n",
       "    <tr>\n",
       "      <th>3</th>\n",
       "      <td>Random forest CV</td>\n",
       "      <td>0.959649</td>\n",
       "    </tr>\n",
       "    <tr>\n",
       "      <th>2</th>\n",
       "      <td>Logistic regression CV</td>\n",
       "      <td>0.954323</td>\n",
       "    </tr>\n",
       "    <tr>\n",
       "      <th>0</th>\n",
       "      <td>SVM CV</td>\n",
       "      <td>0.952569</td>\n",
       "    </tr>\n",
       "    <tr>\n",
       "      <th>4</th>\n",
       "      <td>KNN CV</td>\n",
       "      <td>0.922713</td>\n",
       "    </tr>\n",
       "    <tr>\n",
       "      <th>1</th>\n",
       "      <td>Decision tree CV</td>\n",
       "      <td>0.920865</td>\n",
       "    </tr>\n",
       "    <tr>\n",
       "      <th>5</th>\n",
       "      <td>Neural network using CV</td>\n",
       "      <td>0.901629</td>\n",
       "    </tr>\n",
       "  </tbody>\n",
       "</table>\n",
       "</div>"
      ],
      "text/plain": [
       "                  Model CV  Score CV\n",
       "3         Random forest CV  0.959649\n",
       "2   Logistic regression CV  0.954323\n",
       "0                   SVM CV  0.952569\n",
       "4                   KNN CV  0.922713\n",
       "1         Decision tree CV  0.920865\n",
       "5  Neural network using CV  0.901629"
      ]
     },
     "execution_count": 47,
     "metadata": {},
     "output_type": "execute_result"
    }
   ],
   "source": [
    "#models_cv = ['SVM CV', 'SVM tunned CV','Decision tree CV','Decision tree tunned CV','Logistic regression CV','Logistic regression tunned CV', 'Random forest CV','Random forest tunned CV','KNN CV','KNN tunned CV', 'Neural network using CV']\n",
    "models_cv = ['SVM CV','Decision tree CV','Logistic regression CV','Random forest CV','KNN CV','Neural network using CV']\n",
    "df_scores_cv = pd.DataFrame({'Model CV': models_cv,\n",
    "                       'Score CV': scores_cv}).sort_values(['Score CV', 'Model CV'],ascending = [False, True])\n",
    "df_scores_cv"
   ]
  },
  {
   "cell_type": "code",
   "execution_count": 48,
   "metadata": {
    "_kg_hide-input": true,
    "execution": {
     "iopub.execute_input": "2021-01-21T17:10:59.566208Z",
     "iopub.status.busy": "2021-01-21T17:10:59.565417Z",
     "iopub.status.idle": "2021-01-21T17:10:59.568525Z",
     "shell.execute_reply": "2021-01-21T17:10:59.569211Z"
    },
    "papermill": {
     "duration": 0.069905,
     "end_time": "2021-01-21T17:10:59.569353",
     "exception": false,
     "start_time": "2021-01-21T17:10:59.499448",
     "status": "completed"
    },
    "tags": []
   },
   "outputs": [
    {
     "name": "stdout",
     "output_type": "stream",
     "text": [
      "We can conclude that \"Random forest tunned\" model can explain this dataset with an accuracy of 97.01 %\n"
     ]
    }
   ],
   "source": [
    "best_model = df_scores.iloc[0]\n",
    "#type(best_model.Score)\n",
    "print(f'We can conclude that \"{best_model.Model}\" model can explain this dataset with an accuracy of {str(np.round(best_model.Score * 100,2))} %')"
   ]
  },
  {
   "cell_type": "markdown",
   "metadata": {
    "papermill": {
     "duration": 0.062103,
     "end_time": "2021-01-21T17:10:59.693291",
     "exception": false,
     "start_time": "2021-01-21T17:10:59.631188",
     "status": "completed"
    },
    "tags": []
   },
   "source": [
    "<a id=\"7-Appendix\"></a>\n",
    "# 7 - Appendix"
   ]
  },
  {
   "cell_type": "code",
   "execution_count": 49,
   "metadata": {
    "_kg_hide-input": true,
    "execution": {
     "iopub.execute_input": "2021-01-21T17:10:59.824641Z",
     "iopub.status.busy": "2021-01-21T17:10:59.823954Z",
     "iopub.status.idle": "2021-01-21T17:11:00.305682Z",
     "shell.execute_reply": "2021-01-21T17:11:00.305170Z"
    },
    "papermill": {
     "duration": 0.550003,
     "end_time": "2021-01-21T17:11:00.305798",
     "exception": false,
     "start_time": "2021-01-21T17:10:59.755795",
     "status": "completed"
    },
    "tags": []
   },
   "outputs": [
    {
     "data": {
      "image/svg+xml": [
       "<?xml version=\"1.0\" encoding=\"UTF-8\" standalone=\"no\"?>\n",
       "<!DOCTYPE svg PUBLIC \"-//W3C//DTD SVG 1.1//EN\"\n",
       " \"http://www.w3.org/Graphics/SVG/1.1/DTD/svg11.dtd\">\n",
       "<!-- Generated by graphviz version 2.42.3 (20191010.1750)\n",
       " -->\n",
       "<!-- Title: Tree Pages: 1 -->\n",
       "<svg width=\"1770pt\" height=\"893pt\"\n",
       " viewBox=\"0.00 0.00 1770.00 893.00\" xmlns=\"http://www.w3.org/2000/svg\" xmlns:xlink=\"http://www.w3.org/1999/xlink\">\n",
       "<g id=\"graph0\" class=\"graph\" transform=\"scale(1 1) rotate(0) translate(4 889)\">\n",
       "<title>Tree</title>\n",
       "<polygon fill=\"white\" stroke=\"transparent\" points=\"-4,4 -4,-889 1766,-889 1766,4 -4,4\"/>\n",
       "<!-- 0 -->\n",
       "<g id=\"node1\" class=\"node\">\n",
       "<title>0</title>\n",
       "<polygon fill=\"none\" stroke=\"black\" points=\"1163,-885 1044,-885 1044,-817 1163,-817 1163,-885\"/>\n",
       "<text text-anchor=\"middle\" x=\"1103.5\" y=\"-869.8\" font-family=\"Times,serif\" font-size=\"14.00\">X[22] &lt;= 112.8</text>\n",
       "<text text-anchor=\"middle\" x=\"1103.5\" y=\"-854.8\" font-family=\"Times,serif\" font-size=\"14.00\">gini = 0.468</text>\n",
       "<text text-anchor=\"middle\" x=\"1103.5\" y=\"-839.8\" font-family=\"Times,serif\" font-size=\"14.00\">samples = 455</text>\n",
       "<text text-anchor=\"middle\" x=\"1103.5\" y=\"-824.8\" font-family=\"Times,serif\" font-size=\"14.00\">value = [285, 170]</text>\n",
       "</g>\n",
       "<!-- 1 -->\n",
       "<g id=\"node2\" class=\"node\">\n",
       "<title>1</title>\n",
       "<polygon fill=\"none\" stroke=\"black\" points=\"1053.5,-781 941.5,-781 941.5,-713 1053.5,-713 1053.5,-781\"/>\n",
       "<text text-anchor=\"middle\" x=\"997.5\" y=\"-765.8\" font-family=\"Times,serif\" font-size=\"14.00\">X[27] &lt;= 0.16</text>\n",
       "<text text-anchor=\"middle\" x=\"997.5\" y=\"-750.8\" font-family=\"Times,serif\" font-size=\"14.00\">gini = 0.137</text>\n",
       "<text text-anchor=\"middle\" x=\"997.5\" y=\"-735.8\" font-family=\"Times,serif\" font-size=\"14.00\">samples = 297</text>\n",
       "<text text-anchor=\"middle\" x=\"997.5\" y=\"-720.8\" font-family=\"Times,serif\" font-size=\"14.00\">value = [275, 22]</text>\n",
       "</g>\n",
       "<!-- 0&#45;&gt;1 -->\n",
       "<g id=\"edge1\" class=\"edge\">\n",
       "<title>0&#45;&gt;1</title>\n",
       "<path fill=\"none\" stroke=\"black\" d=\"M1069.08,-816.88C1059.64,-807.8 1049.3,-797.85 1039.48,-788.4\"/>\n",
       "<polygon fill=\"black\" stroke=\"black\" points=\"1041.74,-785.71 1032.11,-781.3 1036.88,-790.76 1041.74,-785.71\"/>\n",
       "<text text-anchor=\"middle\" x=\"1032.59\" y=\"-802.59\" font-family=\"Times,serif\" font-size=\"14.00\">True</text>\n",
       "</g>\n",
       "<!-- 32 -->\n",
       "<g id=\"node33\" class=\"node\">\n",
       "<title>32</title>\n",
       "<polygon fill=\"none\" stroke=\"black\" points=\"1302.5,-781 1190.5,-781 1190.5,-713 1302.5,-713 1302.5,-781\"/>\n",
       "<text text-anchor=\"middle\" x=\"1246.5\" y=\"-765.8\" font-family=\"Times,serif\" font-size=\"14.00\">X[1] &lt;= 14.955</text>\n",
       "<text text-anchor=\"middle\" x=\"1246.5\" y=\"-750.8\" font-family=\"Times,serif\" font-size=\"14.00\">gini = 0.119</text>\n",
       "<text text-anchor=\"middle\" x=\"1246.5\" y=\"-735.8\" font-family=\"Times,serif\" font-size=\"14.00\">samples = 158</text>\n",
       "<text text-anchor=\"middle\" x=\"1246.5\" y=\"-720.8\" font-family=\"Times,serif\" font-size=\"14.00\">value = [10, 148]</text>\n",
       "</g>\n",
       "<!-- 0&#45;&gt;32 -->\n",
       "<g id=\"edge32\" class=\"edge\">\n",
       "<title>0&#45;&gt;32</title>\n",
       "<path fill=\"none\" stroke=\"black\" d=\"M1149.93,-816.88C1163.17,-807.44 1177.71,-797.06 1191.41,-787.29\"/>\n",
       "<polygon fill=\"black\" stroke=\"black\" points=\"1193.71,-789.96 1199.82,-781.3 1189.64,-784.26 1193.71,-789.96\"/>\n",
       "<text text-anchor=\"middle\" x=\"1195.69\" y=\"-802.26\" font-family=\"Times,serif\" font-size=\"14.00\">False</text>\n",
       "</g>\n",
       "<!-- 2 -->\n",
       "<g id=\"node3\" class=\"node\">\n",
       "<title>2</title>\n",
       "<polygon fill=\"none\" stroke=\"black\" points=\"883.5,-677 771.5,-677 771.5,-609 883.5,-609 883.5,-677\"/>\n",
       "<text text-anchor=\"middle\" x=\"827.5\" y=\"-661.8\" font-family=\"Times,serif\" font-size=\"14.00\">X[3] &lt;= 696.25</text>\n",
       "<text text-anchor=\"middle\" x=\"827.5\" y=\"-646.8\" font-family=\"Times,serif\" font-size=\"14.00\">gini = 0.081</text>\n",
       "<text text-anchor=\"middle\" x=\"827.5\" y=\"-631.8\" font-family=\"Times,serif\" font-size=\"14.00\">samples = 285</text>\n",
       "<text text-anchor=\"middle\" x=\"827.5\" y=\"-616.8\" font-family=\"Times,serif\" font-size=\"14.00\">value = [273, 12]</text>\n",
       "</g>\n",
       "<!-- 1&#45;&gt;2 -->\n",
       "<g id=\"edge2\" class=\"edge\">\n",
       "<title>1&#45;&gt;2</title>\n",
       "<path fill=\"none\" stroke=\"black\" d=\"M942.31,-712.88C926.04,-703.12 908.11,-692.37 891.35,-682.31\"/>\n",
       "<polygon fill=\"black\" stroke=\"black\" points=\"893.08,-679.27 882.71,-677.12 889.48,-685.27 893.08,-679.27\"/>\n",
       "</g>\n",
       "<!-- 27 -->\n",
       "<g id=\"node28\" class=\"node\">\n",
       "<title>27</title>\n",
       "<polygon fill=\"none\" stroke=\"black\" points=\"1052.5,-677 942.5,-677 942.5,-609 1052.5,-609 1052.5,-677\"/>\n",
       "<text text-anchor=\"middle\" x=\"997.5\" y=\"-661.8\" font-family=\"Times,serif\" font-size=\"14.00\">X[21] &lt;= 24.785</text>\n",
       "<text text-anchor=\"middle\" x=\"997.5\" y=\"-646.8\" font-family=\"Times,serif\" font-size=\"14.00\">gini = 0.278</text>\n",
       "<text text-anchor=\"middle\" x=\"997.5\" y=\"-631.8\" font-family=\"Times,serif\" font-size=\"14.00\">samples = 12</text>\n",
       "<text text-anchor=\"middle\" x=\"997.5\" y=\"-616.8\" font-family=\"Times,serif\" font-size=\"14.00\">value = [2, 10]</text>\n",
       "</g>\n",
       "<!-- 1&#45;&gt;27 -->\n",
       "<g id=\"edge27\" class=\"edge\">\n",
       "<title>1&#45;&gt;27</title>\n",
       "<path fill=\"none\" stroke=\"black\" d=\"M997.5,-712.88C997.5,-704.78 997.5,-695.98 997.5,-687.47\"/>\n",
       "<polygon fill=\"black\" stroke=\"black\" points=\"1001,-687.3 997.5,-677.3 994,-687.3 1001,-687.3\"/>\n",
       "</g>\n",
       "<!-- 3 -->\n",
       "<g id=\"node4\" class=\"node\">\n",
       "<title>3</title>\n",
       "<polygon fill=\"none\" stroke=\"black\" points=\"688,-573 583,-573 583,-505 688,-505 688,-573\"/>\n",
       "<text text-anchor=\"middle\" x=\"635.5\" y=\"-557.8\" font-family=\"Times,serif\" font-size=\"14.00\">X[24] &lt;= 0.178</text>\n",
       "<text text-anchor=\"middle\" x=\"635.5\" y=\"-542.8\" font-family=\"Times,serif\" font-size=\"14.00\">gini = 0.056</text>\n",
       "<text text-anchor=\"middle\" x=\"635.5\" y=\"-527.8\" font-family=\"Times,serif\" font-size=\"14.00\">samples = 279</text>\n",
       "<text text-anchor=\"middle\" x=\"635.5\" y=\"-512.8\" font-family=\"Times,serif\" font-size=\"14.00\">value = [271, 8]</text>\n",
       "</g>\n",
       "<!-- 2&#45;&gt;3 -->\n",
       "<g id=\"edge3\" class=\"edge\">\n",
       "<title>2&#45;&gt;3</title>\n",
       "<path fill=\"none\" stroke=\"black\" d=\"M771.45,-612.22C748.19,-599.87 721.12,-585.49 697.29,-572.82\"/>\n",
       "<polygon fill=\"black\" stroke=\"black\" points=\"698.8,-569.66 688.33,-568.06 695.51,-575.85 698.8,-569.66\"/>\n",
       "</g>\n",
       "<!-- 24 -->\n",
       "<g id=\"node25\" class=\"node\">\n",
       "<title>24</title>\n",
       "<polygon fill=\"none\" stroke=\"black\" points=\"879.5,-573 775.5,-573 775.5,-505 879.5,-505 879.5,-573\"/>\n",
       "<text text-anchor=\"middle\" x=\"827.5\" y=\"-557.8\" font-family=\"Times,serif\" font-size=\"14.00\">X[12] &lt;= 1.611</text>\n",
       "<text text-anchor=\"middle\" x=\"827.5\" y=\"-542.8\" font-family=\"Times,serif\" font-size=\"14.00\">gini = 0.444</text>\n",
       "<text text-anchor=\"middle\" x=\"827.5\" y=\"-527.8\" font-family=\"Times,serif\" font-size=\"14.00\">samples = 6</text>\n",
       "<text text-anchor=\"middle\" x=\"827.5\" y=\"-512.8\" font-family=\"Times,serif\" font-size=\"14.00\">value = [2, 4]</text>\n",
       "</g>\n",
       "<!-- 2&#45;&gt;24 -->\n",
       "<g id=\"edge24\" class=\"edge\">\n",
       "<title>2&#45;&gt;24</title>\n",
       "<path fill=\"none\" stroke=\"black\" d=\"M827.5,-608.88C827.5,-600.78 827.5,-591.98 827.5,-583.47\"/>\n",
       "<polygon fill=\"black\" stroke=\"black\" points=\"831,-583.3 827.5,-573.3 824,-583.3 831,-583.3\"/>\n",
       "</g>\n",
       "<!-- 4 -->\n",
       "<g id=\"node5\" class=\"node\">\n",
       "<title>4</title>\n",
       "<polygon fill=\"none\" stroke=\"black\" points=\"565,-469 460,-469 460,-401 565,-401 565,-469\"/>\n",
       "<text text-anchor=\"middle\" x=\"512.5\" y=\"-453.8\" font-family=\"Times,serif\" font-size=\"14.00\">X[22] &lt;= 102.4</text>\n",
       "<text text-anchor=\"middle\" x=\"512.5\" y=\"-438.8\" font-family=\"Times,serif\" font-size=\"14.00\">gini = 0.036</text>\n",
       "<text text-anchor=\"middle\" x=\"512.5\" y=\"-423.8\" font-family=\"Times,serif\" font-size=\"14.00\">samples = 274</text>\n",
       "<text text-anchor=\"middle\" x=\"512.5\" y=\"-408.8\" font-family=\"Times,serif\" font-size=\"14.00\">value = [269, 5]</text>\n",
       "</g>\n",
       "<!-- 3&#45;&gt;4 -->\n",
       "<g id=\"edge4\" class=\"edge\">\n",
       "<title>3&#45;&gt;4</title>\n",
       "<path fill=\"none\" stroke=\"black\" d=\"M595.57,-504.88C584.39,-495.62 572.14,-485.45 560.55,-475.85\"/>\n",
       "<polygon fill=\"black\" stroke=\"black\" points=\"562.59,-472.99 552.66,-469.3 558.12,-478.38 562.59,-472.99\"/>\n",
       "</g>\n",
       "<!-- 21 -->\n",
       "<g id=\"node22\" class=\"node\">\n",
       "<title>21</title>\n",
       "<polygon fill=\"none\" stroke=\"black\" points=\"687.5,-469 583.5,-469 583.5,-401 687.5,-401 687.5,-469\"/>\n",
       "<text text-anchor=\"middle\" x=\"635.5\" y=\"-453.8\" font-family=\"Times,serif\" font-size=\"14.00\">X[11] &lt;= 1.279</text>\n",
       "<text text-anchor=\"middle\" x=\"635.5\" y=\"-438.8\" font-family=\"Times,serif\" font-size=\"14.00\">gini = 0.48</text>\n",
       "<text text-anchor=\"middle\" x=\"635.5\" y=\"-423.8\" font-family=\"Times,serif\" font-size=\"14.00\">samples = 5</text>\n",
       "<text text-anchor=\"middle\" x=\"635.5\" y=\"-408.8\" font-family=\"Times,serif\" font-size=\"14.00\">value = [2, 3]</text>\n",
       "</g>\n",
       "<!-- 3&#45;&gt;21 -->\n",
       "<g id=\"edge21\" class=\"edge\">\n",
       "<title>3&#45;&gt;21</title>\n",
       "<path fill=\"none\" stroke=\"black\" d=\"M635.5,-504.88C635.5,-496.78 635.5,-487.98 635.5,-479.47\"/>\n",
       "<polygon fill=\"black\" stroke=\"black\" points=\"639,-479.3 635.5,-469.3 632,-479.3 639,-479.3\"/>\n",
       "</g>\n",
       "<!-- 5 -->\n",
       "<g id=\"node6\" class=\"node\">\n",
       "<title>5</title>\n",
       "<polygon fill=\"none\" stroke=\"black\" points=\"398.5,-365 288.5,-365 288.5,-297 398.5,-297 398.5,-365\"/>\n",
       "<text text-anchor=\"middle\" x=\"343.5\" y=\"-349.8\" font-family=\"Times,serif\" font-size=\"14.00\">X[13] &lt;= 47.035</text>\n",
       "<text text-anchor=\"middle\" x=\"343.5\" y=\"-334.8\" font-family=\"Times,serif\" font-size=\"14.00\">gini = 0.016</text>\n",
       "<text text-anchor=\"middle\" x=\"343.5\" y=\"-319.8\" font-family=\"Times,serif\" font-size=\"14.00\">samples = 247</text>\n",
       "<text text-anchor=\"middle\" x=\"343.5\" y=\"-304.8\" font-family=\"Times,serif\" font-size=\"14.00\">value = [245, 2]</text>\n",
       "</g>\n",
       "<!-- 4&#45;&gt;5 -->\n",
       "<g id=\"edge5\" class=\"edge\">\n",
       "<title>4&#45;&gt;5</title>\n",
       "<path fill=\"none\" stroke=\"black\" d=\"M459.95,-402.29C443.29,-392.23 424.67,-380.99 407.3,-370.51\"/>\n",
       "<polygon fill=\"black\" stroke=\"black\" points=\"408.72,-367.28 398.35,-365.11 405.1,-373.27 408.72,-367.28\"/>\n",
       "</g>\n",
       "<!-- 14 -->\n",
       "<g id=\"node15\" class=\"node\">\n",
       "<title>14</title>\n",
       "<polygon fill=\"none\" stroke=\"black\" points=\"566.5,-365 462.5,-365 462.5,-297 566.5,-297 566.5,-365\"/>\n",
       "<text text-anchor=\"middle\" x=\"514.5\" y=\"-349.8\" font-family=\"Times,serif\" font-size=\"14.00\">X[24] &lt;= 0.136</text>\n",
       "<text text-anchor=\"middle\" x=\"514.5\" y=\"-334.8\" font-family=\"Times,serif\" font-size=\"14.00\">gini = 0.198</text>\n",
       "<text text-anchor=\"middle\" x=\"514.5\" y=\"-319.8\" font-family=\"Times,serif\" font-size=\"14.00\">samples = 27</text>\n",
       "<text text-anchor=\"middle\" x=\"514.5\" y=\"-304.8\" font-family=\"Times,serif\" font-size=\"14.00\">value = [24, 3]</text>\n",
       "</g>\n",
       "<!-- 4&#45;&gt;14 -->\n",
       "<g id=\"edge14\" class=\"edge\">\n",
       "<title>4&#45;&gt;14</title>\n",
       "<path fill=\"none\" stroke=\"black\" d=\"M513.15,-400.88C513.31,-392.78 513.48,-383.98 513.65,-375.47\"/>\n",
       "<polygon fill=\"black\" stroke=\"black\" points=\"517.15,-375.37 513.85,-365.3 510.15,-375.23 517.15,-375.37\"/>\n",
       "</g>\n",
       "<!-- 6 -->\n",
       "<g id=\"node7\" class=\"node\">\n",
       "<title>6</title>\n",
       "<polygon fill=\"none\" stroke=\"black\" points=\"228,-261 123,-261 123,-193 228,-193 228,-261\"/>\n",
       "<text text-anchor=\"middle\" x=\"175.5\" y=\"-245.8\" font-family=\"Times,serif\" font-size=\"14.00\">X[21] &lt;= 33.35</text>\n",
       "<text text-anchor=\"middle\" x=\"175.5\" y=\"-230.8\" font-family=\"Times,serif\" font-size=\"14.00\">gini = 0.008</text>\n",
       "<text text-anchor=\"middle\" x=\"175.5\" y=\"-215.8\" font-family=\"Times,serif\" font-size=\"14.00\">samples = 243</text>\n",
       "<text text-anchor=\"middle\" x=\"175.5\" y=\"-200.8\" font-family=\"Times,serif\" font-size=\"14.00\">value = [242, 1]</text>\n",
       "</g>\n",
       "<!-- 5&#45;&gt;6 -->\n",
       "<g id=\"edge6\" class=\"edge\">\n",
       "<title>5&#45;&gt;6</title>\n",
       "<path fill=\"none\" stroke=\"black\" d=\"M288.96,-296.88C272.31,-286.78 253.9,-275.6 236.84,-265.24\"/>\n",
       "<polygon fill=\"black\" stroke=\"black\" points=\"238.42,-262.11 228.06,-259.91 234.79,-268.09 238.42,-262.11\"/>\n",
       "</g>\n",
       "<!-- 11 -->\n",
       "<g id=\"node12\" class=\"node\">\n",
       "<title>11</title>\n",
       "<polygon fill=\"none\" stroke=\"black\" points=\"395.5,-261 291.5,-261 291.5,-193 395.5,-193 395.5,-261\"/>\n",
       "<text text-anchor=\"middle\" x=\"343.5\" y=\"-245.8\" font-family=\"Times,serif\" font-size=\"14.00\">X[28] &lt;= 0.208</text>\n",
       "<text text-anchor=\"middle\" x=\"343.5\" y=\"-230.8\" font-family=\"Times,serif\" font-size=\"14.00\">gini = 0.375</text>\n",
       "<text text-anchor=\"middle\" x=\"343.5\" y=\"-215.8\" font-family=\"Times,serif\" font-size=\"14.00\">samples = 4</text>\n",
       "<text text-anchor=\"middle\" x=\"343.5\" y=\"-200.8\" font-family=\"Times,serif\" font-size=\"14.00\">value = [3, 1]</text>\n",
       "</g>\n",
       "<!-- 5&#45;&gt;11 -->\n",
       "<g id=\"edge11\" class=\"edge\">\n",
       "<title>5&#45;&gt;11</title>\n",
       "<path fill=\"none\" stroke=\"black\" d=\"M343.5,-296.88C343.5,-288.78 343.5,-279.98 343.5,-271.47\"/>\n",
       "<polygon fill=\"black\" stroke=\"black\" points=\"347,-271.3 343.5,-261.3 340,-271.3 347,-271.3\"/>\n",
       "</g>\n",
       "<!-- 7 -->\n",
       "<g id=\"node8\" class=\"node\">\n",
       "<title>7</title>\n",
       "<polygon fill=\"none\" stroke=\"black\" points=\"105,-149.5 0,-149.5 0,-96.5 105,-96.5 105,-149.5\"/>\n",
       "<text text-anchor=\"middle\" x=\"52.5\" y=\"-134.3\" font-family=\"Times,serif\" font-size=\"14.00\">gini = 0.0</text>\n",
       "<text text-anchor=\"middle\" x=\"52.5\" y=\"-119.3\" font-family=\"Times,serif\" font-size=\"14.00\">samples = 229</text>\n",
       "<text text-anchor=\"middle\" x=\"52.5\" y=\"-104.3\" font-family=\"Times,serif\" font-size=\"14.00\">value = [229, 0]</text>\n",
       "</g>\n",
       "<!-- 6&#45;&gt;7 -->\n",
       "<g id=\"edge7\" class=\"edge\">\n",
       "<title>6&#45;&gt;7</title>\n",
       "<path fill=\"none\" stroke=\"black\" d=\"M135.57,-192.88C121.37,-181.12 105.43,-167.89 91.33,-156.2\"/>\n",
       "<polygon fill=\"black\" stroke=\"black\" points=\"93.21,-153.21 83.27,-149.52 88.74,-158.6 93.21,-153.21\"/>\n",
       "</g>\n",
       "<!-- 8 -->\n",
       "<g id=\"node9\" class=\"node\">\n",
       "<title>8</title>\n",
       "<polygon fill=\"none\" stroke=\"black\" points=\"227.5,-157 123.5,-157 123.5,-89 227.5,-89 227.5,-157\"/>\n",
       "<text text-anchor=\"middle\" x=\"175.5\" y=\"-141.8\" font-family=\"Times,serif\" font-size=\"14.00\">X[21] &lt;= 33.56</text>\n",
       "<text text-anchor=\"middle\" x=\"175.5\" y=\"-126.8\" font-family=\"Times,serif\" font-size=\"14.00\">gini = 0.133</text>\n",
       "<text text-anchor=\"middle\" x=\"175.5\" y=\"-111.8\" font-family=\"Times,serif\" font-size=\"14.00\">samples = 14</text>\n",
       "<text text-anchor=\"middle\" x=\"175.5\" y=\"-96.8\" font-family=\"Times,serif\" font-size=\"14.00\">value = [13, 1]</text>\n",
       "</g>\n",
       "<!-- 6&#45;&gt;8 -->\n",
       "<g id=\"edge8\" class=\"edge\">\n",
       "<title>6&#45;&gt;8</title>\n",
       "<path fill=\"none\" stroke=\"black\" d=\"M175.5,-192.88C175.5,-184.78 175.5,-175.98 175.5,-167.47\"/>\n",
       "<polygon fill=\"black\" stroke=\"black\" points=\"179,-167.3 175.5,-157.3 172,-167.3 179,-167.3\"/>\n",
       "</g>\n",
       "<!-- 9 -->\n",
       "<g id=\"node10\" class=\"node\">\n",
       "<title>9</title>\n",
       "<polygon fill=\"none\" stroke=\"black\" points=\"165.5,-53 73.5,-53 73.5,0 165.5,0 165.5,-53\"/>\n",
       "<text text-anchor=\"middle\" x=\"119.5\" y=\"-37.8\" font-family=\"Times,serif\" font-size=\"14.00\">gini = 0.0</text>\n",
       "<text text-anchor=\"middle\" x=\"119.5\" y=\"-22.8\" font-family=\"Times,serif\" font-size=\"14.00\">samples = 1</text>\n",
       "<text text-anchor=\"middle\" x=\"119.5\" y=\"-7.8\" font-family=\"Times,serif\" font-size=\"14.00\">value = [0, 1]</text>\n",
       "</g>\n",
       "<!-- 8&#45;&gt;9 -->\n",
       "<g id=\"edge9\" class=\"edge\">\n",
       "<title>8&#45;&gt;9</title>\n",
       "<path fill=\"none\" stroke=\"black\" d=\"M155.91,-88.95C150.76,-80.26 145.2,-70.86 140,-62.09\"/>\n",
       "<polygon fill=\"black\" stroke=\"black\" points=\"142.86,-60.06 134.75,-53.24 136.84,-63.62 142.86,-60.06\"/>\n",
       "</g>\n",
       "<!-- 10 -->\n",
       "<g id=\"node11\" class=\"node\">\n",
       "<title>10</title>\n",
       "<polygon fill=\"none\" stroke=\"black\" points=\"281.5,-53 183.5,-53 183.5,0 281.5,0 281.5,-53\"/>\n",
       "<text text-anchor=\"middle\" x=\"232.5\" y=\"-37.8\" font-family=\"Times,serif\" font-size=\"14.00\">gini = 0.0</text>\n",
       "<text text-anchor=\"middle\" x=\"232.5\" y=\"-22.8\" font-family=\"Times,serif\" font-size=\"14.00\">samples = 13</text>\n",
       "<text text-anchor=\"middle\" x=\"232.5\" y=\"-7.8\" font-family=\"Times,serif\" font-size=\"14.00\">value = [13, 0]</text>\n",
       "</g>\n",
       "<!-- 8&#45;&gt;10 -->\n",
       "<g id=\"edge10\" class=\"edge\">\n",
       "<title>8&#45;&gt;10</title>\n",
       "<path fill=\"none\" stroke=\"black\" d=\"M195.44,-88.95C200.73,-80.17 206.47,-70.66 211.8,-61.82\"/>\n",
       "<polygon fill=\"black\" stroke=\"black\" points=\"214.81,-63.61 216.98,-53.24 208.81,-59.99 214.81,-63.61\"/>\n",
       "</g>\n",
       "<!-- 12 -->\n",
       "<g id=\"node13\" class=\"node\">\n",
       "<title>12</title>\n",
       "<polygon fill=\"none\" stroke=\"black\" points=\"337.5,-149.5 245.5,-149.5 245.5,-96.5 337.5,-96.5 337.5,-149.5\"/>\n",
       "<text text-anchor=\"middle\" x=\"291.5\" y=\"-134.3\" font-family=\"Times,serif\" font-size=\"14.00\">gini = 0.0</text>\n",
       "<text text-anchor=\"middle\" x=\"291.5\" y=\"-119.3\" font-family=\"Times,serif\" font-size=\"14.00\">samples = 1</text>\n",
       "<text text-anchor=\"middle\" x=\"291.5\" y=\"-104.3\" font-family=\"Times,serif\" font-size=\"14.00\">value = [0, 1]</text>\n",
       "</g>\n",
       "<!-- 11&#45;&gt;12 -->\n",
       "<g id=\"edge12\" class=\"edge\">\n",
       "<title>11&#45;&gt;12</title>\n",
       "<path fill=\"none\" stroke=\"black\" d=\"M326.62,-192.88C321.01,-181.89 314.76,-169.62 309.1,-158.52\"/>\n",
       "<polygon fill=\"black\" stroke=\"black\" points=\"312.17,-156.84 304.51,-149.52 305.93,-160.02 312.17,-156.84\"/>\n",
       "</g>\n",
       "<!-- 13 -->\n",
       "<g id=\"node14\" class=\"node\">\n",
       "<title>13</title>\n",
       "<polygon fill=\"none\" stroke=\"black\" points=\"447.5,-149.5 355.5,-149.5 355.5,-96.5 447.5,-96.5 447.5,-149.5\"/>\n",
       "<text text-anchor=\"middle\" x=\"401.5\" y=\"-134.3\" font-family=\"Times,serif\" font-size=\"14.00\">gini = 0.0</text>\n",
       "<text text-anchor=\"middle\" x=\"401.5\" y=\"-119.3\" font-family=\"Times,serif\" font-size=\"14.00\">samples = 3</text>\n",
       "<text text-anchor=\"middle\" x=\"401.5\" y=\"-104.3\" font-family=\"Times,serif\" font-size=\"14.00\">value = [3, 0]</text>\n",
       "</g>\n",
       "<!-- 11&#45;&gt;13 -->\n",
       "<g id=\"edge13\" class=\"edge\">\n",
       "<title>11&#45;&gt;13</title>\n",
       "<path fill=\"none\" stroke=\"black\" d=\"M362.33,-192.88C368.58,-181.89 375.56,-169.62 381.87,-158.52\"/>\n",
       "<polygon fill=\"black\" stroke=\"black\" points=\"385.09,-159.94 386.99,-149.52 379,-156.48 385.09,-159.94\"/>\n",
       "</g>\n",
       "<!-- 15 -->\n",
       "<g id=\"node16\" class=\"node\">\n",
       "<title>15</title>\n",
       "<polygon fill=\"none\" stroke=\"black\" points=\"566.5,-261 462.5,-261 462.5,-193 566.5,-193 566.5,-261\"/>\n",
       "<text text-anchor=\"middle\" x=\"514.5\" y=\"-245.8\" font-family=\"Times,serif\" font-size=\"14.00\">X[12] &lt;= 1.584</text>\n",
       "<text text-anchor=\"middle\" x=\"514.5\" y=\"-230.8\" font-family=\"Times,serif\" font-size=\"14.00\">gini = 0.077</text>\n",
       "<text text-anchor=\"middle\" x=\"514.5\" y=\"-215.8\" font-family=\"Times,serif\" font-size=\"14.00\">samples = 25</text>\n",
       "<text text-anchor=\"middle\" x=\"514.5\" y=\"-200.8\" font-family=\"Times,serif\" font-size=\"14.00\">value = [24, 1]</text>\n",
       "</g>\n",
       "<!-- 14&#45;&gt;15 -->\n",
       "<g id=\"edge15\" class=\"edge\">\n",
       "<title>14&#45;&gt;15</title>\n",
       "<path fill=\"none\" stroke=\"black\" d=\"M514.5,-296.88C514.5,-288.78 514.5,-279.98 514.5,-271.47\"/>\n",
       "<polygon fill=\"black\" stroke=\"black\" points=\"518,-271.3 514.5,-261.3 511,-271.3 518,-271.3\"/>\n",
       "</g>\n",
       "<!-- 20 -->\n",
       "<g id=\"node21\" class=\"node\">\n",
       "<title>20</title>\n",
       "<polygon fill=\"none\" stroke=\"black\" points=\"676.5,-253.5 584.5,-253.5 584.5,-200.5 676.5,-200.5 676.5,-253.5\"/>\n",
       "<text text-anchor=\"middle\" x=\"630.5\" y=\"-238.3\" font-family=\"Times,serif\" font-size=\"14.00\">gini = 0.0</text>\n",
       "<text text-anchor=\"middle\" x=\"630.5\" y=\"-223.3\" font-family=\"Times,serif\" font-size=\"14.00\">samples = 2</text>\n",
       "<text text-anchor=\"middle\" x=\"630.5\" y=\"-208.3\" font-family=\"Times,serif\" font-size=\"14.00\">value = [0, 2]</text>\n",
       "</g>\n",
       "<!-- 14&#45;&gt;20 -->\n",
       "<g id=\"edge20\" class=\"edge\">\n",
       "<title>14&#45;&gt;20</title>\n",
       "<path fill=\"none\" stroke=\"black\" d=\"M552.16,-296.88C565.54,-285.12 580.58,-271.89 593.88,-260.2\"/>\n",
       "<polygon fill=\"black\" stroke=\"black\" points=\"596.28,-262.75 601.48,-253.52 591.66,-257.49 596.28,-262.75\"/>\n",
       "</g>\n",
       "<!-- 16 -->\n",
       "<g id=\"node17\" class=\"node\">\n",
       "<title>16</title>\n",
       "<polygon fill=\"none\" stroke=\"black\" points=\"563,-157 466,-157 466,-89 563,-89 563,-157\"/>\n",
       "<text text-anchor=\"middle\" x=\"514.5\" y=\"-141.8\" font-family=\"Times,serif\" font-size=\"14.00\">X[3] &lt;= 614.5</text>\n",
       "<text text-anchor=\"middle\" x=\"514.5\" y=\"-126.8\" font-family=\"Times,serif\" font-size=\"14.00\">gini = 0.5</text>\n",
       "<text text-anchor=\"middle\" x=\"514.5\" y=\"-111.8\" font-family=\"Times,serif\" font-size=\"14.00\">samples = 2</text>\n",
       "<text text-anchor=\"middle\" x=\"514.5\" y=\"-96.8\" font-family=\"Times,serif\" font-size=\"14.00\">value = [1, 1]</text>\n",
       "</g>\n",
       "<!-- 15&#45;&gt;16 -->\n",
       "<g id=\"edge16\" class=\"edge\">\n",
       "<title>15&#45;&gt;16</title>\n",
       "<path fill=\"none\" stroke=\"black\" d=\"M514.5,-192.88C514.5,-184.78 514.5,-175.98 514.5,-167.47\"/>\n",
       "<polygon fill=\"black\" stroke=\"black\" points=\"518,-167.3 514.5,-157.3 511,-167.3 518,-167.3\"/>\n",
       "</g>\n",
       "<!-- 19 -->\n",
       "<g id=\"node20\" class=\"node\">\n",
       "<title>19</title>\n",
       "<polygon fill=\"none\" stroke=\"black\" points=\"679.5,-149.5 581.5,-149.5 581.5,-96.5 679.5,-96.5 679.5,-149.5\"/>\n",
       "<text text-anchor=\"middle\" x=\"630.5\" y=\"-134.3\" font-family=\"Times,serif\" font-size=\"14.00\">gini = 0.0</text>\n",
       "<text text-anchor=\"middle\" x=\"630.5\" y=\"-119.3\" font-family=\"Times,serif\" font-size=\"14.00\">samples = 23</text>\n",
       "<text text-anchor=\"middle\" x=\"630.5\" y=\"-104.3\" font-family=\"Times,serif\" font-size=\"14.00\">value = [23, 0]</text>\n",
       "</g>\n",
       "<!-- 15&#45;&gt;19 -->\n",
       "<g id=\"edge19\" class=\"edge\">\n",
       "<title>15&#45;&gt;19</title>\n",
       "<path fill=\"none\" stroke=\"black\" d=\"M552.16,-192.88C565.54,-181.12 580.58,-167.89 593.88,-156.2\"/>\n",
       "<polygon fill=\"black\" stroke=\"black\" points=\"596.28,-158.75 601.48,-149.52 591.66,-153.49 596.28,-158.75\"/>\n",
       "</g>\n",
       "<!-- 17 -->\n",
       "<g id=\"node18\" class=\"node\">\n",
       "<title>17</title>\n",
       "<polygon fill=\"none\" stroke=\"black\" points=\"505.5,-53 413.5,-53 413.5,0 505.5,0 505.5,-53\"/>\n",
       "<text text-anchor=\"middle\" x=\"459.5\" y=\"-37.8\" font-family=\"Times,serif\" font-size=\"14.00\">gini = 0.0</text>\n",
       "<text text-anchor=\"middle\" x=\"459.5\" y=\"-22.8\" font-family=\"Times,serif\" font-size=\"14.00\">samples = 1</text>\n",
       "<text text-anchor=\"middle\" x=\"459.5\" y=\"-7.8\" font-family=\"Times,serif\" font-size=\"14.00\">value = [0, 1]</text>\n",
       "</g>\n",
       "<!-- 16&#45;&gt;17 -->\n",
       "<g id=\"edge17\" class=\"edge\">\n",
       "<title>16&#45;&gt;17</title>\n",
       "<path fill=\"none\" stroke=\"black\" d=\"M495.26,-88.95C490.21,-80.26 484.74,-70.86 479.63,-62.09\"/>\n",
       "<polygon fill=\"black\" stroke=\"black\" points=\"482.53,-60.12 474.48,-53.24 476.48,-63.64 482.53,-60.12\"/>\n",
       "</g>\n",
       "<!-- 18 -->\n",
       "<g id=\"node19\" class=\"node\">\n",
       "<title>18</title>\n",
       "<polygon fill=\"none\" stroke=\"black\" points=\"615.5,-53 523.5,-53 523.5,0 615.5,0 615.5,-53\"/>\n",
       "<text text-anchor=\"middle\" x=\"569.5\" y=\"-37.8\" font-family=\"Times,serif\" font-size=\"14.00\">gini = 0.0</text>\n",
       "<text text-anchor=\"middle\" x=\"569.5\" y=\"-22.8\" font-family=\"Times,serif\" font-size=\"14.00\">samples = 1</text>\n",
       "<text text-anchor=\"middle\" x=\"569.5\" y=\"-7.8\" font-family=\"Times,serif\" font-size=\"14.00\">value = [1, 0]</text>\n",
       "</g>\n",
       "<!-- 16&#45;&gt;18 -->\n",
       "<g id=\"edge18\" class=\"edge\">\n",
       "<title>16&#45;&gt;18</title>\n",
       "<path fill=\"none\" stroke=\"black\" d=\"M533.74,-88.95C538.79,-80.26 544.26,-70.86 549.37,-62.09\"/>\n",
       "<polygon fill=\"black\" stroke=\"black\" points=\"552.52,-63.64 554.52,-53.24 546.47,-60.12 552.52,-63.64\"/>\n",
       "</g>\n",
       "<!-- 22 -->\n",
       "<g id=\"node23\" class=\"node\">\n",
       "<title>22</title>\n",
       "<polygon fill=\"none\" stroke=\"black\" points=\"679.5,-357.5 587.5,-357.5 587.5,-304.5 679.5,-304.5 679.5,-357.5\"/>\n",
       "<text text-anchor=\"middle\" x=\"633.5\" y=\"-342.3\" font-family=\"Times,serif\" font-size=\"14.00\">gini = 0.0</text>\n",
       "<text text-anchor=\"middle\" x=\"633.5\" y=\"-327.3\" font-family=\"Times,serif\" font-size=\"14.00\">samples = 2</text>\n",
       "<text text-anchor=\"middle\" x=\"633.5\" y=\"-312.3\" font-family=\"Times,serif\" font-size=\"14.00\">value = [2, 0]</text>\n",
       "</g>\n",
       "<!-- 21&#45;&gt;22 -->\n",
       "<g id=\"edge22\" class=\"edge\">\n",
       "<title>21&#45;&gt;22</title>\n",
       "<path fill=\"none\" stroke=\"black\" d=\"M634.85,-400.88C634.64,-390.22 634.41,-378.35 634.2,-367.52\"/>\n",
       "<polygon fill=\"black\" stroke=\"black\" points=\"637.7,-367.45 634,-357.52 630.7,-367.59 637.7,-367.45\"/>\n",
       "</g>\n",
       "<!-- 23 -->\n",
       "<g id=\"node24\" class=\"node\">\n",
       "<title>23</title>\n",
       "<polygon fill=\"none\" stroke=\"black\" points=\"789.5,-357.5 697.5,-357.5 697.5,-304.5 789.5,-304.5 789.5,-357.5\"/>\n",
       "<text text-anchor=\"middle\" x=\"743.5\" y=\"-342.3\" font-family=\"Times,serif\" font-size=\"14.00\">gini = 0.0</text>\n",
       "<text text-anchor=\"middle\" x=\"743.5\" y=\"-327.3\" font-family=\"Times,serif\" font-size=\"14.00\">samples = 3</text>\n",
       "<text text-anchor=\"middle\" x=\"743.5\" y=\"-312.3\" font-family=\"Times,serif\" font-size=\"14.00\">value = [0, 3]</text>\n",
       "</g>\n",
       "<!-- 21&#45;&gt;23 -->\n",
       "<g id=\"edge23\" class=\"edge\">\n",
       "<title>21&#45;&gt;23</title>\n",
       "<path fill=\"none\" stroke=\"black\" d=\"M670.56,-400.88C682.91,-389.23 696.76,-376.14 709.05,-364.53\"/>\n",
       "<polygon fill=\"black\" stroke=\"black\" points=\"711.61,-366.93 716.48,-357.52 706.81,-361.84 711.61,-366.93\"/>\n",
       "</g>\n",
       "<!-- 25 -->\n",
       "<g id=\"node26\" class=\"node\">\n",
       "<title>25</title>\n",
       "<polygon fill=\"none\" stroke=\"black\" points=\"797.5,-461.5 705.5,-461.5 705.5,-408.5 797.5,-408.5 797.5,-461.5\"/>\n",
       "<text text-anchor=\"middle\" x=\"751.5\" y=\"-446.3\" font-family=\"Times,serif\" font-size=\"14.00\">gini = 0.0</text>\n",
       "<text text-anchor=\"middle\" x=\"751.5\" y=\"-431.3\" font-family=\"Times,serif\" font-size=\"14.00\">samples = 2</text>\n",
       "<text text-anchor=\"middle\" x=\"751.5\" y=\"-416.3\" font-family=\"Times,serif\" font-size=\"14.00\">value = [2, 0]</text>\n",
       "</g>\n",
       "<!-- 24&#45;&gt;25 -->\n",
       "<g id=\"edge25\" class=\"edge\">\n",
       "<title>24&#45;&gt;25</title>\n",
       "<path fill=\"none\" stroke=\"black\" d=\"M802.82,-504.88C794.47,-493.67 785.12,-481.13 776.72,-469.85\"/>\n",
       "<polygon fill=\"black\" stroke=\"black\" points=\"779.3,-467.45 770.51,-461.52 773.68,-471.63 779.3,-467.45\"/>\n",
       "</g>\n",
       "<!-- 26 -->\n",
       "<g id=\"node27\" class=\"node\">\n",
       "<title>26</title>\n",
       "<polygon fill=\"none\" stroke=\"black\" points=\"907.5,-461.5 815.5,-461.5 815.5,-408.5 907.5,-408.5 907.5,-461.5\"/>\n",
       "<text text-anchor=\"middle\" x=\"861.5\" y=\"-446.3\" font-family=\"Times,serif\" font-size=\"14.00\">gini = 0.0</text>\n",
       "<text text-anchor=\"middle\" x=\"861.5\" y=\"-431.3\" font-family=\"Times,serif\" font-size=\"14.00\">samples = 4</text>\n",
       "<text text-anchor=\"middle\" x=\"861.5\" y=\"-416.3\" font-family=\"Times,serif\" font-size=\"14.00\">value = [0, 4]</text>\n",
       "</g>\n",
       "<!-- 24&#45;&gt;26 -->\n",
       "<g id=\"edge26\" class=\"edge\">\n",
       "<title>24&#45;&gt;26</title>\n",
       "<path fill=\"none\" stroke=\"black\" d=\"M838.54,-504.88C842.13,-494.11 846.13,-482.11 849.77,-471.18\"/>\n",
       "<polygon fill=\"black\" stroke=\"black\" points=\"853.15,-472.11 852.99,-461.52 846.51,-469.9 853.15,-472.11\"/>\n",
       "</g>\n",
       "<!-- 28 -->\n",
       "<g id=\"node29\" class=\"node\">\n",
       "<title>28</title>\n",
       "<polygon fill=\"none\" stroke=\"black\" points=\"1020,-573 923,-573 923,-505 1020,-505 1020,-573\"/>\n",
       "<text text-anchor=\"middle\" x=\"971.5\" y=\"-557.8\" font-family=\"Times,serif\" font-size=\"14.00\">X[1] &lt;= 15.71</text>\n",
       "<text text-anchor=\"middle\" x=\"971.5\" y=\"-542.8\" font-family=\"Times,serif\" font-size=\"14.00\">gini = 0.444</text>\n",
       "<text text-anchor=\"middle\" x=\"971.5\" y=\"-527.8\" font-family=\"Times,serif\" font-size=\"14.00\">samples = 3</text>\n",
       "<text text-anchor=\"middle\" x=\"971.5\" y=\"-512.8\" font-family=\"Times,serif\" font-size=\"14.00\">value = [2, 1]</text>\n",
       "</g>\n",
       "<!-- 27&#45;&gt;28 -->\n",
       "<g id=\"edge28\" class=\"edge\">\n",
       "<title>27&#45;&gt;28</title>\n",
       "<path fill=\"none\" stroke=\"black\" d=\"M989.06,-608.88C986.97,-600.69 984.7,-591.79 982.51,-583.19\"/>\n",
       "<polygon fill=\"black\" stroke=\"black\" points=\"985.85,-582.12 979.99,-573.3 979.07,-583.85 985.85,-582.12\"/>\n",
       "</g>\n",
       "<!-- 31 -->\n",
       "<g id=\"node32\" class=\"node\">\n",
       "<title>31</title>\n",
       "<polygon fill=\"none\" stroke=\"black\" points=\"1130.5,-565.5 1038.5,-565.5 1038.5,-512.5 1130.5,-512.5 1130.5,-565.5\"/>\n",
       "<text text-anchor=\"middle\" x=\"1084.5\" y=\"-550.3\" font-family=\"Times,serif\" font-size=\"14.00\">gini = 0.0</text>\n",
       "<text text-anchor=\"middle\" x=\"1084.5\" y=\"-535.3\" font-family=\"Times,serif\" font-size=\"14.00\">samples = 9</text>\n",
       "<text text-anchor=\"middle\" x=\"1084.5\" y=\"-520.3\" font-family=\"Times,serif\" font-size=\"14.00\">value = [0, 9]</text>\n",
       "</g>\n",
       "<!-- 27&#45;&gt;31 -->\n",
       "<g id=\"edge31\" class=\"edge\">\n",
       "<title>27&#45;&gt;31</title>\n",
       "<path fill=\"none\" stroke=\"black\" d=\"M1025.75,-608.88C1035.5,-597.45 1046.43,-584.63 1056.19,-573.19\"/>\n",
       "<polygon fill=\"black\" stroke=\"black\" points=\"1058.91,-575.4 1062.73,-565.52 1053.58,-570.86 1058.91,-575.4\"/>\n",
       "</g>\n",
       "<!-- 29 -->\n",
       "<g id=\"node30\" class=\"node\">\n",
       "<title>29</title>\n",
       "<polygon fill=\"none\" stroke=\"black\" points=\"1017.5,-461.5 925.5,-461.5 925.5,-408.5 1017.5,-408.5 1017.5,-461.5\"/>\n",
       "<text text-anchor=\"middle\" x=\"971.5\" y=\"-446.3\" font-family=\"Times,serif\" font-size=\"14.00\">gini = 0.0</text>\n",
       "<text text-anchor=\"middle\" x=\"971.5\" y=\"-431.3\" font-family=\"Times,serif\" font-size=\"14.00\">samples = 1</text>\n",
       "<text text-anchor=\"middle\" x=\"971.5\" y=\"-416.3\" font-family=\"Times,serif\" font-size=\"14.00\">value = [0, 1]</text>\n",
       "</g>\n",
       "<!-- 28&#45;&gt;29 -->\n",
       "<g id=\"edge29\" class=\"edge\">\n",
       "<title>28&#45;&gt;29</title>\n",
       "<path fill=\"none\" stroke=\"black\" d=\"M971.5,-504.88C971.5,-494.33 971.5,-482.6 971.5,-471.85\"/>\n",
       "<polygon fill=\"black\" stroke=\"black\" points=\"975,-471.52 971.5,-461.52 968,-471.52 975,-471.52\"/>\n",
       "</g>\n",
       "<!-- 30 -->\n",
       "<g id=\"node31\" class=\"node\">\n",
       "<title>30</title>\n",
       "<polygon fill=\"none\" stroke=\"black\" points=\"1127.5,-461.5 1035.5,-461.5 1035.5,-408.5 1127.5,-408.5 1127.5,-461.5\"/>\n",
       "<text text-anchor=\"middle\" x=\"1081.5\" y=\"-446.3\" font-family=\"Times,serif\" font-size=\"14.00\">gini = 0.0</text>\n",
       "<text text-anchor=\"middle\" x=\"1081.5\" y=\"-431.3\" font-family=\"Times,serif\" font-size=\"14.00\">samples = 2</text>\n",
       "<text text-anchor=\"middle\" x=\"1081.5\" y=\"-416.3\" font-family=\"Times,serif\" font-size=\"14.00\">value = [2, 0]</text>\n",
       "</g>\n",
       "<!-- 28&#45;&gt;30 -->\n",
       "<g id=\"edge30\" class=\"edge\">\n",
       "<title>28&#45;&gt;30</title>\n",
       "<path fill=\"none\" stroke=\"black\" d=\"M1007.21,-504.88C1019.79,-493.23 1033.9,-480.14 1046.42,-468.53\"/>\n",
       "<polygon fill=\"black\" stroke=\"black\" points=\"1049.03,-470.89 1053.98,-461.52 1044.27,-465.75 1049.03,-470.89\"/>\n",
       "</g>\n",
       "<!-- 33 -->\n",
       "<g id=\"node34\" class=\"node\">\n",
       "<title>33</title>\n",
       "<polygon fill=\"none\" stroke=\"black\" points=\"1295,-677 1198,-677 1198,-609 1295,-609 1295,-677\"/>\n",
       "<text text-anchor=\"middle\" x=\"1246.5\" y=\"-661.8\" font-family=\"Times,serif\" font-size=\"14.00\">X[7] &lt;= 0.086</text>\n",
       "<text text-anchor=\"middle\" x=\"1246.5\" y=\"-646.8\" font-family=\"Times,serif\" font-size=\"14.00\">gini = 0.408</text>\n",
       "<text text-anchor=\"middle\" x=\"1246.5\" y=\"-631.8\" font-family=\"Times,serif\" font-size=\"14.00\">samples = 7</text>\n",
       "<text text-anchor=\"middle\" x=\"1246.5\" y=\"-616.8\" font-family=\"Times,serif\" font-size=\"14.00\">value = [5, 2]</text>\n",
       "</g>\n",
       "<!-- 32&#45;&gt;33 -->\n",
       "<g id=\"edge33\" class=\"edge\">\n",
       "<title>32&#45;&gt;33</title>\n",
       "<path fill=\"none\" stroke=\"black\" d=\"M1246.5,-712.88C1246.5,-704.78 1246.5,-695.98 1246.5,-687.47\"/>\n",
       "<polygon fill=\"black\" stroke=\"black\" points=\"1250,-687.3 1246.5,-677.3 1243,-687.3 1250,-687.3\"/>\n",
       "</g>\n",
       "<!-- 36 -->\n",
       "<g id=\"node37\" class=\"node\">\n",
       "<title>36</title>\n",
       "<polygon fill=\"none\" stroke=\"black\" points=\"1470,-677 1365,-677 1365,-609 1470,-609 1470,-677\"/>\n",
       "<text text-anchor=\"middle\" x=\"1417.5\" y=\"-661.8\" font-family=\"Times,serif\" font-size=\"14.00\">X[23] &lt;= 810.1</text>\n",
       "<text text-anchor=\"middle\" x=\"1417.5\" y=\"-646.8\" font-family=\"Times,serif\" font-size=\"14.00\">gini = 0.064</text>\n",
       "<text text-anchor=\"middle\" x=\"1417.5\" y=\"-631.8\" font-family=\"Times,serif\" font-size=\"14.00\">samples = 151</text>\n",
       "<text text-anchor=\"middle\" x=\"1417.5\" y=\"-616.8\" font-family=\"Times,serif\" font-size=\"14.00\">value = [5, 146]</text>\n",
       "</g>\n",
       "<!-- 32&#45;&gt;36 -->\n",
       "<g id=\"edge36\" class=\"edge\">\n",
       "<title>32&#45;&gt;36</title>\n",
       "<path fill=\"none\" stroke=\"black\" d=\"M1302.02,-712.88C1319.21,-702.63 1338.25,-691.27 1355.83,-680.78\"/>\n",
       "<polygon fill=\"black\" stroke=\"black\" points=\"1358.08,-683.52 1364.87,-675.39 1354.49,-677.51 1358.08,-683.52\"/>\n",
       "</g>\n",
       "<!-- 34 -->\n",
       "<g id=\"node35\" class=\"node\">\n",
       "<title>34</title>\n",
       "<polygon fill=\"none\" stroke=\"black\" points=\"1240.5,-565.5 1148.5,-565.5 1148.5,-512.5 1240.5,-512.5 1240.5,-565.5\"/>\n",
       "<text text-anchor=\"middle\" x=\"1194.5\" y=\"-550.3\" font-family=\"Times,serif\" font-size=\"14.00\">gini = 0.0</text>\n",
       "<text text-anchor=\"middle\" x=\"1194.5\" y=\"-535.3\" font-family=\"Times,serif\" font-size=\"14.00\">samples = 5</text>\n",
       "<text text-anchor=\"middle\" x=\"1194.5\" y=\"-520.3\" font-family=\"Times,serif\" font-size=\"14.00\">value = [5, 0]</text>\n",
       "</g>\n",
       "<!-- 33&#45;&gt;34 -->\n",
       "<g id=\"edge34\" class=\"edge\">\n",
       "<title>33&#45;&gt;34</title>\n",
       "<path fill=\"none\" stroke=\"black\" d=\"M1229.62,-608.88C1224.01,-597.89 1217.76,-585.62 1212.1,-574.52\"/>\n",
       "<polygon fill=\"black\" stroke=\"black\" points=\"1215.17,-572.84 1207.51,-565.52 1208.93,-576.02 1215.17,-572.84\"/>\n",
       "</g>\n",
       "<!-- 35 -->\n",
       "<g id=\"node36\" class=\"node\">\n",
       "<title>35</title>\n",
       "<polygon fill=\"none\" stroke=\"black\" points=\"1350.5,-565.5 1258.5,-565.5 1258.5,-512.5 1350.5,-512.5 1350.5,-565.5\"/>\n",
       "<text text-anchor=\"middle\" x=\"1304.5\" y=\"-550.3\" font-family=\"Times,serif\" font-size=\"14.00\">gini = 0.0</text>\n",
       "<text text-anchor=\"middle\" x=\"1304.5\" y=\"-535.3\" font-family=\"Times,serif\" font-size=\"14.00\">samples = 2</text>\n",
       "<text text-anchor=\"middle\" x=\"1304.5\" y=\"-520.3\" font-family=\"Times,serif\" font-size=\"14.00\">value = [0, 2]</text>\n",
       "</g>\n",
       "<!-- 33&#45;&gt;35 -->\n",
       "<g id=\"edge35\" class=\"edge\">\n",
       "<title>33&#45;&gt;35</title>\n",
       "<path fill=\"none\" stroke=\"black\" d=\"M1265.33,-608.88C1271.58,-597.89 1278.56,-585.62 1284.87,-574.52\"/>\n",
       "<polygon fill=\"black\" stroke=\"black\" points=\"1288.09,-575.94 1289.99,-565.52 1282,-572.48 1288.09,-575.94\"/>\n",
       "</g>\n",
       "<!-- 37 -->\n",
       "<g id=\"node38\" class=\"node\">\n",
       "<title>37</title>\n",
       "<polygon fill=\"none\" stroke=\"black\" points=\"1466,-573 1369,-573 1369,-505 1466,-505 1466,-573\"/>\n",
       "<text text-anchor=\"middle\" x=\"1417.5\" y=\"-557.8\" font-family=\"Times,serif\" font-size=\"14.00\">X[6] &lt;= 0.116</text>\n",
       "<text text-anchor=\"middle\" x=\"1417.5\" y=\"-542.8\" font-family=\"Times,serif\" font-size=\"14.00\">gini = 0.48</text>\n",
       "<text text-anchor=\"middle\" x=\"1417.5\" y=\"-527.8\" font-family=\"Times,serif\" font-size=\"14.00\">samples = 5</text>\n",
       "<text text-anchor=\"middle\" x=\"1417.5\" y=\"-512.8\" font-family=\"Times,serif\" font-size=\"14.00\">value = [3, 2]</text>\n",
       "</g>\n",
       "<!-- 36&#45;&gt;37 -->\n",
       "<g id=\"edge37\" class=\"edge\">\n",
       "<title>36&#45;&gt;37</title>\n",
       "<path fill=\"none\" stroke=\"black\" d=\"M1417.5,-608.88C1417.5,-600.78 1417.5,-591.98 1417.5,-583.47\"/>\n",
       "<polygon fill=\"black\" stroke=\"black\" points=\"1421,-583.3 1417.5,-573.3 1414,-583.3 1421,-583.3\"/>\n",
       "</g>\n",
       "<!-- 40 -->\n",
       "<g id=\"node41\" class=\"node\">\n",
       "<title>40</title>\n",
       "<polygon fill=\"none\" stroke=\"black\" points=\"1589,-573 1484,-573 1484,-505 1589,-505 1589,-573\"/>\n",
       "<text text-anchor=\"middle\" x=\"1536.5\" y=\"-557.8\" font-family=\"Times,serif\" font-size=\"14.00\">X[24] &lt;= 0.088</text>\n",
       "<text text-anchor=\"middle\" x=\"1536.5\" y=\"-542.8\" font-family=\"Times,serif\" font-size=\"14.00\">gini = 0.027</text>\n",
       "<text text-anchor=\"middle\" x=\"1536.5\" y=\"-527.8\" font-family=\"Times,serif\" font-size=\"14.00\">samples = 146</text>\n",
       "<text text-anchor=\"middle\" x=\"1536.5\" y=\"-512.8\" font-family=\"Times,serif\" font-size=\"14.00\">value = [2, 144]</text>\n",
       "</g>\n",
       "<!-- 36&#45;&gt;40 -->\n",
       "<g id=\"edge40\" class=\"edge\">\n",
       "<title>36&#45;&gt;40</title>\n",
       "<path fill=\"none\" stroke=\"black\" d=\"M1456.14,-608.88C1466.94,-599.62 1478.8,-589.45 1490.01,-579.85\"/>\n",
       "<polygon fill=\"black\" stroke=\"black\" points=\"1492.34,-582.46 1497.65,-573.3 1487.78,-577.15 1492.34,-582.46\"/>\n",
       "</g>\n",
       "<!-- 38 -->\n",
       "<g id=\"node39\" class=\"node\">\n",
       "<title>38</title>\n",
       "<polygon fill=\"none\" stroke=\"black\" points=\"1355.5,-461.5 1263.5,-461.5 1263.5,-408.5 1355.5,-408.5 1355.5,-461.5\"/>\n",
       "<text text-anchor=\"middle\" x=\"1309.5\" y=\"-446.3\" font-family=\"Times,serif\" font-size=\"14.00\">gini = 0.0</text>\n",
       "<text text-anchor=\"middle\" x=\"1309.5\" y=\"-431.3\" font-family=\"Times,serif\" font-size=\"14.00\">samples = 3</text>\n",
       "<text text-anchor=\"middle\" x=\"1309.5\" y=\"-416.3\" font-family=\"Times,serif\" font-size=\"14.00\">value = [3, 0]</text>\n",
       "</g>\n",
       "<!-- 37&#45;&gt;38 -->\n",
       "<g id=\"edge38\" class=\"edge\">\n",
       "<title>37&#45;&gt;38</title>\n",
       "<path fill=\"none\" stroke=\"black\" d=\"M1382.44,-504.88C1370.09,-493.23 1356.24,-480.14 1343.95,-468.53\"/>\n",
       "<polygon fill=\"black\" stroke=\"black\" points=\"1346.19,-465.84 1336.52,-461.52 1341.39,-470.93 1346.19,-465.84\"/>\n",
       "</g>\n",
       "<!-- 39 -->\n",
       "<g id=\"node40\" class=\"node\">\n",
       "<title>39</title>\n",
       "<polygon fill=\"none\" stroke=\"black\" points=\"1465.5,-461.5 1373.5,-461.5 1373.5,-408.5 1465.5,-408.5 1465.5,-461.5\"/>\n",
       "<text text-anchor=\"middle\" x=\"1419.5\" y=\"-446.3\" font-family=\"Times,serif\" font-size=\"14.00\">gini = 0.0</text>\n",
       "<text text-anchor=\"middle\" x=\"1419.5\" y=\"-431.3\" font-family=\"Times,serif\" font-size=\"14.00\">samples = 2</text>\n",
       "<text text-anchor=\"middle\" x=\"1419.5\" y=\"-416.3\" font-family=\"Times,serif\" font-size=\"14.00\">value = [0, 2]</text>\n",
       "</g>\n",
       "<!-- 37&#45;&gt;39 -->\n",
       "<g id=\"edge39\" class=\"edge\">\n",
       "<title>37&#45;&gt;39</title>\n",
       "<path fill=\"none\" stroke=\"black\" d=\"M1418.15,-504.88C1418.36,-494.22 1418.59,-482.35 1418.8,-471.52\"/>\n",
       "<polygon fill=\"black\" stroke=\"black\" points=\"1422.3,-471.59 1419,-461.52 1415.3,-471.45 1422.3,-471.59\"/>\n",
       "</g>\n",
       "<!-- 41 -->\n",
       "<g id=\"node42\" class=\"node\">\n",
       "<title>41</title>\n",
       "<polygon fill=\"none\" stroke=\"black\" points=\"1579.5,-461.5 1487.5,-461.5 1487.5,-408.5 1579.5,-408.5 1579.5,-461.5\"/>\n",
       "<text text-anchor=\"middle\" x=\"1533.5\" y=\"-446.3\" font-family=\"Times,serif\" font-size=\"14.00\">gini = 0.0</text>\n",
       "<text text-anchor=\"middle\" x=\"1533.5\" y=\"-431.3\" font-family=\"Times,serif\" font-size=\"14.00\">samples = 1</text>\n",
       "<text text-anchor=\"middle\" x=\"1533.5\" y=\"-416.3\" font-family=\"Times,serif\" font-size=\"14.00\">value = [1, 0]</text>\n",
       "</g>\n",
       "<!-- 40&#45;&gt;41 -->\n",
       "<g id=\"edge41\" class=\"edge\">\n",
       "<title>40&#45;&gt;41</title>\n",
       "<path fill=\"none\" stroke=\"black\" d=\"M1535.53,-504.88C1535.21,-494.22 1534.86,-482.35 1534.54,-471.52\"/>\n",
       "<polygon fill=\"black\" stroke=\"black\" points=\"1538.04,-471.41 1534.25,-461.52 1531.05,-471.62 1538.04,-471.41\"/>\n",
       "</g>\n",
       "<!-- 42 -->\n",
       "<g id=\"node43\" class=\"node\">\n",
       "<title>42</title>\n",
       "<polygon fill=\"none\" stroke=\"black\" points=\"1703,-469 1598,-469 1598,-401 1703,-401 1703,-469\"/>\n",
       "<text text-anchor=\"middle\" x=\"1650.5\" y=\"-453.8\" font-family=\"Times,serif\" font-size=\"14.00\">X[26] &lt;= 0.187</text>\n",
       "<text text-anchor=\"middle\" x=\"1650.5\" y=\"-438.8\" font-family=\"Times,serif\" font-size=\"14.00\">gini = 0.014</text>\n",
       "<text text-anchor=\"middle\" x=\"1650.5\" y=\"-423.8\" font-family=\"Times,serif\" font-size=\"14.00\">samples = 145</text>\n",
       "<text text-anchor=\"middle\" x=\"1650.5\" y=\"-408.8\" font-family=\"Times,serif\" font-size=\"14.00\">value = [1, 144]</text>\n",
       "</g>\n",
       "<!-- 40&#45;&gt;42 -->\n",
       "<g id=\"edge42\" class=\"edge\">\n",
       "<title>40&#45;&gt;42</title>\n",
       "<path fill=\"none\" stroke=\"black\" d=\"M1573.51,-504.88C1583.77,-495.71 1595.01,-485.65 1605.66,-476.12\"/>\n",
       "<polygon fill=\"black\" stroke=\"black\" points=\"1608.16,-478.58 1613.28,-469.3 1603.5,-473.36 1608.16,-478.58\"/>\n",
       "</g>\n",
       "<!-- 43 -->\n",
       "<g id=\"node44\" class=\"node\">\n",
       "<title>43</title>\n",
       "<polygon fill=\"none\" stroke=\"black\" points=\"1639,-365 1542,-365 1542,-297 1639,-297 1639,-365\"/>\n",
       "<text text-anchor=\"middle\" x=\"1590.5\" y=\"-349.8\" font-family=\"Times,serif\" font-size=\"14.00\">X[6] &lt;= 0.046</text>\n",
       "<text text-anchor=\"middle\" x=\"1590.5\" y=\"-334.8\" font-family=\"Times,serif\" font-size=\"14.00\">gini = 0.444</text>\n",
       "<text text-anchor=\"middle\" x=\"1590.5\" y=\"-319.8\" font-family=\"Times,serif\" font-size=\"14.00\">samples = 3</text>\n",
       "<text text-anchor=\"middle\" x=\"1590.5\" y=\"-304.8\" font-family=\"Times,serif\" font-size=\"14.00\">value = [1, 2]</text>\n",
       "</g>\n",
       "<!-- 42&#45;&gt;43 -->\n",
       "<g id=\"edge43\" class=\"edge\">\n",
       "<title>42&#45;&gt;43</title>\n",
       "<path fill=\"none\" stroke=\"black\" d=\"M1631.02,-400.88C1625.99,-392.33 1620.51,-383.01 1615.25,-374.07\"/>\n",
       "<polygon fill=\"black\" stroke=\"black\" points=\"1618.17,-372.14 1610.09,-365.3 1612.14,-375.69 1618.17,-372.14\"/>\n",
       "</g>\n",
       "<!-- 46 -->\n",
       "<g id=\"node47\" class=\"node\">\n",
       "<title>46</title>\n",
       "<polygon fill=\"none\" stroke=\"black\" points=\"1762,-357.5 1657,-357.5 1657,-304.5 1762,-304.5 1762,-357.5\"/>\n",
       "<text text-anchor=\"middle\" x=\"1709.5\" y=\"-342.3\" font-family=\"Times,serif\" font-size=\"14.00\">gini = 0.0</text>\n",
       "<text text-anchor=\"middle\" x=\"1709.5\" y=\"-327.3\" font-family=\"Times,serif\" font-size=\"14.00\">samples = 142</text>\n",
       "<text text-anchor=\"middle\" x=\"1709.5\" y=\"-312.3\" font-family=\"Times,serif\" font-size=\"14.00\">value = [0, 142]</text>\n",
       "</g>\n",
       "<!-- 42&#45;&gt;46 -->\n",
       "<g id=\"edge46\" class=\"edge\">\n",
       "<title>42&#45;&gt;46</title>\n",
       "<path fill=\"none\" stroke=\"black\" d=\"M1669.66,-400.88C1676.08,-389.78 1683.26,-377.37 1689.73,-366.18\"/>\n",
       "<polygon fill=\"black\" stroke=\"black\" points=\"1692.76,-367.93 1694.74,-357.52 1686.7,-364.42 1692.76,-367.93\"/>\n",
       "</g>\n",
       "<!-- 44 -->\n",
       "<g id=\"node45\" class=\"node\">\n",
       "<title>44</title>\n",
       "<polygon fill=\"none\" stroke=\"black\" points=\"1581.5,-253.5 1489.5,-253.5 1489.5,-200.5 1581.5,-200.5 1581.5,-253.5\"/>\n",
       "<text text-anchor=\"middle\" x=\"1535.5\" y=\"-238.3\" font-family=\"Times,serif\" font-size=\"14.00\">gini = 0.0</text>\n",
       "<text text-anchor=\"middle\" x=\"1535.5\" y=\"-223.3\" font-family=\"Times,serif\" font-size=\"14.00\">samples = 2</text>\n",
       "<text text-anchor=\"middle\" x=\"1535.5\" y=\"-208.3\" font-family=\"Times,serif\" font-size=\"14.00\">value = [0, 2]</text>\n",
       "</g>\n",
       "<!-- 43&#45;&gt;44 -->\n",
       "<g id=\"edge44\" class=\"edge\">\n",
       "<title>43&#45;&gt;44</title>\n",
       "<path fill=\"none\" stroke=\"black\" d=\"M1572.64,-296.88C1566.71,-285.89 1560.1,-273.62 1554.11,-262.52\"/>\n",
       "<polygon fill=\"black\" stroke=\"black\" points=\"1557.09,-260.66 1549.26,-253.52 1550.93,-263.98 1557.09,-260.66\"/>\n",
       "</g>\n",
       "<!-- 45 -->\n",
       "<g id=\"node46\" class=\"node\">\n",
       "<title>45</title>\n",
       "<polygon fill=\"none\" stroke=\"black\" points=\"1691.5,-253.5 1599.5,-253.5 1599.5,-200.5 1691.5,-200.5 1691.5,-253.5\"/>\n",
       "<text text-anchor=\"middle\" x=\"1645.5\" y=\"-238.3\" font-family=\"Times,serif\" font-size=\"14.00\">gini = 0.0</text>\n",
       "<text text-anchor=\"middle\" x=\"1645.5\" y=\"-223.3\" font-family=\"Times,serif\" font-size=\"14.00\">samples = 1</text>\n",
       "<text text-anchor=\"middle\" x=\"1645.5\" y=\"-208.3\" font-family=\"Times,serif\" font-size=\"14.00\">value = [1, 0]</text>\n",
       "</g>\n",
       "<!-- 43&#45;&gt;45 -->\n",
       "<g id=\"edge45\" class=\"edge\">\n",
       "<title>43&#45;&gt;45</title>\n",
       "<path fill=\"none\" stroke=\"black\" d=\"M1608.36,-296.88C1614.29,-285.89 1620.9,-273.62 1626.89,-262.52\"/>\n",
       "<polygon fill=\"black\" stroke=\"black\" points=\"1630.07,-263.98 1631.74,-253.52 1623.91,-260.66 1630.07,-263.98\"/>\n",
       "</g>\n",
       "</g>\n",
       "</svg>\n"
      ],
      "text/plain": [
       "<graphviz.files.Source at 0x7f52741fef90>"
      ]
     },
     "execution_count": 49,
     "metadata": {},
     "output_type": "execute_result"
    }
   ],
   "source": [
    "# Graphical representation for Decision tree\n",
    "from sklearn.tree import export_graphviz\n",
    "import graphviz\n",
    "\n",
    "export_graphviz(tree, out_file=\"mytree.dot\")\n",
    "with open(\"mytree.dot\") as f:\n",
    "    dot_graph = f.read()\n",
    "graphviz.Source(dot_graph)"
   ]
  }
 ],
 "metadata": {
  "kernelspec": {
   "display_name": "Python 3",
   "language": "python",
   "name": "python3"
  },
  "language_info": {
   "codemirror_mode": {
    "name": "ipython",
    "version": 3
   },
   "file_extension": ".py",
   "mimetype": "text/x-python",
   "name": "python",
   "nbconvert_exporter": "python",
   "pygments_lexer": "ipython3",
   "version": "3.7.6"
  },
  "papermill": {
   "duration": 175.678382,
   "end_time": "2021-01-21T17:11:00.485785",
   "environment_variables": {},
   "exception": null,
   "input_path": "__notebook__.ipynb",
   "output_path": "__notebook__.ipynb",
   "parameters": {},
   "start_time": "2021-01-21T17:08:04.807403",
   "version": "2.1.0"
  }
 },
 "nbformat": 4,
 "nbformat_minor": 4
}
